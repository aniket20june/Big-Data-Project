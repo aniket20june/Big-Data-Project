{
  "nbformat": 4,
  "nbformat_minor": 0,
  "metadata": {
    "colab": {
      "name": "Big Data Project_On Github.ipynb",
      "provenance": [],
      "mount_file_id": "1R6KTFzlLOUnhush8R-NTkI645HTG3kMd",
      "authorship_tag": "ABX9TyNdqbLRlNRtRk0tQjQH3OJB",
      "include_colab_link": true
    },
    "kernelspec": {
      "name": "python3",
      "display_name": "Python 3"
    },
    "accelerator": "GPU"
  },
  "cells": [
    {
      "cell_type": "markdown",
      "metadata": {
        "id": "view-in-github",
        "colab_type": "text"
      },
      "source": [
        "<a href=\"https://colab.research.google.com/github/aniket20june/Big-Data-Project/blob/main/Big_Data_Project_On_Github.ipynb\" target=\"_parent\"><img src=\"https://colab.research.google.com/assets/colab-badge.svg\" alt=\"Open In Colab\"/></a>"
      ]
    },
    {
      "cell_type": "code",
      "metadata": {
        "id": "6w8VL8ljGU3V"
      },
      "source": [
        "import numpy as np"
      ],
      "execution_count": 1,
      "outputs": []
    },
    {
      "cell_type": "code",
      "metadata": {
        "id": "nUMwI1MxGjLT"
      },
      "source": [
        "import pandas as pd"
      ],
      "execution_count": 2,
      "outputs": []
    },
    {
      "cell_type": "code",
      "metadata": {
        "id": "RROntOLvGmVi"
      },
      "source": [
        "import seaborn as sns\n",
        "import matplotlib.pyplot as plt"
      ],
      "execution_count": 3,
      "outputs": []
    },
    {
      "cell_type": "code",
      "metadata": {
        "colab": {
          "base_uri": "https://localhost:8080/"
        },
        "id": "GAkqKuzUVVp2",
        "outputId": "bd6ea809-1d1d-44a2-ce12-faa0135610c4"
      },
      "source": [
        "from google.colab import drive\n",
        "drive.mount('/content/gdrive')"
      ],
      "execution_count": 4,
      "outputs": [
        {
          "output_type": "stream",
          "text": [
            "Mounted at /content/gdrive\n"
          ],
          "name": "stdout"
        }
      ]
    },
    {
      "cell_type": "code",
      "metadata": {
        "id": "r5Nsr6CB2pBc",
        "colab": {
          "base_uri": "https://localhost:8080/"
        },
        "outputId": "1107896e-a54e-4c89-c6a3-f7c32c18bf1b"
      },
      "source": [
        "bd = pd.read_csv('gdrive/MyDrive/abc.csv', delimiter=',')"
      ],
      "execution_count": 5,
      "outputs": [
        {
          "output_type": "stream",
          "text": [
            "/usr/local/lib/python3.6/dist-packages/IPython/core/interactiveshell.py:2718: DtypeWarning: Columns (16,19,20,21,22,23,25,32) have mixed types.Specify dtype option on import or set low_memory=False.\n",
            "  interactivity=interactivity, compiler=compiler, result=result)\n"
          ],
          "name": "stderr"
        }
      ]
    },
    {
      "cell_type": "code",
      "metadata": {
        "colab": {
          "base_uri": "https://localhost:8080/",
          "height": 976
        },
        "id": "CWsEE5i4XBD3",
        "outputId": "f8747e24-9396-41ff-ff8d-992e8018c2e8"
      },
      "source": [
        "bd"
      ],
      "execution_count": 6,
      "outputs": [
        {
          "output_type": "execute_result",
          "data": {
            "text/html": [
              "<div>\n",
              "<style scoped>\n",
              "    .dataframe tbody tr th:only-of-type {\n",
              "        vertical-align: middle;\n",
              "    }\n",
              "\n",
              "    .dataframe tbody tr th {\n",
              "        vertical-align: top;\n",
              "    }\n",
              "\n",
              "    .dataframe thead th {\n",
              "        text-align: right;\n",
              "    }\n",
              "</style>\n",
              "<table border=\"1\" class=\"dataframe\">\n",
              "  <thead>\n",
              "    <tr style=\"text-align: right;\">\n",
              "      <th></th>\n",
              "      <th>End of Period</th>\n",
              "      <th>Loan Number</th>\n",
              "      <th>Region</th>\n",
              "      <th>Country Code</th>\n",
              "      <th>Country</th>\n",
              "      <th>Borrower</th>\n",
              "      <th>Guarantor Country Code</th>\n",
              "      <th>Guarantor</th>\n",
              "      <th>Loan Type</th>\n",
              "      <th>Loan Status</th>\n",
              "      <th>Interest Rate</th>\n",
              "      <th>Currency of Commitment</th>\n",
              "      <th>Project ID</th>\n",
              "      <th>Project Name</th>\n",
              "      <th>Original Principal Amount</th>\n",
              "      <th>Cancelled Amount</th>\n",
              "      <th>Undisbursed Amount</th>\n",
              "      <th>Disbursed Amount</th>\n",
              "      <th>Repaid to IBRD</th>\n",
              "      <th>Due to IBRD</th>\n",
              "      <th>Exchange Adjustment</th>\n",
              "      <th>Borrower's Obligation</th>\n",
              "      <th>Sold 3rd Party</th>\n",
              "      <th>Repaid 3rd Party</th>\n",
              "      <th>Due 3rd Party</th>\n",
              "      <th>Loans Held</th>\n",
              "      <th>First Repayment Date</th>\n",
              "      <th>Last Repayment Date</th>\n",
              "      <th>Agreement Signing Date</th>\n",
              "      <th>Board Approval Date</th>\n",
              "      <th>Effective Date (Most Recent)</th>\n",
              "      <th>Closed Date (Most Recent)</th>\n",
              "      <th>Last Disbursement Date</th>\n",
              "    </tr>\n",
              "  </thead>\n",
              "  <tbody>\n",
              "    <tr>\n",
              "      <th>0</th>\n",
              "      <td>06/30/2020 12:00:00 AM</td>\n",
              "      <td>IBRD00010</td>\n",
              "      <td>EUROPE AND CENTRAL ASIA</td>\n",
              "      <td>FR</td>\n",
              "      <td>France</td>\n",
              "      <td>CREDIT NATIONAL</td>\n",
              "      <td>FR</td>\n",
              "      <td>France</td>\n",
              "      <td>NPL</td>\n",
              "      <td>Fully Repaid</td>\n",
              "      <td>4.25</td>\n",
              "      <td>NaN</td>\n",
              "      <td>P037383</td>\n",
              "      <td>RECONSTRUCTION</td>\n",
              "      <td>250,000,000</td>\n",
              "      <td>0</td>\n",
              "      <td>0</td>\n",
              "      <td>250,000,000</td>\n",
              "      <td>38,000</td>\n",
              "      <td>0</td>\n",
              "      <td>0</td>\n",
              "      <td>0</td>\n",
              "      <td>249,962,000</td>\n",
              "      <td>249,962,000</td>\n",
              "      <td>0</td>\n",
              "      <td>0</td>\n",
              "      <td>11/01/1952 12:00:00 AM</td>\n",
              "      <td>05/01/1977 12:00:00 AM</td>\n",
              "      <td>05/09/1947 12:00:00 AM</td>\n",
              "      <td>05/09/1947 12:00:00 AM</td>\n",
              "      <td>06/09/1947 12:00:00 AM</td>\n",
              "      <td>12/31/1947 12:00:00 AM</td>\n",
              "      <td>NaN</td>\n",
              "    </tr>\n",
              "    <tr>\n",
              "      <th>1</th>\n",
              "      <td>06/30/2020 12:00:00 AM</td>\n",
              "      <td>IBRD00020</td>\n",
              "      <td>EUROPE AND CENTRAL ASIA</td>\n",
              "      <td>NL</td>\n",
              "      <td>Netherlands</td>\n",
              "      <td>NaN</td>\n",
              "      <td>NaN</td>\n",
              "      <td>NaN</td>\n",
              "      <td>NPL</td>\n",
              "      <td>Fully Repaid</td>\n",
              "      <td>4.25</td>\n",
              "      <td>NaN</td>\n",
              "      <td>P037452</td>\n",
              "      <td>RECONSTRUCTION</td>\n",
              "      <td>191,044,211.8</td>\n",
              "      <td>0</td>\n",
              "      <td>0</td>\n",
              "      <td>191,044,211.8</td>\n",
              "      <td>103,372,211.8</td>\n",
              "      <td>0</td>\n",
              "      <td>-0.01</td>\n",
              "      <td>-0.01</td>\n",
              "      <td>87,672,000</td>\n",
              "      <td>87,672,000</td>\n",
              "      <td>0</td>\n",
              "      <td>0</td>\n",
              "      <td>04/01/1952 12:00:00 AM</td>\n",
              "      <td>10/01/1972 12:00:00 AM</td>\n",
              "      <td>08/07/1947 12:00:00 AM</td>\n",
              "      <td>08/07/1947 12:00:00 AM</td>\n",
              "      <td>09/11/1947 12:00:00 AM</td>\n",
              "      <td>03/31/1948 12:00:00 AM</td>\n",
              "      <td>NaN</td>\n",
              "    </tr>\n",
              "    <tr>\n",
              "      <th>2</th>\n",
              "      <td>06/30/2020 12:00:00 AM</td>\n",
              "      <td>IBRD00021</td>\n",
              "      <td>EUROPE AND CENTRAL ASIA</td>\n",
              "      <td>NL</td>\n",
              "      <td>Netherlands</td>\n",
              "      <td>NaN</td>\n",
              "      <td>NaN</td>\n",
              "      <td>NaN</td>\n",
              "      <td>NPL</td>\n",
              "      <td>Fully Repaid</td>\n",
              "      <td>4.25</td>\n",
              "      <td>NaN</td>\n",
              "      <td>P037452</td>\n",
              "      <td>RECONSTRUCTION</td>\n",
              "      <td>3,955,788.25</td>\n",
              "      <td>0</td>\n",
              "      <td>0</td>\n",
              "      <td>3,955,788.25</td>\n",
              "      <td>0</td>\n",
              "      <td>0</td>\n",
              "      <td>0</td>\n",
              "      <td>0</td>\n",
              "      <td>3,955,788.25</td>\n",
              "      <td>3,955,788.25</td>\n",
              "      <td>0</td>\n",
              "      <td>0</td>\n",
              "      <td>04/01/1953 12:00:00 AM</td>\n",
              "      <td>04/01/1954 12:00:00 AM</td>\n",
              "      <td>05/25/1948 12:00:00 AM</td>\n",
              "      <td>08/07/1947 12:00:00 AM</td>\n",
              "      <td>06/01/1948 12:00:00 AM</td>\n",
              "      <td>06/30/1948 12:00:00 AM</td>\n",
              "      <td>NaN</td>\n",
              "    </tr>\n",
              "    <tr>\n",
              "      <th>3</th>\n",
              "      <td>06/30/2020 12:00:00 AM</td>\n",
              "      <td>IBRD00030</td>\n",
              "      <td>EUROPE AND CENTRAL ASIA</td>\n",
              "      <td>DK</td>\n",
              "      <td>Denmark</td>\n",
              "      <td>NaN</td>\n",
              "      <td>NaN</td>\n",
              "      <td>NaN</td>\n",
              "      <td>NPL</td>\n",
              "      <td>Fully Repaid</td>\n",
              "      <td>4.25</td>\n",
              "      <td>NaN</td>\n",
              "      <td>P037362</td>\n",
              "      <td>RECONSTRUCTION</td>\n",
              "      <td>40,000,000</td>\n",
              "      <td>0</td>\n",
              "      <td>0</td>\n",
              "      <td>40,000,000</td>\n",
              "      <td>17,771,000</td>\n",
              "      <td>0</td>\n",
              "      <td>0</td>\n",
              "      <td>0</td>\n",
              "      <td>22,229,000</td>\n",
              "      <td>22,229,000</td>\n",
              "      <td>0</td>\n",
              "      <td>0</td>\n",
              "      <td>02/01/1953 12:00:00 AM</td>\n",
              "      <td>08/01/1972 12:00:00 AM</td>\n",
              "      <td>08/22/1947 12:00:00 AM</td>\n",
              "      <td>08/22/1947 12:00:00 AM</td>\n",
              "      <td>10/17/1947 12:00:00 AM</td>\n",
              "      <td>03/31/1949 12:00:00 AM</td>\n",
              "      <td>NaN</td>\n",
              "    </tr>\n",
              "    <tr>\n",
              "      <th>4</th>\n",
              "      <td>06/30/2020 12:00:00 AM</td>\n",
              "      <td>IBRD00040</td>\n",
              "      <td>EUROPE AND CENTRAL ASIA</td>\n",
              "      <td>LU</td>\n",
              "      <td>Luxembourg</td>\n",
              "      <td>NaN</td>\n",
              "      <td>NaN</td>\n",
              "      <td>NaN</td>\n",
              "      <td>NPL</td>\n",
              "      <td>Fully Repaid</td>\n",
              "      <td>4.25</td>\n",
              "      <td>NaN</td>\n",
              "      <td>P037451</td>\n",
              "      <td>RECONSTRUCTION</td>\n",
              "      <td>12,000,000</td>\n",
              "      <td>238,016.98</td>\n",
              "      <td>0</td>\n",
              "      <td>11,761,983.02</td>\n",
              "      <td>1,619,983.02</td>\n",
              "      <td>0</td>\n",
              "      <td>-0.01</td>\n",
              "      <td>-0.01</td>\n",
              "      <td>10,142,000</td>\n",
              "      <td>10,142,000</td>\n",
              "      <td>0</td>\n",
              "      <td>0</td>\n",
              "      <td>07/15/1949 12:00:00 AM</td>\n",
              "      <td>07/15/1972 12:00:00 AM</td>\n",
              "      <td>08/28/1947 12:00:00 AM</td>\n",
              "      <td>08/28/1947 12:00:00 AM</td>\n",
              "      <td>10/24/1947 12:00:00 AM</td>\n",
              "      <td>03/31/1949 12:00:00 AM</td>\n",
              "      <td>NaN</td>\n",
              "    </tr>\n",
              "    <tr>\n",
              "      <th>...</th>\n",
              "      <td>...</td>\n",
              "      <td>...</td>\n",
              "      <td>...</td>\n",
              "      <td>...</td>\n",
              "      <td>...</td>\n",
              "      <td>...</td>\n",
              "      <td>...</td>\n",
              "      <td>...</td>\n",
              "      <td>...</td>\n",
              "      <td>...</td>\n",
              "      <td>...</td>\n",
              "      <td>...</td>\n",
              "      <td>...</td>\n",
              "      <td>...</td>\n",
              "      <td>...</td>\n",
              "      <td>...</td>\n",
              "      <td>...</td>\n",
              "      <td>...</td>\n",
              "      <td>...</td>\n",
              "      <td>...</td>\n",
              "      <td>...</td>\n",
              "      <td>...</td>\n",
              "      <td>...</td>\n",
              "      <td>...</td>\n",
              "      <td>...</td>\n",
              "      <td>...</td>\n",
              "      <td>...</td>\n",
              "      <td>...</td>\n",
              "      <td>...</td>\n",
              "      <td>...</td>\n",
              "      <td>...</td>\n",
              "      <td>...</td>\n",
              "      <td>...</td>\n",
              "    </tr>\n",
              "    <tr>\n",
              "      <th>960444</th>\n",
              "      <td>08/31/2020 12:00:00 AM</td>\n",
              "      <td>IBRDS0160</td>\n",
              "      <td>MIDDLE EAST AND NORTH AFRICA</td>\n",
              "      <td>DZ</td>\n",
              "      <td>Algeria</td>\n",
              "      <td>MINISTERE DES FINANCES</td>\n",
              "      <td>DZ</td>\n",
              "      <td>Algeria</td>\n",
              "      <td>NPL</td>\n",
              "      <td>Fully Cancelled</td>\n",
              "      <td>0.00</td>\n",
              "      <td>NaN</td>\n",
              "      <td>P004894</td>\n",
              "      <td>SN METAL TECHNICAL ASST</td>\n",
              "      <td>20,000,000</td>\n",
              "      <td>20,000,000</td>\n",
              "      <td>0</td>\n",
              "      <td>0</td>\n",
              "      <td>0</td>\n",
              "      <td>0</td>\n",
              "      <td>0</td>\n",
              "      <td>0</td>\n",
              "      <td>0</td>\n",
              "      <td>0</td>\n",
              "      <td>0</td>\n",
              "      <td>0</td>\n",
              "      <td>05/15/1984 12:00:00 AM</td>\n",
              "      <td>11/15/1989 12:00:00 AM</td>\n",
              "      <td>NaN</td>\n",
              "      <td>11/13/1979 12:00:00 AM</td>\n",
              "      <td>11/13/1979 12:00:00 AM</td>\n",
              "      <td>06/30/1983 12:00:00 AM</td>\n",
              "      <td>NaN</td>\n",
              "    </tr>\n",
              "    <tr>\n",
              "      <th>960445</th>\n",
              "      <td>08/31/2020 12:00:00 AM</td>\n",
              "      <td>IBRDS0170</td>\n",
              "      <td>MIDDLE EAST AND NORTH AFRICA</td>\n",
              "      <td>DZ</td>\n",
              "      <td>Algeria</td>\n",
              "      <td>MINISTERE DES FINANCES</td>\n",
              "      <td>DZ</td>\n",
              "      <td>Algeria</td>\n",
              "      <td>NPL</td>\n",
              "      <td>Fully Repaid</td>\n",
              "      <td>7.95</td>\n",
              "      <td>NaN</td>\n",
              "      <td>P004895</td>\n",
              "      <td>WATER SUP &amp; ENG.</td>\n",
              "      <td>5,000,000</td>\n",
              "      <td>1,388,308.92</td>\n",
              "      <td>0</td>\n",
              "      <td>3,611,691.08</td>\n",
              "      <td>3,611,691.08</td>\n",
              "      <td>0</td>\n",
              "      <td>0</td>\n",
              "      <td>0</td>\n",
              "      <td>0</td>\n",
              "      <td>0</td>\n",
              "      <td>0</td>\n",
              "      <td>0</td>\n",
              "      <td>11/15/1983 12:00:00 AM</td>\n",
              "      <td>11/15/1989 12:00:00 AM</td>\n",
              "      <td>02/14/1980 12:00:00 AM</td>\n",
              "      <td>01/15/1980 12:00:00 AM</td>\n",
              "      <td>09/17/1980 12:00:00 AM</td>\n",
              "      <td>12/31/1984 12:00:00 AM</td>\n",
              "      <td>11/13/1985 12:00:00 AM</td>\n",
              "    </tr>\n",
              "    <tr>\n",
              "      <th>960446</th>\n",
              "      <td>08/31/2020 12:00:00 AM</td>\n",
              "      <td>IBRDS0180</td>\n",
              "      <td>MIDDLE EAST AND NORTH AFRICA</td>\n",
              "      <td>MA</td>\n",
              "      <td>Morocco</td>\n",
              "      <td>ONAREP</td>\n",
              "      <td>MA</td>\n",
              "      <td>Morocco</td>\n",
              "      <td>NPL</td>\n",
              "      <td>Fully Repaid</td>\n",
              "      <td>8.25</td>\n",
              "      <td>NaN</td>\n",
              "      <td>P005392</td>\n",
              "      <td>PETROLEUM EXPLORATION I</td>\n",
              "      <td>50,000,000</td>\n",
              "      <td>103,917.29</td>\n",
              "      <td>0</td>\n",
              "      <td>49,896,082.71</td>\n",
              "      <td>49,896,082.71</td>\n",
              "      <td>0</td>\n",
              "      <td>0</td>\n",
              "      <td>0</td>\n",
              "      <td>0</td>\n",
              "      <td>0</td>\n",
              "      <td>0</td>\n",
              "      <td>0</td>\n",
              "      <td>11/01/1984 12:00:00 AM</td>\n",
              "      <td>05/01/1997 12:00:00 AM</td>\n",
              "      <td>05/19/1980 12:00:00 AM</td>\n",
              "      <td>04/15/1980 12:00:00 AM</td>\n",
              "      <td>10/24/1980 12:00:00 AM</td>\n",
              "      <td>06/30/1984 12:00:00 AM</td>\n",
              "      <td>NaN</td>\n",
              "    </tr>\n",
              "    <tr>\n",
              "      <th>960447</th>\n",
              "      <td>08/31/2020 12:00:00 AM</td>\n",
              "      <td>IBRDS0190</td>\n",
              "      <td>LATIN AMERICA AND CARIBBEAN</td>\n",
              "      <td>PE</td>\n",
              "      <td>Peru</td>\n",
              "      <td>EMPRESA SIDERURGICA DEL PERU</td>\n",
              "      <td>PE</td>\n",
              "      <td>Peru</td>\n",
              "      <td>NPL</td>\n",
              "      <td>Fully Repaid</td>\n",
              "      <td>8.25</td>\n",
              "      <td>NaN</td>\n",
              "      <td>P007969</td>\n",
              "      <td>SIDERPERU TA</td>\n",
              "      <td>5,000,000</td>\n",
              "      <td>3,643,143.25</td>\n",
              "      <td>0</td>\n",
              "      <td>1,356,856.75</td>\n",
              "      <td>1,356,856.75</td>\n",
              "      <td>0</td>\n",
              "      <td>0</td>\n",
              "      <td>0</td>\n",
              "      <td>0</td>\n",
              "      <td>0</td>\n",
              "      <td>0</td>\n",
              "      <td>0</td>\n",
              "      <td>12/15/1984 12:00:00 AM</td>\n",
              "      <td>12/15/1990 12:00:00 AM</td>\n",
              "      <td>12/15/1980 12:00:00 AM</td>\n",
              "      <td>07/15/1980 12:00:00 AM</td>\n",
              "      <td>04/16/1981 12:00:00 AM</td>\n",
              "      <td>06/30/1986 12:00:00 AM</td>\n",
              "      <td>10/11/1983 12:00:00 AM</td>\n",
              "    </tr>\n",
              "    <tr>\n",
              "      <th>960448</th>\n",
              "      <td>08/31/2020 12:00:00 AM</td>\n",
              "      <td>IBRDS0200</td>\n",
              "      <td>LATIN AMERICA AND CARIBBEAN</td>\n",
              "      <td>AR</td>\n",
              "      <td>Argentina</td>\n",
              "      <td>Ministry of Treasury</td>\n",
              "      <td>AR</td>\n",
              "      <td>Argentina</td>\n",
              "      <td>CPL</td>\n",
              "      <td>Fully Repaid</td>\n",
              "      <td>9.25</td>\n",
              "      <td>NaN</td>\n",
              "      <td>P005939</td>\n",
              "      <td>COAL EXPLORATION</td>\n",
              "      <td>10,000,000</td>\n",
              "      <td>0</td>\n",
              "      <td>0</td>\n",
              "      <td>10,000,000</td>\n",
              "      <td>10,000,000</td>\n",
              "      <td>0</td>\n",
              "      <td>0</td>\n",
              "      <td>0</td>\n",
              "      <td>0</td>\n",
              "      <td>0</td>\n",
              "      <td>0</td>\n",
              "      <td>0</td>\n",
              "      <td>06/01/1985 12:00:00 AM</td>\n",
              "      <td>12/01/1990 12:00:00 AM</td>\n",
              "      <td>05/13/1981 12:00:00 AM</td>\n",
              "      <td>12/09/1980 12:00:00 AM</td>\n",
              "      <td>04/07/1982 12:00:00 AM</td>\n",
              "      <td>02/28/1987 12:00:00 AM</td>\n",
              "      <td>NaN</td>\n",
              "    </tr>\n",
              "  </tbody>\n",
              "</table>\n",
              "<p>960449 rows × 33 columns</p>\n",
              "</div>"
            ],
            "text/plain": [
              "                 End of Period  ...  Last Disbursement Date\n",
              "0       06/30/2020 12:00:00 AM  ...                     NaN\n",
              "1       06/30/2020 12:00:00 AM  ...                     NaN\n",
              "2       06/30/2020 12:00:00 AM  ...                     NaN\n",
              "3       06/30/2020 12:00:00 AM  ...                     NaN\n",
              "4       06/30/2020 12:00:00 AM  ...                     NaN\n",
              "...                        ...  ...                     ...\n",
              "960444  08/31/2020 12:00:00 AM  ...                     NaN\n",
              "960445  08/31/2020 12:00:00 AM  ...  11/13/1985 12:00:00 AM\n",
              "960446  08/31/2020 12:00:00 AM  ...                     NaN\n",
              "960447  08/31/2020 12:00:00 AM  ...  10/11/1983 12:00:00 AM\n",
              "960448  08/31/2020 12:00:00 AM  ...                     NaN\n",
              "\n",
              "[960449 rows x 33 columns]"
            ]
          },
          "metadata": {
            "tags": []
          },
          "execution_count": 6
        }
      ]
    },
    {
      "cell_type": "code",
      "metadata": {
        "id": "apJByZek9dfg"
      },
      "source": [
        "a=bd.loc[bd['Country']=='India']"
      ],
      "execution_count": 7,
      "outputs": []
    },
    {
      "cell_type": "code",
      "metadata": {
        "id": "2EwzoRvY1MfQ"
      },
      "source": [
        "bd.drop(['Currency of Commitment', 'First Repayment Date', 'Closed Date (Most Recent)', 'Effective Date (Most Recent)', 'Board Approval Date', 'Agreement Signing Date', 'Last Repayment Date', 'First Repayment Date', 'Last Disbursement Date'],\n",
        "        axis=1, inplace=True)"
      ],
      "execution_count": 8,
      "outputs": []
    },
    {
      "cell_type": "code",
      "metadata": {
        "id": "V9mnPUehrte0"
      },
      "source": [
        "bd.drop(['Due 3rd Party'],axis=1,inplace=True)"
      ],
      "execution_count": 9,
      "outputs": []
    },
    {
      "cell_type": "code",
      "metadata": {
        "id": "p4iqDqHW3KJw"
      },
      "source": [
        "bd.dropna(inplace=True)"
      ],
      "execution_count": 10,
      "outputs": []
    },
    {
      "cell_type": "code",
      "metadata": {
        "id": "1ga-czXy8OM_",
        "colab": {
          "base_uri": "https://localhost:8080/"
        },
        "outputId": "fb84f5d8-f221-48fa-b610-18fb7fbfa3b9"
      },
      "source": [
        "bd.info()"
      ],
      "execution_count": 11,
      "outputs": [
        {
          "output_type": "stream",
          "text": [
            "<class 'pandas.core.frame.DataFrame'>\n",
            "Int64Index: 694595 entries, 0 to 960448\n",
            "Data columns (total 24 columns):\n",
            " #   Column                     Non-Null Count   Dtype  \n",
            "---  ------                     --------------   -----  \n",
            " 0   End of Period              694595 non-null  object \n",
            " 1   Loan Number                694595 non-null  object \n",
            " 2   Region                     694595 non-null  object \n",
            " 3   Country Code               694595 non-null  object \n",
            " 4   Country                    694595 non-null  object \n",
            " 5   Borrower                   694595 non-null  object \n",
            " 6   Guarantor Country Code     694595 non-null  object \n",
            " 7   Guarantor                  694595 non-null  object \n",
            " 8   Loan Type                  694595 non-null  object \n",
            " 9   Loan Status                694595 non-null  object \n",
            " 10  Interest Rate              694595 non-null  float64\n",
            " 11  Project ID                 694595 non-null  object \n",
            " 12  Project Name               694595 non-null  object \n",
            " 13  Original Principal Amount  694595 non-null  object \n",
            " 14  Cancelled Amount           694595 non-null  object \n",
            " 15  Undisbursed Amount         694595 non-null  object \n",
            " 16  Disbursed Amount           694595 non-null  object \n",
            " 17  Repaid to IBRD             694595 non-null  object \n",
            " 18  Due to IBRD                694595 non-null  object \n",
            " 19  Exchange Adjustment        694595 non-null  object \n",
            " 20  Borrower's Obligation      694595 non-null  object \n",
            " 21  Sold 3rd Party             694595 non-null  object \n",
            " 22  Repaid 3rd Party           694595 non-null  object \n",
            " 23  Loans Held                 694595 non-null  object \n",
            "dtypes: float64(1), object(23)\n",
            "memory usage: 132.5+ MB\n"
          ],
          "name": "stdout"
        }
      ]
    },
    {
      "cell_type": "code",
      "metadata": {
        "id": "HTx1nW0x8ZqL",
        "colab": {
          "base_uri": "https://localhost:8080/",
          "height": 284
        },
        "outputId": "56f0cec5-9a6e-49be-cef5-44d01e4ceb28"
      },
      "source": [
        "bd.describe()"
      ],
      "execution_count": 12,
      "outputs": [
        {
          "output_type": "execute_result",
          "data": {
            "text/html": [
              "<div>\n",
              "<style scoped>\n",
              "    .dataframe tbody tr th:only-of-type {\n",
              "        vertical-align: middle;\n",
              "    }\n",
              "\n",
              "    .dataframe tbody tr th {\n",
              "        vertical-align: top;\n",
              "    }\n",
              "\n",
              "    .dataframe thead th {\n",
              "        text-align: right;\n",
              "    }\n",
              "</style>\n",
              "<table border=\"1\" class=\"dataframe\">\n",
              "  <thead>\n",
              "    <tr style=\"text-align: right;\">\n",
              "      <th></th>\n",
              "      <th>Interest Rate</th>\n",
              "    </tr>\n",
              "  </thead>\n",
              "  <tbody>\n",
              "    <tr>\n",
              "      <th>count</th>\n",
              "      <td>694595.000000</td>\n",
              "    </tr>\n",
              "    <tr>\n",
              "      <th>mean</th>\n",
              "      <td>4.510129</td>\n",
              "    </tr>\n",
              "    <tr>\n",
              "      <th>std</th>\n",
              "      <td>3.356111</td>\n",
              "    </tr>\n",
              "    <tr>\n",
              "      <th>min</th>\n",
              "      <td>0.000000</td>\n",
              "    </tr>\n",
              "    <tr>\n",
              "      <th>25%</th>\n",
              "      <td>0.690000</td>\n",
              "    </tr>\n",
              "    <tr>\n",
              "      <th>50%</th>\n",
              "      <td>5.460000</td>\n",
              "    </tr>\n",
              "    <tr>\n",
              "      <th>75%</th>\n",
              "      <td>7.250000</td>\n",
              "    </tr>\n",
              "    <tr>\n",
              "      <th>max</th>\n",
              "      <td>12.000000</td>\n",
              "    </tr>\n",
              "  </tbody>\n",
              "</table>\n",
              "</div>"
            ],
            "text/plain": [
              "       Interest Rate\n",
              "count  694595.000000\n",
              "mean        4.510129\n",
              "std         3.356111\n",
              "min         0.000000\n",
              "25%         0.690000\n",
              "50%         5.460000\n",
              "75%         7.250000\n",
              "max        12.000000"
            ]
          },
          "metadata": {
            "tags": []
          },
          "execution_count": 12
        }
      ]
    },
    {
      "cell_type": "code",
      "metadata": {
        "id": "chxwfz0XtYn5",
        "colab": {
          "base_uri": "https://localhost:8080/",
          "height": 77
        },
        "outputId": "ca7f8269-17be-4923-8c4a-ef93491f0567"
      },
      "source": [
        "bd.corr()"
      ],
      "execution_count": 13,
      "outputs": [
        {
          "output_type": "execute_result",
          "data": {
            "text/html": [
              "<div>\n",
              "<style scoped>\n",
              "    .dataframe tbody tr th:only-of-type {\n",
              "        vertical-align: middle;\n",
              "    }\n",
              "\n",
              "    .dataframe tbody tr th {\n",
              "        vertical-align: top;\n",
              "    }\n",
              "\n",
              "    .dataframe thead th {\n",
              "        text-align: right;\n",
              "    }\n",
              "</style>\n",
              "<table border=\"1\" class=\"dataframe\">\n",
              "  <thead>\n",
              "    <tr style=\"text-align: right;\">\n",
              "      <th></th>\n",
              "      <th>Interest Rate</th>\n",
              "    </tr>\n",
              "  </thead>\n",
              "  <tbody>\n",
              "    <tr>\n",
              "      <th>Interest Rate</th>\n",
              "      <td>1.0</td>\n",
              "    </tr>\n",
              "  </tbody>\n",
              "</table>\n",
              "</div>"
            ],
            "text/plain": [
              "               Interest Rate\n",
              "Interest Rate            1.0"
            ]
          },
          "metadata": {
            "tags": []
          },
          "execution_count": 13
        }
      ]
    },
    {
      "cell_type": "code",
      "metadata": {
        "id": "68_OHpnpYMjl"
      },
      "source": [
        "x=['Interest Rate','Original Principal Amount','Cancelled Amount','Undisbursed Amount','Disbursed Amount','Repaid to IBRD','Due to IBRD','Exchange Adjustment',\"Borrower's Obligation\",'Sold 3rd Party','Repaid 3rd Party','Loans Held'  ]"
      ],
      "execution_count": 18,
      "outputs": []
    },
    {
      "cell_type": "code",
      "metadata": {
        "id": "jIavHs2Jy8Ch"
      },
      "source": [
        "bd2=bd[x]"
      ],
      "execution_count": 17,
      "outputs": []
    },
    {
      "cell_type": "code",
      "metadata": {
        "id": "d6N_r1pvzZE3",
        "colab": {
          "base_uri": "https://localhost:8080/"
        },
        "outputId": "e1757ecc-0c32-4653-ffea-dd1b619ce09e"
      },
      "source": [
        "bd2.info()"
      ],
      "execution_count": 19,
      "outputs": [
        {
          "output_type": "stream",
          "text": [
            "<class 'pandas.core.frame.DataFrame'>\n",
            "Int64Index: 694595 entries, 0 to 960448\n",
            "Data columns (total 12 columns):\n",
            " #   Column                     Non-Null Count   Dtype  \n",
            "---  ------                     --------------   -----  \n",
            " 0   Interest Rate              694595 non-null  float64\n",
            " 1   Original Principal Amount  694595 non-null  object \n",
            " 2   Cancelled Amount           694595 non-null  object \n",
            " 3   Undisbursed Amount         694595 non-null  object \n",
            " 4   Disbursed Amount           694595 non-null  object \n",
            " 5   Repaid to IBRD             694595 non-null  object \n",
            " 6   Due to IBRD                694595 non-null  object \n",
            " 7   Exchange Adjustment        694595 non-null  object \n",
            " 8   Borrower's Obligation      694595 non-null  object \n",
            " 9   Sold 3rd Party             694595 non-null  object \n",
            " 10  Repaid 3rd Party           694595 non-null  object \n",
            " 11  Loans Held                 694595 non-null  object \n",
            "dtypes: float64(1), object(11)\n",
            "memory usage: 68.9+ MB\n"
          ],
          "name": "stdout"
        }
      ]
    },
    {
      "cell_type": "code",
      "metadata": {
        "id": "Yjon4NNxzuJq"
      },
      "source": [
        "y=bd2['Interest Rate'].values"
      ],
      "execution_count": 20,
      "outputs": []
    },
    {
      "cell_type": "code",
      "metadata": {
        "id": "Kc-7YXCH3VLs"
      },
      "source": [
        "features=set(bd2.columns)-set(['Interest Rate'])\n",
        "x=bd2[features].values\n",
        "x=x.reshape(7640545,-1)"
      ],
      "execution_count": 22,
      "outputs": []
    },
    {
      "cell_type": "code",
      "metadata": {
        "id": "-GW1tML93oL3"
      },
      "source": [
        "from sklearn.model_selection import train_test_split\n",
        "from sklearn.linear_model import LinearRegression\n",
        "from sklearn.metrics import mean_squared_error"
      ],
      "execution_count": 23,
      "outputs": []
    },
    {
      "cell_type": "code",
      "metadata": {
        "id": "3apJSn804BqK",
        "colab": {
          "base_uri": "https://localhost:8080/",
          "height": 303
        },
        "outputId": "768b8485-3ad1-4ce5-fc9b-44b685c9e4e2"
      },
      "source": [
        "trainx,testx,trainy,testy=train_test_split(x,y,test_size=0.2,random_state=0)"
      ],
      "execution_count": 24,
      "outputs": [
        {
          "output_type": "error",
          "ename": "ValueError",
          "evalue": "ignored",
          "traceback": [
            "\u001b[0;31m---------------------------------------------------------------------------\u001b[0m",
            "\u001b[0;31mValueError\u001b[0m                                Traceback (most recent call last)",
            "\u001b[0;32m<ipython-input-24-37b160359f62>\u001b[0m in \u001b[0;36m<module>\u001b[0;34m()\u001b[0m\n\u001b[0;32m----> 1\u001b[0;31m \u001b[0mtrainx\u001b[0m\u001b[0;34m,\u001b[0m\u001b[0mtestx\u001b[0m\u001b[0;34m,\u001b[0m\u001b[0mtrainy\u001b[0m\u001b[0;34m,\u001b[0m\u001b[0mtesty\u001b[0m\u001b[0;34m=\u001b[0m\u001b[0mtrain_test_split\u001b[0m\u001b[0;34m(\u001b[0m\u001b[0mx\u001b[0m\u001b[0;34m,\u001b[0m\u001b[0my\u001b[0m\u001b[0;34m,\u001b[0m\u001b[0mtest_size\u001b[0m\u001b[0;34m=\u001b[0m\u001b[0;36m0.2\u001b[0m\u001b[0;34m,\u001b[0m\u001b[0mrandom_state\u001b[0m\u001b[0;34m=\u001b[0m\u001b[0;36m0\u001b[0m\u001b[0;34m)\u001b[0m\u001b[0;34m\u001b[0m\u001b[0;34m\u001b[0m\u001b[0m\n\u001b[0m",
            "\u001b[0;32m/usr/local/lib/python3.6/dist-packages/sklearn/model_selection/_split.py\u001b[0m in \u001b[0;36mtrain_test_split\u001b[0;34m(*arrays, **options)\u001b[0m\n\u001b[1;32m   2116\u001b[0m         \u001b[0;32mraise\u001b[0m \u001b[0mTypeError\u001b[0m\u001b[0;34m(\u001b[0m\u001b[0;34m\"Invalid parameters passed: %s\"\u001b[0m \u001b[0;34m%\u001b[0m \u001b[0mstr\u001b[0m\u001b[0;34m(\u001b[0m\u001b[0moptions\u001b[0m\u001b[0;34m)\u001b[0m\u001b[0;34m)\u001b[0m\u001b[0;34m\u001b[0m\u001b[0;34m\u001b[0m\u001b[0m\n\u001b[1;32m   2117\u001b[0m \u001b[0;34m\u001b[0m\u001b[0m\n\u001b[0;32m-> 2118\u001b[0;31m     \u001b[0marrays\u001b[0m \u001b[0;34m=\u001b[0m \u001b[0mindexable\u001b[0m\u001b[0;34m(\u001b[0m\u001b[0;34m*\u001b[0m\u001b[0marrays\u001b[0m\u001b[0;34m)\u001b[0m\u001b[0;34m\u001b[0m\u001b[0;34m\u001b[0m\u001b[0m\n\u001b[0m\u001b[1;32m   2119\u001b[0m \u001b[0;34m\u001b[0m\u001b[0m\n\u001b[1;32m   2120\u001b[0m     \u001b[0mn_samples\u001b[0m \u001b[0;34m=\u001b[0m \u001b[0m_num_samples\u001b[0m\u001b[0;34m(\u001b[0m\u001b[0marrays\u001b[0m\u001b[0;34m[\u001b[0m\u001b[0;36m0\u001b[0m\u001b[0;34m]\u001b[0m\u001b[0;34m)\u001b[0m\u001b[0;34m\u001b[0m\u001b[0;34m\u001b[0m\u001b[0m\n",
            "\u001b[0;32m/usr/local/lib/python3.6/dist-packages/sklearn/utils/validation.py\u001b[0m in \u001b[0;36mindexable\u001b[0;34m(*iterables)\u001b[0m\n\u001b[1;32m    246\u001b[0m     \"\"\"\n\u001b[1;32m    247\u001b[0m     \u001b[0mresult\u001b[0m \u001b[0;34m=\u001b[0m \u001b[0;34m[\u001b[0m\u001b[0m_make_indexable\u001b[0m\u001b[0;34m(\u001b[0m\u001b[0mX\u001b[0m\u001b[0;34m)\u001b[0m \u001b[0;32mfor\u001b[0m \u001b[0mX\u001b[0m \u001b[0;32min\u001b[0m \u001b[0miterables\u001b[0m\u001b[0;34m]\u001b[0m\u001b[0;34m\u001b[0m\u001b[0;34m\u001b[0m\u001b[0m\n\u001b[0;32m--> 248\u001b[0;31m     \u001b[0mcheck_consistent_length\u001b[0m\u001b[0;34m(\u001b[0m\u001b[0;34m*\u001b[0m\u001b[0mresult\u001b[0m\u001b[0;34m)\u001b[0m\u001b[0;34m\u001b[0m\u001b[0;34m\u001b[0m\u001b[0m\n\u001b[0m\u001b[1;32m    249\u001b[0m     \u001b[0;32mreturn\u001b[0m \u001b[0mresult\u001b[0m\u001b[0;34m\u001b[0m\u001b[0;34m\u001b[0m\u001b[0m\n\u001b[1;32m    250\u001b[0m \u001b[0;34m\u001b[0m\u001b[0m\n",
            "\u001b[0;32m/usr/local/lib/python3.6/dist-packages/sklearn/utils/validation.py\u001b[0m in \u001b[0;36mcheck_consistent_length\u001b[0;34m(*arrays)\u001b[0m\n\u001b[1;32m    210\u001b[0m     \u001b[0;32mif\u001b[0m \u001b[0mlen\u001b[0m\u001b[0;34m(\u001b[0m\u001b[0muniques\u001b[0m\u001b[0;34m)\u001b[0m \u001b[0;34m>\u001b[0m \u001b[0;36m1\u001b[0m\u001b[0;34m:\u001b[0m\u001b[0;34m\u001b[0m\u001b[0;34m\u001b[0m\u001b[0m\n\u001b[1;32m    211\u001b[0m         raise ValueError(\"Found input variables with inconsistent numbers of\"\n\u001b[0;32m--> 212\u001b[0;31m                          \" samples: %r\" % [int(l) for l in lengths])\n\u001b[0m\u001b[1;32m    213\u001b[0m \u001b[0;34m\u001b[0m\u001b[0m\n\u001b[1;32m    214\u001b[0m \u001b[0;34m\u001b[0m\u001b[0m\n",
            "\u001b[0;31mValueError\u001b[0m: Found input variables with inconsistent numbers of samples: [7640545, 694595]"
          ]
        }
      ]
    },
    {
      "cell_type": "code",
      "metadata": {
        "id": "gu5N7JBc4Ovx"
      },
      "source": [
        "mdl=LinearRegression()"
      ],
      "execution_count": null,
      "outputs": []
    },
    {
      "cell_type": "code",
      "metadata": {
        "id": "UZQZE7v04SI4"
      },
      "source": [
        "mdl.fit(trainx,trainy)"
      ],
      "execution_count": null,
      "outputs": []
    },
    {
      "cell_type": "code",
      "metadata": {
        "id": "YF47cPW6498Y"
      },
      "source": [
        "pred=mdl.predict(testx)"
      ],
      "execution_count": null,
      "outputs": []
    },
    {
      "cell_type": "code",
      "metadata": {
        "id": "qjqGcp887Ro-"
      },
      "source": [
        "acs=np.sqrt(mean_squared_error(testy,pred))\n",
        "print(1-acs)"
      ],
      "execution_count": null,
      "outputs": []
    },
    {
      "cell_type": "code",
      "metadata": {
        "id": "TpIetyFOJczg"
      },
      "source": [
        "bd['Region'].replace('AFRICA','Africa',inplace=True)\n",
        "bd['Region'].replace('LATIN AMERICA AND CARIBBEAN','Latin America and Caribbean',inplace=True)\n",
        "bd['Region'].replace('SOUTH ASIA','South Asia',inplace=True)\n",
        "bd['Region'].replace('EAST ASIA AND PACIFIC','East Asia and Pacific',inplace=True)\n",
        "bd['Region'].replace('EUROPE AND CENTRAL ASIA','Europe and Central Asia',inplace=True)\n",
        "bd['Region'].replace('MIDDLE EAST AND NORTH AFRICA','Middle East and North Africa',inplace=True)"
      ],
      "execution_count": null,
      "outputs": []
    },
    {
      "cell_type": "code",
      "metadata": {
        "id": "lDk6bv_aKvMi"
      },
      "source": [
        "bd['Region'].value_counts()"
      ],
      "execution_count": null,
      "outputs": []
    },
    {
      "cell_type": "code",
      "metadata": {
        "id": "OwIy32kQK3Fk"
      },
      "source": [
        "sns.set(rc={'figure.figsize':(18,15)})\n",
        "sns.boxplot(x='Region',y='Interest Rate',data=bd)"
      ],
      "execution_count": null,
      "outputs": []
    },
    {
      "cell_type": "code",
      "metadata": {
        "id": "i_zG620BMZ0U"
      },
      "source": [
        "sns.boxplot(x='Loan Type',y='Interest Rate',data=bd)"
      ],
      "execution_count": null,
      "outputs": []
    },
    {
      "cell_type": "code",
      "metadata": {
        "id": "82vZdajzNWCn"
      },
      "source": [
        "sns.scatterplot(x='Original Principal Amount',y='Interest Rate',data=bd)"
      ],
      "execution_count": null,
      "outputs": []
    },
    {
      "cell_type": "code",
      "metadata": {
        "id": "z42U15S2OKBp"
      },
      "source": [
        "pd.crosstab(index=bd['Interest Rate'],columns=bd['Country'])"
      ],
      "execution_count": null,
      "outputs": []
    },
    {
      "cell_type": "code",
      "metadata": {
        "id": "9BbEMxc9PMqp"
      },
      "source": [
        "plt.hist(a['Interest Rate'])"
      ],
      "execution_count": null,
      "outputs": []
    },
    {
      "cell_type": "code",
      "metadata": {
        "id": "SEiQQ05kQMAg"
      },
      "source": [
        "bd2.info()"
      ],
      "execution_count": null,
      "outputs": []
    },
    {
      "cell_type": "code",
      "metadata": {
        "id": "WUx4MSVSsVst"
      },
      "source": [
        "bd.describe()"
      ],
      "execution_count": null,
      "outputs": []
    },
    {
      "cell_type": "code",
      "metadata": {
        "id": "vlilj7UpY4Qg"
      },
      "source": [
        "bd.columns"
      ],
      "execution_count": null,
      "outputs": []
    },
    {
      "cell_type": "code",
      "metadata": {
        "id": "Vqu1HjfhZBcC"
      },
      "source": [
        "np.unique(bd['End of Period']).size"
      ],
      "execution_count": null,
      "outputs": []
    },
    {
      "cell_type": "code",
      "metadata": {
        "id": "2mWm2yNJafYb"
      },
      "source": [
        "np.unique(bd['Loan Number']).size"
      ],
      "execution_count": null,
      "outputs": []
    },
    {
      "cell_type": "code",
      "metadata": {
        "id": "7lF_a8hHawqp"
      },
      "source": [
        "np.unique(bd['Region'])"
      ],
      "execution_count": null,
      "outputs": []
    },
    {
      "cell_type": "code",
      "metadata": {
        "id": "MTIEcyQ-bsKp"
      },
      "source": [
        "bd.head()"
      ],
      "execution_count": null,
      "outputs": []
    },
    {
      "cell_type": "code",
      "metadata": {
        "id": "DYgs3Jz0cgMK"
      },
      "source": [
        "np.unique(bd['Loan Type'])"
      ],
      "execution_count": null,
      "outputs": []
    },
    {
      "cell_type": "code",
      "metadata": {
        "id": "wWSar-3RdW31"
      },
      "source": [
        "np.unique(bd['Loan Status'])"
      ],
      "execution_count": null,
      "outputs": []
    },
    {
      "cell_type": "code",
      "metadata": {
        "id": "zrXz8y0bdnCZ"
      },
      "source": [
        "np.unique(bd['Interest Rate']).size"
      ],
      "execution_count": null,
      "outputs": []
    },
    {
      "cell_type": "code",
      "metadata": {
        "id": "unvDsQqyeBwc"
      },
      "source": [
        "bd['Interest Rate'].isnull().sum()"
      ],
      "execution_count": null,
      "outputs": []
    },
    {
      "cell_type": "code",
      "metadata": {
        "id": "54jGotv1eepr"
      },
      "source": [
        "bd['Currency of Commitment'].isnull().sum()"
      ],
      "execution_count": null,
      "outputs": []
    },
    {
      "cell_type": "code",
      "metadata": {
        "id": "kIS99RJse3P6"
      },
      "source": [
        "bd['Project ID'].isnull().sum()"
      ],
      "execution_count": null,
      "outputs": []
    },
    {
      "cell_type": "code",
      "metadata": {
        "id": "iZueBJzZl9IG"
      },
      "source": [
        "bd[['Project ID']]=bd[['Project ID']].fillna(value=0)"
      ],
      "execution_count": null,
      "outputs": []
    },
    {
      "cell_type": "code",
      "metadata": {
        "id": "Eq0ZYU9BnedJ"
      },
      "source": [
        "bd['Project ID']=str(bd['Project ID'])"
      ],
      "execution_count": null,
      "outputs": []
    },
    {
      "cell_type": "code",
      "metadata": {
        "id": "V09Ga2Ohnmke"
      },
      "source": [
        "bd['Project Name ']=str(bd['Project Name '])"
      ],
      "execution_count": null,
      "outputs": []
    },
    {
      "cell_type": "code",
      "metadata": {
        "id": "sBmeu6lsn5GV"
      },
      "source": [
        "np.unique(bd['Project Name '])"
      ],
      "execution_count": null,
      "outputs": []
    },
    {
      "cell_type": "code",
      "metadata": {
        "id": "zP87NPcQod1B"
      },
      "source": [
        "bd['Project Name '].isnull().sum()"
      ],
      "execution_count": null,
      "outputs": []
    },
    {
      "cell_type": "code",
      "metadata": {
        "id": "x62kxtvOowyL"
      },
      "source": [
        "bd.describe()"
      ],
      "execution_count": null,
      "outputs": []
    },
    {
      "cell_type": "code",
      "metadata": {
        "id": "XAJeNXt2pCI0"
      },
      "source": [
        "bd['Agreement Signing Date'].isnull().sum()"
      ],
      "execution_count": null,
      "outputs": []
    },
    {
      "cell_type": "code",
      "metadata": {
        "id": "FiHbAHvIyEZX"
      },
      "source": [
        "bd['First Repayment Date'].isnull().sum()"
      ],
      "execution_count": null,
      "outputs": []
    },
    {
      "cell_type": "code",
      "metadata": {
        "id": "HS0RCy1JyQjm"
      },
      "source": [
        "bd['Last Repayment Date'].isnull().sum()"
      ],
      "execution_count": null,
      "outputs": []
    },
    {
      "cell_type": "code",
      "metadata": {
        "id": "SVm4rSLPyT5U"
      },
      "source": [
        "bd['Board Approval Date'].isnull().sum()"
      ],
      "execution_count": null,
      "outputs": []
    },
    {
      "cell_type": "code",
      "metadata": {
        "id": "HG19y0SMyXc9"
      },
      "source": [
        "bd.info()"
      ],
      "execution_count": null,
      "outputs": []
    },
    {
      "cell_type": "code",
      "metadata": {
        "id": "De7cycJHwrie"
      },
      "source": [
        "bd.corr()"
      ],
      "execution_count": null,
      "outputs": []
    },
    {
      "cell_type": "code",
      "metadata": {
        "id": "vOigyLMUw8DQ"
      },
      "source": [
        "bd.columns"
      ],
      "execution_count": null,
      "outputs": []
    },
    {
      "cell_type": "code",
      "metadata": {
        "id": "uVaHQwLTxkpw"
      },
      "source": [
        "bd=bd.drop(columns=['End of Period','Loan Number','Country Code','Guarantor Country Code','Currency of Commitment','Project ID','Project Name ','Cancelled Amount'],axis=1)"
      ],
      "execution_count": null,
      "outputs": []
    },
    {
      "cell_type": "code",
      "metadata": {
        "id": "s--Qenyzyb8Y"
      },
      "source": [
        "bd.info()"
      ],
      "execution_count": null,
      "outputs": []
    },
    {
      "cell_type": "code",
      "metadata": {
        "id": "rutSXtIZRF_F"
      },
      "source": [
        "bd['Region'].replace('AFRICA','Africa',inplace=True)\n",
        "bd['Region'].replace('LATIN AMERICA AND CARIBBEAN','Latin America and Caribbean',inplace=True)\n",
        "bd['Region'].replace('SOUTH ASIA','South Asia',inplace=True)\n",
        "bd['Region'].replace('EAST ASIA AND PACIFIC','East Asia and Pacific',inplace=True)\n",
        "bd['Region'].replace('EUROPE AND CENTRAL ASIA','Europe and Central Asia',inplace=True)\n",
        "bd['Region'].replace('MIDDLE EAST AND NORTH AFRICA','Middle East and North Africa',inplace=True)"
      ],
      "execution_count": null,
      "outputs": []
    },
    {
      "cell_type": "code",
      "metadata": {
        "id": "BW5VGgNc1svH"
      },
      "source": [
        "bd['Region'].replace('OTHER','Other',inplace=True)\n",
        "bd['Region'].replace('AFRICA EAST','Africa East',inplace=True)\n",
        "bd['Region'].replace('AFRICA WEST','Africa West',inplace=True)"
      ],
      "execution_count": null,
      "outputs": []
    },
    {
      "cell_type": "code",
      "metadata": {
        "id": "sKtpAPKS2NmK"
      },
      "source": [
        "np.unique(bd['Region'])"
      ],
      "execution_count": null,
      "outputs": []
    },
    {
      "cell_type": "code",
      "metadata": {
        "id": "HLxDmq492Pqp"
      },
      "source": [
        "np.unique(bd['Country'])"
      ],
      "execution_count": null,
      "outputs": []
    },
    {
      "cell_type": "code",
      "metadata": {
        "id": "pCuC8a3I2x8a"
      },
      "source": [
        "bd['Region'].isnull().sum()"
      ],
      "execution_count": null,
      "outputs": []
    },
    {
      "cell_type": "code",
      "metadata": {
        "id": "QrsfgkQj26AR"
      },
      "source": [
        "bd['Country'].isnull().sum()"
      ],
      "execution_count": null,
      "outputs": []
    },
    {
      "cell_type": "code",
      "metadata": {
        "id": "VM0PstUV2-FF"
      },
      "source": [
        "bd['Borrower'].isnull().sum()"
      ],
      "execution_count": null,
      "outputs": []
    },
    {
      "cell_type": "code",
      "metadata": {
        "id": "eGSiaIQ73IkJ"
      },
      "source": [
        "np.unique(bd['Borrower'])"
      ],
      "execution_count": null,
      "outputs": []
    },
    {
      "cell_type": "code",
      "metadata": {
        "id": "b050gdGv3MDu"
      },
      "source": [
        "bd['Borrower']=bd['Borrower'].fillna(\"\")"
      ],
      "execution_count": null,
      "outputs": []
    },
    {
      "cell_type": "code",
      "metadata": {
        "id": "oUKKfVVS8JMR"
      },
      "source": [
        "for ind in bd.index:\n",
        "  if(bd['Borrower'][ind]==\"\"):\n",
        "    bd['Borrower'][ind]=bd['Country'][ind]"
      ],
      "execution_count": null,
      "outputs": []
    },
    {
      "cell_type": "code",
      "metadata": {
        "id": "GTmI4c1y8zya"
      },
      "source": [
        "bd['Guarantor']=bd['Guarantor'].fillna('')"
      ],
      "execution_count": null,
      "outputs": []
    },
    {
      "cell_type": "code",
      "metadata": {
        "id": "tJZI-iOE9mh1"
      },
      "source": [
        "for ind in bd.index:\n",
        "  if(bd['Guarantor'][ind]==\"\"):\n",
        "    bd['Guarantor'][ind]=bd['Country'][ind]"
      ],
      "execution_count": null,
      "outputs": []
    },
    {
      "cell_type": "code",
      "metadata": {
        "id": "JCD_AVdT9_L6"
      },
      "source": [
        "bd['Guarantor'].isnull().sum()"
      ],
      "execution_count": null,
      "outputs": []
    },
    {
      "cell_type": "code",
      "metadata": {
        "id": "Y96LoSlV-xPK"
      },
      "source": [
        "np.unique(bd['Loan Type'])"
      ],
      "execution_count": null,
      "outputs": []
    },
    {
      "cell_type": "code",
      "metadata": {
        "id": "og2EFsex-57v"
      },
      "source": [
        "bd['Loan Type'].isnull().sum()"
      ],
      "execution_count": null,
      "outputs": []
    },
    {
      "cell_type": "code",
      "metadata": {
        "id": "MtOkNuCG-_2R"
      },
      "source": [
        "np.unique(bd['Loan Status'])"
      ],
      "execution_count": null,
      "outputs": []
    },
    {
      "cell_type": "code",
      "metadata": {
        "id": "kXrfyr4W_FmM"
      },
      "source": [
        "bd['Loan Status'].isnull().sum()"
      ],
      "execution_count": null,
      "outputs": []
    },
    {
      "cell_type": "code",
      "metadata": {
        "id": "aIuDkhOa_I1f"
      },
      "source": [
        "bd['Interest Rate'].describe()"
      ],
      "execution_count": null,
      "outputs": []
    },
    {
      "cell_type": "code",
      "metadata": {
        "id": "6JdPT7wB_RF4"
      },
      "source": [
        "bd['Interest Rate'].isnull().sum()"
      ],
      "execution_count": null,
      "outputs": []
    },
    {
      "cell_type": "code",
      "metadata": {
        "id": "iSehF5Ds_v-K"
      },
      "source": [
        "bd['Interest Rate']=bd['Interest Rate'].fillna(0)"
      ],
      "execution_count": null,
      "outputs": []
    },
    {
      "cell_type": "code",
      "metadata": {
        "id": "T2tJaYXD_5__"
      },
      "source": [
        ""
      ],
      "execution_count": null,
      "outputs": []
    }
  ]
}