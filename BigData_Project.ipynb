{
  "nbformat": 4,
  "nbformat_minor": 0,
  "metadata": {
    "colab": {
      "name": "BigData_Project.ipynb",
      "provenance": [],
      "collapsed_sections": [],
      "include_colab_link": true
    },
    "kernelspec": {
      "name": "python3",
      "display_name": "Python 3"
    }
  },
  "cells": [
    {
      "cell_type": "markdown",
      "metadata": {
        "id": "view-in-github",
        "colab_type": "text"
      },
      "source": [
        "<a href=\"https://colab.research.google.com/github/aniket20june/Big-Data-Project/blob/main/BigData_Project.ipynb\" target=\"_parent\"><img src=\"https://colab.research.google.com/assets/colab-badge.svg\" alt=\"Open In Colab\"/></a>"
      ]
    },
    {
      "cell_type": "code",
      "metadata": {
        "id": "6w8VL8ljGU3V"
      },
      "source": [
        "import numpy as np"
      ],
      "execution_count": null,
      "outputs": []
    },
    {
      "cell_type": "code",
      "metadata": {
        "id": "nUMwI1MxGjLT"
      },
      "source": [
        "import pandas as pd"
      ],
      "execution_count": null,
      "outputs": []
    },
    {
      "cell_type": "code",
      "metadata": {
        "id": "RROntOLvGmVi"
      },
      "source": [
        "import seaborn as sns\n",
        "import matplotlib.pyplot as plt"
      ],
      "execution_count": null,
      "outputs": []
    },
    {
      "cell_type": "code",
      "metadata": {
        "id": "gl0l2E0bgyvA",
        "colab": {
          "base_uri": "https://localhost:8080/"
        },
        "outputId": "6fb865b2-a8c6-40b5-f148-77b09ba53215"
      },
      "source": [
        "from google.colab import drive\n",
        "drive.mount('/content/drive')"
      ],
      "execution_count": null,
      "outputs": [
        {
          "output_type": "stream",
          "text": [
            "Mounted at /content/drive\n"
          ],
          "name": "stdout"
        }
      ]
    },
    {
      "cell_type": "code",
      "metadata": {
        "id": "r5Nsr6CB2pBc",
        "colab": {
          "base_uri": "https://localhost:8080/"
        },
        "outputId": "3d2cbd6f-25e7-4991-fb14-2cf60089b12c"
      },
      "source": [
        "bd = pd.read_csv('drive/My Drive/abc.csv', delimiter=',')"
      ],
      "execution_count": null,
      "outputs": [
        {
          "output_type": "stream",
          "text": [
            "/usr/local/lib/python3.6/dist-packages/IPython/core/interactiveshell.py:2718: DtypeWarning: Columns (32) have mixed types.Specify dtype option on import or set low_memory=False.\n",
            "  interactivity=interactivity, compiler=compiler, result=result)\n"
          ],
          "name": "stderr"
        }
      ]
    },
    {
      "cell_type": "code",
      "metadata": {
        "id": "apJByZek9dfg"
      },
      "source": [
        "a=bd.loc[bd['Country']=='India']"
      ],
      "execution_count": null,
      "outputs": []
    },
    {
      "cell_type": "code",
      "metadata": {
        "id": "2EwzoRvY1MfQ"
      },
      "source": [
        "bd.drop(['Currency of Commitment', 'First Repayment Date', 'Closed Date (Most Recent)', 'Effective Date (Most Recent)', 'Board Approval Date', 'Agreement Signing Date', 'Last Repayment Date', 'First Repayment Date', 'Last Disbursement Date'],\n",
        "        axis=1, inplace=True)"
      ],
      "execution_count": null,
      "outputs": []
    },
    {
      "cell_type": "code",
      "metadata": {
        "id": "V9mnPUehrte0"
      },
      "source": [
        "bd.drop(['Due 3rd Party'],axis=1,inplace=True)"
      ],
      "execution_count": null,
      "outputs": []
    },
    {
      "cell_type": "code",
      "metadata": {
        "id": "p4iqDqHW3KJw"
      },
      "source": [
        "bd.dropna(inplace=True)"
      ],
      "execution_count": null,
      "outputs": []
    },
    {
      "cell_type": "code",
      "metadata": {
        "id": "1ga-czXy8OM_",
        "colab": {
          "base_uri": "https://localhost:8080/"
        },
        "outputId": "1b8fb352-525d-4e0b-e52d-77b08638e7e5"
      },
      "source": [
        "bd.info()"
      ],
      "execution_count": null,
      "outputs": [
        {
          "output_type": "stream",
          "text": [
            "<class 'pandas.core.frame.DataFrame'>\n",
            "Int64Index: 702872 entries, 0 to 969425\n",
            "Data columns (total 24 columns):\n",
            " #   Column                     Non-Null Count   Dtype  \n",
            "---  ------                     --------------   -----  \n",
            " 0   End of Period              702872 non-null  object \n",
            " 1   Loan Number                702872 non-null  object \n",
            " 2   Region                     702872 non-null  object \n",
            " 3   Country Code               702872 non-null  object \n",
            " 4   Country                    702872 non-null  object \n",
            " 5   Borrower                   702872 non-null  object \n",
            " 6   Guarantor Country Code     702872 non-null  object \n",
            " 7   Guarantor                  702872 non-null  object \n",
            " 8   Loan Type                  702872 non-null  object \n",
            " 9   Loan Status                702872 non-null  object \n",
            " 10  Interest Rate              702872 non-null  float64\n",
            " 11  Project ID                 702872 non-null  object \n",
            " 12  Project Name               702872 non-null  object \n",
            " 13  Original Principal Amount  702872 non-null  float64\n",
            " 14  Cancelled Amount           702872 non-null  float64\n",
            " 15  Undisbursed Amount         702872 non-null  float64\n",
            " 16  Disbursed Amount           702872 non-null  float64\n",
            " 17  Repaid to IBRD             702872 non-null  float64\n",
            " 18  Due to IBRD                702872 non-null  float64\n",
            " 19  Exchange Adjustment        702872 non-null  float64\n",
            " 20  Borrower's Obligation      702872 non-null  float64\n",
            " 21  Sold 3rd Party             702872 non-null  float64\n",
            " 22  Repaid 3rd Party           702872 non-null  float64\n",
            " 23  Loans Held                 702872 non-null  float64\n",
            "dtypes: float64(12), object(12)\n",
            "memory usage: 134.1+ MB\n"
          ],
          "name": "stdout"
        }
      ]
    },
    {
      "cell_type": "code",
      "metadata": {
        "id": "HTx1nW0x8ZqL",
        "colab": {
          "base_uri": "https://localhost:8080/",
          "height": 338
        },
        "outputId": "d2eb7d02-0d61-4c80-d14f-6d0d74907c4d"
      },
      "source": [
        "bd.describe()"
      ],
      "execution_count": null,
      "outputs": [
        {
          "output_type": "execute_result",
          "data": {
            "text/html": [
              "<div>\n",
              "<style scoped>\n",
              "    .dataframe tbody tr th:only-of-type {\n",
              "        vertical-align: middle;\n",
              "    }\n",
              "\n",
              "    .dataframe tbody tr th {\n",
              "        vertical-align: top;\n",
              "    }\n",
              "\n",
              "    .dataframe thead th {\n",
              "        text-align: right;\n",
              "    }\n",
              "</style>\n",
              "<table border=\"1\" class=\"dataframe\">\n",
              "  <thead>\n",
              "    <tr style=\"text-align: right;\">\n",
              "      <th></th>\n",
              "      <th>Interest Rate</th>\n",
              "      <th>Original Principal Amount</th>\n",
              "      <th>Cancelled Amount</th>\n",
              "      <th>Undisbursed Amount</th>\n",
              "      <th>Disbursed Amount</th>\n",
              "      <th>Repaid to IBRD</th>\n",
              "      <th>Due to IBRD</th>\n",
              "      <th>Exchange Adjustment</th>\n",
              "      <th>Borrower's Obligation</th>\n",
              "      <th>Sold 3rd Party</th>\n",
              "      <th>Repaid 3rd Party</th>\n",
              "      <th>Loans Held</th>\n",
              "    </tr>\n",
              "  </thead>\n",
              "  <tbody>\n",
              "    <tr>\n",
              "      <th>count</th>\n",
              "      <td>702872.000</td>\n",
              "      <td>702872.000</td>\n",
              "      <td>702872.000</td>\n",
              "      <td>702872.000</td>\n",
              "      <td>702872.000</td>\n",
              "      <td>702872.000</td>\n",
              "      <td>702872.000</td>\n",
              "      <td>702872.000</td>\n",
              "      <td>702872.000</td>\n",
              "      <td>702872.000</td>\n",
              "      <td>702872.000</td>\n",
              "      <td>702872.000</td>\n",
              "    </tr>\n",
              "    <tr>\n",
              "      <th>mean</th>\n",
              "      <td>4.506</td>\n",
              "      <td>80379513.463</td>\n",
              "      <td>9672336.841</td>\n",
              "      <td>7591349.612</td>\n",
              "      <td>63108147.080</td>\n",
              "      <td>42697908.697</td>\n",
              "      <td>20209531.688</td>\n",
              "      <td>-350360.041</td>\n",
              "      <td>19859171.646</td>\n",
              "      <td>315992.296</td>\n",
              "      <td>315992.296</td>\n",
              "      <td>27800881.300</td>\n",
              "    </tr>\n",
              "    <tr>\n",
              "      <th>std</th>\n",
              "      <td>3.357</td>\n",
              "      <td>149976857.225</td>\n",
              "      <td>44791902.724</td>\n",
              "      <td>51671346.399</td>\n",
              "      <td>130661736.058</td>\n",
              "      <td>91675659.105</td>\n",
              "      <td>94423305.982</td>\n",
              "      <td>9321941.006</td>\n",
              "      <td>91213034.625</td>\n",
              "      <td>3516286.494</td>\n",
              "      <td>3516286.494</td>\n",
              "      <td>112647459.354</td>\n",
              "    </tr>\n",
              "    <tr>\n",
              "      <th>min</th>\n",
              "      <td>0.000</td>\n",
              "      <td>0.000</td>\n",
              "      <td>0.000</td>\n",
              "      <td>-0.120</td>\n",
              "      <td>0.000</td>\n",
              "      <td>0.000</td>\n",
              "      <td>-100507431.100</td>\n",
              "      <td>-990355392.300</td>\n",
              "      <td>-0.220</td>\n",
              "      <td>0.000</td>\n",
              "      <td>0.000</td>\n",
              "      <td>-100507431.100</td>\n",
              "    </tr>\n",
              "    <tr>\n",
              "      <th>25%</th>\n",
              "      <td>0.690</td>\n",
              "      <td>11578992.210</td>\n",
              "      <td>0.000</td>\n",
              "      <td>0.000</td>\n",
              "      <td>6698946.600</td>\n",
              "      <td>3047526.300</td>\n",
              "      <td>0.000</td>\n",
              "      <td>0.000</td>\n",
              "      <td>0.000</td>\n",
              "      <td>0.000</td>\n",
              "      <td>0.000</td>\n",
              "      <td>0.000</td>\n",
              "    </tr>\n",
              "    <tr>\n",
              "      <th>50%</th>\n",
              "      <td>5.430</td>\n",
              "      <td>32000000.000</td>\n",
              "      <td>1315.930</td>\n",
              "      <td>0.000</td>\n",
              "      <td>23000000.000</td>\n",
              "      <td>15393673.980</td>\n",
              "      <td>0.000</td>\n",
              "      <td>0.000</td>\n",
              "      <td>0.000</td>\n",
              "      <td>0.000</td>\n",
              "      <td>0.000</td>\n",
              "      <td>0.000</td>\n",
              "    </tr>\n",
              "    <tr>\n",
              "      <th>75%</th>\n",
              "      <td>7.250</td>\n",
              "      <td>92000000.000</td>\n",
              "      <td>3641819.830</td>\n",
              "      <td>0.000</td>\n",
              "      <td>67027447.880</td>\n",
              "      <td>45581518.100</td>\n",
              "      <td>0.000</td>\n",
              "      <td>0.000</td>\n",
              "      <td>0.000</td>\n",
              "      <td>0.000</td>\n",
              "      <td>0.000</td>\n",
              "      <td>0.000</td>\n",
              "    </tr>\n",
              "    <tr>\n",
              "      <th>max</th>\n",
              "      <td>12.000</td>\n",
              "      <td>3750000000.000</td>\n",
              "      <td>1995000000.000</td>\n",
              "      <td>3379010725.000</td>\n",
              "      <td>3110973281.000</td>\n",
              "      <td>3000000000.000</td>\n",
              "      <td>2857864740.000</td>\n",
              "      <td>319582303.200</td>\n",
              "      <td>2486028941.000</td>\n",
              "      <td>249962000.000</td>\n",
              "      <td>249962000.000</td>\n",
              "      <td>3750000000.000</td>\n",
              "    </tr>\n",
              "  </tbody>\n",
              "</table>\n",
              "</div>"
            ],
            "text/plain": [
              "       Interest Rate  ...     Loans Held\n",
              "count     702872.000  ...     702872.000\n",
              "mean           4.506  ...   27800881.300\n",
              "std            3.357  ...  112647459.354\n",
              "min            0.000  ... -100507431.100\n",
              "25%            0.690  ...          0.000\n",
              "50%            5.430  ...          0.000\n",
              "75%            7.250  ...          0.000\n",
              "max           12.000  ... 3750000000.000\n",
              "\n",
              "[8 rows x 12 columns]"
            ]
          },
          "metadata": {
            "tags": []
          },
          "execution_count": 224
        }
      ]
    },
    {
      "cell_type": "code",
      "metadata": {
        "id": "sJ3qQGoX8vSl"
      },
      "source": [
        "x=['Interest Rate','Original Principal Amount','Cancelled Amount','Undisbursed Amount','Disbursed Amount','Repaid to IBRD','Due to IBRD','Exchange Adjustment',\"Borrower's Obligation\",'Sold 3rd Party','Repaid 3rd Party','Loans Held'  ]"
      ],
      "execution_count": null,
      "outputs": []
    },
    {
      "cell_type": "code",
      "metadata": {
        "id": "CxFcM-EOrKFF"
      },
      "source": [
        "for i in x:\n",
        "  bd[i]=(bd[i]-bd[i].min())/(bd[i].max()-bd[i].min())"
      ],
      "execution_count": null,
      "outputs": []
    },
    {
      "cell_type": "code",
      "metadata": {
        "id": "NI20iwrfs4pl"
      },
      "source": [
        "pd.set_option('display.float_format',lambda x: '%.3f' %x)"
      ],
      "execution_count": null,
      "outputs": []
    },
    {
      "cell_type": "code",
      "metadata": {
        "id": "2XrGWt9etWqS",
        "colab": {
          "base_uri": "https://localhost:8080/",
          "height": 301
        },
        "outputId": "8428c00e-5eb6-4a69-db37-49d692eb6544"
      },
      "source": [
        "bd.describe()"
      ],
      "execution_count": null,
      "outputs": [
        {
          "output_type": "execute_result",
          "data": {
            "text/html": [
              "<div>\n",
              "<style scoped>\n",
              "    .dataframe tbody tr th:only-of-type {\n",
              "        vertical-align: middle;\n",
              "    }\n",
              "\n",
              "    .dataframe tbody tr th {\n",
              "        vertical-align: top;\n",
              "    }\n",
              "\n",
              "    .dataframe thead th {\n",
              "        text-align: right;\n",
              "    }\n",
              "</style>\n",
              "<table border=\"1\" class=\"dataframe\">\n",
              "  <thead>\n",
              "    <tr style=\"text-align: right;\">\n",
              "      <th></th>\n",
              "      <th>Interest Rate</th>\n",
              "      <th>Original Principal Amount</th>\n",
              "      <th>Cancelled Amount</th>\n",
              "      <th>Undisbursed Amount</th>\n",
              "      <th>Disbursed Amount</th>\n",
              "      <th>Repaid to IBRD</th>\n",
              "      <th>Due to IBRD</th>\n",
              "      <th>Exchange Adjustment</th>\n",
              "      <th>Borrower's Obligation</th>\n",
              "      <th>Sold 3rd Party</th>\n",
              "      <th>Repaid 3rd Party</th>\n",
              "      <th>Loans Held</th>\n",
              "    </tr>\n",
              "  </thead>\n",
              "  <tbody>\n",
              "    <tr>\n",
              "      <th>count</th>\n",
              "      <td>702872.000</td>\n",
              "      <td>702872.000</td>\n",
              "      <td>702872.000</td>\n",
              "      <td>702872.000</td>\n",
              "      <td>702872.000</td>\n",
              "      <td>702872.000</td>\n",
              "      <td>702872.000</td>\n",
              "      <td>702872.000</td>\n",
              "      <td>702872.000</td>\n",
              "      <td>702872.000</td>\n",
              "      <td>702872.000</td>\n",
              "      <td>702872.000</td>\n",
              "    </tr>\n",
              "    <tr>\n",
              "      <th>mean</th>\n",
              "      <td>0.375</td>\n",
              "      <td>0.021</td>\n",
              "      <td>0.005</td>\n",
              "      <td>0.002</td>\n",
              "      <td>0.020</td>\n",
              "      <td>0.014</td>\n",
              "      <td>0.041</td>\n",
              "      <td>0.756</td>\n",
              "      <td>0.008</td>\n",
              "      <td>0.001</td>\n",
              "      <td>0.001</td>\n",
              "      <td>0.033</td>\n",
              "    </tr>\n",
              "    <tr>\n",
              "      <th>std</th>\n",
              "      <td>0.280</td>\n",
              "      <td>0.040</td>\n",
              "      <td>0.022</td>\n",
              "      <td>0.015</td>\n",
              "      <td>0.042</td>\n",
              "      <td>0.031</td>\n",
              "      <td>0.032</td>\n",
              "      <td>0.007</td>\n",
              "      <td>0.037</td>\n",
              "      <td>0.014</td>\n",
              "      <td>0.014</td>\n",
              "      <td>0.029</td>\n",
              "    </tr>\n",
              "    <tr>\n",
              "      <th>min</th>\n",
              "      <td>0.000</td>\n",
              "      <td>0.000</td>\n",
              "      <td>0.000</td>\n",
              "      <td>0.000</td>\n",
              "      <td>0.000</td>\n",
              "      <td>0.000</td>\n",
              "      <td>0.000</td>\n",
              "      <td>0.000</td>\n",
              "      <td>0.000</td>\n",
              "      <td>0.000</td>\n",
              "      <td>0.000</td>\n",
              "      <td>0.000</td>\n",
              "    </tr>\n",
              "    <tr>\n",
              "      <th>25%</th>\n",
              "      <td>0.057</td>\n",
              "      <td>0.003</td>\n",
              "      <td>0.000</td>\n",
              "      <td>0.000</td>\n",
              "      <td>0.002</td>\n",
              "      <td>0.001</td>\n",
              "      <td>0.034</td>\n",
              "      <td>0.756</td>\n",
              "      <td>0.000</td>\n",
              "      <td>0.000</td>\n",
              "      <td>0.000</td>\n",
              "      <td>0.026</td>\n",
              "    </tr>\n",
              "    <tr>\n",
              "      <th>50%</th>\n",
              "      <td>0.452</td>\n",
              "      <td>0.009</td>\n",
              "      <td>0.000</td>\n",
              "      <td>0.000</td>\n",
              "      <td>0.007</td>\n",
              "      <td>0.005</td>\n",
              "      <td>0.034</td>\n",
              "      <td>0.756</td>\n",
              "      <td>0.000</td>\n",
              "      <td>0.000</td>\n",
              "      <td>0.000</td>\n",
              "      <td>0.026</td>\n",
              "    </tr>\n",
              "    <tr>\n",
              "      <th>75%</th>\n",
              "      <td>0.604</td>\n",
              "      <td>0.025</td>\n",
              "      <td>0.002</td>\n",
              "      <td>0.000</td>\n",
              "      <td>0.022</td>\n",
              "      <td>0.015</td>\n",
              "      <td>0.034</td>\n",
              "      <td>0.756</td>\n",
              "      <td>0.000</td>\n",
              "      <td>0.000</td>\n",
              "      <td>0.000</td>\n",
              "      <td>0.026</td>\n",
              "    </tr>\n",
              "    <tr>\n",
              "      <th>max</th>\n",
              "      <td>1.000</td>\n",
              "      <td>1.000</td>\n",
              "      <td>1.000</td>\n",
              "      <td>1.000</td>\n",
              "      <td>1.000</td>\n",
              "      <td>1.000</td>\n",
              "      <td>1.000</td>\n",
              "      <td>1.000</td>\n",
              "      <td>1.000</td>\n",
              "      <td>1.000</td>\n",
              "      <td>1.000</td>\n",
              "      <td>1.000</td>\n",
              "    </tr>\n",
              "  </tbody>\n",
              "</table>\n",
              "</div>"
            ],
            "text/plain": [
              "       Interest Rate  Original Principal Amount  ...  Repaid 3rd Party  Loans Held\n",
              "count     702872.000                 702872.000  ...        702872.000  702872.000\n",
              "mean           0.375                      0.021  ...             0.001       0.033\n",
              "std            0.280                      0.040  ...             0.014       0.029\n",
              "min            0.000                      0.000  ...             0.000       0.000\n",
              "25%            0.057                      0.003  ...             0.000       0.026\n",
              "50%            0.452                      0.009  ...             0.000       0.026\n",
              "75%            0.604                      0.025  ...             0.000       0.026\n",
              "max            1.000                      1.000  ...             1.000       1.000\n",
              "\n",
              "[8 rows x 12 columns]"
            ]
          },
          "metadata": {
            "tags": []
          },
          "execution_count": 228
        }
      ]
    },
    {
      "cell_type": "code",
      "metadata": {
        "id": "chxwfz0XtYn5",
        "colab": {
          "base_uri": "https://localhost:8080/",
          "height": 486
        },
        "outputId": "fb7522e1-6137-49f5-b715-0e252a246b48"
      },
      "source": [
        "bd.corr()"
      ],
      "execution_count": null,
      "outputs": [
        {
          "output_type": "execute_result",
          "data": {
            "text/html": [
              "<div>\n",
              "<style scoped>\n",
              "    .dataframe tbody tr th:only-of-type {\n",
              "        vertical-align: middle;\n",
              "    }\n",
              "\n",
              "    .dataframe tbody tr th {\n",
              "        vertical-align: top;\n",
              "    }\n",
              "\n",
              "    .dataframe thead th {\n",
              "        text-align: right;\n",
              "    }\n",
              "</style>\n",
              "<table border=\"1\" class=\"dataframe\">\n",
              "  <thead>\n",
              "    <tr style=\"text-align: right;\">\n",
              "      <th></th>\n",
              "      <th>Interest Rate</th>\n",
              "      <th>Original Principal Amount</th>\n",
              "      <th>Cancelled Amount</th>\n",
              "      <th>Undisbursed Amount</th>\n",
              "      <th>Disbursed Amount</th>\n",
              "      <th>Repaid to IBRD</th>\n",
              "      <th>Due to IBRD</th>\n",
              "      <th>Exchange Adjustment</th>\n",
              "      <th>Borrower's Obligation</th>\n",
              "      <th>Sold 3rd Party</th>\n",
              "      <th>Repaid 3rd Party</th>\n",
              "      <th>Loans Held</th>\n",
              "    </tr>\n",
              "  </thead>\n",
              "  <tbody>\n",
              "    <tr>\n",
              "      <th>Interest Rate</th>\n",
              "      <td>1.000</td>\n",
              "      <td>-0.275</td>\n",
              "      <td>-0.076</td>\n",
              "      <td>-0.196</td>\n",
              "      <td>-0.213</td>\n",
              "      <td>-0.024</td>\n",
              "      <td>-0.274</td>\n",
              "      <td>0.053</td>\n",
              "      <td>-0.278</td>\n",
              "      <td>0.043</td>\n",
              "      <td>0.043</td>\n",
              "      <td>-0.319</td>\n",
              "    </tr>\n",
              "    <tr>\n",
              "      <th>Original Principal Amount</th>\n",
              "      <td>-0.275</td>\n",
              "      <td>1.000</td>\n",
              "      <td>0.311</td>\n",
              "      <td>0.372</td>\n",
              "      <td>0.891</td>\n",
              "      <td>0.595</td>\n",
              "      <td>0.655</td>\n",
              "      <td>-0.239</td>\n",
              "      <td>0.654</td>\n",
              "      <td>-0.007</td>\n",
              "      <td>-0.007</td>\n",
              "      <td>0.720</td>\n",
              "    </tr>\n",
              "    <tr>\n",
              "      <th>Cancelled Amount</th>\n",
              "      <td>-0.076</td>\n",
              "      <td>0.311</td>\n",
              "      <td>1.000</td>\n",
              "      <td>-0.021</td>\n",
              "      <td>0.028</td>\n",
              "      <td>0.056</td>\n",
              "      <td>-0.014</td>\n",
              "      <td>0.012</td>\n",
              "      <td>-0.014</td>\n",
              "      <td>-0.017</td>\n",
              "      <td>-0.017</td>\n",
              "      <td>-0.021</td>\n",
              "    </tr>\n",
              "    <tr>\n",
              "      <th>Undisbursed Amount</th>\n",
              "      <td>-0.196</td>\n",
              "      <td>0.372</td>\n",
              "      <td>-0.021</td>\n",
              "      <td>1.000</td>\n",
              "      <td>0.037</td>\n",
              "      <td>-0.064</td>\n",
              "      <td>0.113</td>\n",
              "      <td>-0.048</td>\n",
              "      <td>0.112</td>\n",
              "      <td>-0.013</td>\n",
              "      <td>-0.013</td>\n",
              "      <td>0.554</td>\n",
              "    </tr>\n",
              "    <tr>\n",
              "      <th>Disbursed Amount</th>\n",
              "      <td>-0.213</td>\n",
              "      <td>0.891</td>\n",
              "      <td>0.028</td>\n",
              "      <td>0.037</td>\n",
              "      <td>1.000</td>\n",
              "      <td>0.691</td>\n",
              "      <td>0.713</td>\n",
              "      <td>-0.262</td>\n",
              "      <td>0.711</td>\n",
              "      <td>0.003</td>\n",
              "      <td>0.003</td>\n",
              "      <td>0.614</td>\n",
              "    </tr>\n",
              "    <tr>\n",
              "      <th>Repaid to IBRD</th>\n",
              "      <td>-0.024</td>\n",
              "      <td>0.595</td>\n",
              "      <td>0.056</td>\n",
              "      <td>-0.064</td>\n",
              "      <td>0.691</td>\n",
              "      <td>1.000</td>\n",
              "      <td>-0.013</td>\n",
              "      <td>0.027</td>\n",
              "      <td>-0.011</td>\n",
              "      <td>-0.015</td>\n",
              "      <td>-0.015</td>\n",
              "      <td>-0.040</td>\n",
              "    </tr>\n",
              "    <tr>\n",
              "      <th>Due to IBRD</th>\n",
              "      <td>-0.274</td>\n",
              "      <td>0.655</td>\n",
              "      <td>-0.014</td>\n",
              "      <td>0.113</td>\n",
              "      <td>0.713</td>\n",
              "      <td>-0.013</td>\n",
              "      <td>1.000</td>\n",
              "      <td>-0.388</td>\n",
              "      <td>0.996</td>\n",
              "      <td>-0.019</td>\n",
              "      <td>-0.019</td>\n",
              "      <td>0.890</td>\n",
              "    </tr>\n",
              "    <tr>\n",
              "      <th>Exchange Adjustment</th>\n",
              "      <td>0.053</td>\n",
              "      <td>-0.239</td>\n",
              "      <td>0.012</td>\n",
              "      <td>-0.048</td>\n",
              "      <td>-0.262</td>\n",
              "      <td>0.027</td>\n",
              "      <td>-0.388</td>\n",
              "      <td>1.000</td>\n",
              "      <td>-0.299</td>\n",
              "      <td>0.003</td>\n",
              "      <td>0.003</td>\n",
              "      <td>-0.347</td>\n",
              "    </tr>\n",
              "    <tr>\n",
              "      <th>Borrower's Obligation</th>\n",
              "      <td>-0.278</td>\n",
              "      <td>0.654</td>\n",
              "      <td>-0.014</td>\n",
              "      <td>0.112</td>\n",
              "      <td>0.711</td>\n",
              "      <td>-0.011</td>\n",
              "      <td>0.996</td>\n",
              "      <td>-0.299</td>\n",
              "      <td>1.000</td>\n",
              "      <td>-0.020</td>\n",
              "      <td>-0.020</td>\n",
              "      <td>0.886</td>\n",
              "    </tr>\n",
              "    <tr>\n",
              "      <th>Sold 3rd Party</th>\n",
              "      <td>0.043</td>\n",
              "      <td>-0.007</td>\n",
              "      <td>-0.017</td>\n",
              "      <td>-0.013</td>\n",
              "      <td>0.003</td>\n",
              "      <td>-0.015</td>\n",
              "      <td>-0.019</td>\n",
              "      <td>0.003</td>\n",
              "      <td>-0.020</td>\n",
              "      <td>1.000</td>\n",
              "      <td>1.000</td>\n",
              "      <td>-0.022</td>\n",
              "    </tr>\n",
              "    <tr>\n",
              "      <th>Repaid 3rd Party</th>\n",
              "      <td>0.043</td>\n",
              "      <td>-0.007</td>\n",
              "      <td>-0.017</td>\n",
              "      <td>-0.013</td>\n",
              "      <td>0.003</td>\n",
              "      <td>-0.015</td>\n",
              "      <td>-0.019</td>\n",
              "      <td>0.003</td>\n",
              "      <td>-0.020</td>\n",
              "      <td>1.000</td>\n",
              "      <td>1.000</td>\n",
              "      <td>-0.022</td>\n",
              "    </tr>\n",
              "    <tr>\n",
              "      <th>Loans Held</th>\n",
              "      <td>-0.319</td>\n",
              "      <td>0.720</td>\n",
              "      <td>-0.021</td>\n",
              "      <td>0.554</td>\n",
              "      <td>0.614</td>\n",
              "      <td>-0.040</td>\n",
              "      <td>0.890</td>\n",
              "      <td>-0.347</td>\n",
              "      <td>0.886</td>\n",
              "      <td>-0.022</td>\n",
              "      <td>-0.022</td>\n",
              "      <td>1.000</td>\n",
              "    </tr>\n",
              "  </tbody>\n",
              "</table>\n",
              "</div>"
            ],
            "text/plain": [
              "                           Interest Rate  ...  Loans Held\n",
              "Interest Rate                      1.000  ...      -0.319\n",
              "Original Principal Amount         -0.275  ...       0.720\n",
              "Cancelled Amount                  -0.076  ...      -0.021\n",
              "Undisbursed Amount                -0.196  ...       0.554\n",
              "Disbursed Amount                  -0.213  ...       0.614\n",
              "Repaid to IBRD                    -0.024  ...      -0.040\n",
              "Due to IBRD                       -0.274  ...       0.890\n",
              "Exchange Adjustment                0.053  ...      -0.347\n",
              "Borrower's Obligation             -0.278  ...       0.886\n",
              "Sold 3rd Party                     0.043  ...      -0.022\n",
              "Repaid 3rd Party                   0.043  ...      -0.022\n",
              "Loans Held                        -0.319  ...       1.000\n",
              "\n",
              "[12 rows x 12 columns]"
            ]
          },
          "metadata": {
            "tags": []
          },
          "execution_count": 229
        }
      ]
    },
    {
      "cell_type": "code",
      "metadata": {
        "id": "hlWaIof2uMmm"
      },
      "source": [
        "bd.drop(['Country Code','Guarantor Country Code','End of Period','Loan Number'],axis=1,inplace=True)"
      ],
      "execution_count": null,
      "outputs": []
    },
    {
      "cell_type": "code",
      "metadata": {
        "id": "QEt3Ueq3xzeZ"
      },
      "source": [
        "bd.drop(['Project Name '],axis=1,inplace=True)"
      ],
      "execution_count": null,
      "outputs": []
    },
    {
      "cell_type": "code",
      "metadata": {
        "id": "xoYrKJ9GyVQd",
        "colab": {
          "base_uri": "https://localhost:8080/"
        },
        "outputId": "40c07155-dda0-4c6d-c7ca-b60a5840fc40"
      },
      "source": [
        "x=bd.columns\n",
        "x=set(x) - set(['Region','Country','Borrower','Guarantor','Loan Status','Project ID'])\n",
        "print(x)"
      ],
      "execution_count": null,
      "outputs": [
        {
          "output_type": "stream",
          "text": [
            "{'Cancelled Amount', \"Borrower's Obligation\", 'Interest Rate', 'Loan Type', 'Undisbursed Amount', 'Disbursed Amount', 'Original Principal Amount', 'Sold 3rd Party', 'Due to IBRD', 'Loans Held', 'Repaid to IBRD', 'Repaid 3rd Party', 'Exchange Adjustment'}\n"
          ],
          "name": "stdout"
        }
      ]
    },
    {
      "cell_type": "code",
      "metadata": {
        "id": "jIavHs2Jy8Ch"
      },
      "source": [
        "bd2=bd[x]"
      ],
      "execution_count": null,
      "outputs": []
    },
    {
      "cell_type": "code",
      "metadata": {
        "id": "d6N_r1pvzZE3",
        "colab": {
          "base_uri": "https://localhost:8080/"
        },
        "outputId": "7fe88d5d-9e2b-43f9-8d02-ff1ab2d68c01"
      },
      "source": [
        "bd2.info()"
      ],
      "execution_count": null,
      "outputs": [
        {
          "output_type": "stream",
          "text": [
            "<class 'pandas.core.frame.DataFrame'>\n",
            "Int64Index: 702872 entries, 0 to 969425\n",
            "Data columns (total 13 columns):\n",
            " #   Column                     Non-Null Count   Dtype  \n",
            "---  ------                     --------------   -----  \n",
            " 0   Cancelled Amount           702872 non-null  float64\n",
            " 1   Borrower's Obligation      702872 non-null  float64\n",
            " 2   Interest Rate              702872 non-null  float64\n",
            " 3   Loan Type                  702872 non-null  object \n",
            " 4   Undisbursed Amount         702872 non-null  float64\n",
            " 5   Disbursed Amount           702872 non-null  float64\n",
            " 6   Original Principal Amount  702872 non-null  float64\n",
            " 7   Sold 3rd Party             702872 non-null  float64\n",
            " 8   Due to IBRD                702872 non-null  float64\n",
            " 9   Loans Held                 702872 non-null  float64\n",
            " 10  Repaid to IBRD             702872 non-null  float64\n",
            " 11  Repaid 3rd Party           702872 non-null  float64\n",
            " 12  Exchange Adjustment        702872 non-null  float64\n",
            "dtypes: float64(12), object(1)\n",
            "memory usage: 75.1+ MB\n"
          ],
          "name": "stdout"
        }
      ]
    },
    {
      "cell_type": "code",
      "metadata": {
        "id": "o40MZ5TezhND",
        "colab": {
          "base_uri": "https://localhost:8080/"
        },
        "outputId": "f81e6e2c-16a6-407c-f3bd-7e0efd194e46"
      },
      "source": [
        "bd2=pd.get_dummies(bd2,drop_first=True)\n",
        "bd2.info()"
      ],
      "execution_count": null,
      "outputs": [
        {
          "output_type": "stream",
          "text": [
            "<class 'pandas.core.frame.DataFrame'>\n",
            "Int64Index: 702872 entries, 0 to 969425\n",
            "Data columns (total 25 columns):\n",
            " #   Column                     Non-Null Count   Dtype  \n",
            "---  ------                     --------------   -----  \n",
            " 0   Cancelled Amount           702872 non-null  float64\n",
            " 1   Borrower's Obligation      702872 non-null  float64\n",
            " 2   Interest Rate              702872 non-null  float64\n",
            " 3   Undisbursed Amount         702872 non-null  float64\n",
            " 4   Disbursed Amount           702872 non-null  float64\n",
            " 5   Original Principal Amount  702872 non-null  float64\n",
            " 6   Sold 3rd Party             702872 non-null  float64\n",
            " 7   Due to IBRD                702872 non-null  float64\n",
            " 8   Loans Held                 702872 non-null  float64\n",
            " 9   Repaid to IBRD             702872 non-null  float64\n",
            " 10  Repaid 3rd Party           702872 non-null  float64\n",
            " 11  Exchange Adjustment        702872 non-null  float64\n",
            " 12  Loan Type_CPL              702872 non-null  uint8  \n",
            " 13  Loan Type_FSL              702872 non-null  uint8  \n",
            " 14  Loan Type_NON POOL         702872 non-null  uint8  \n",
            " 15  Loan Type_NPL              702872 non-null  uint8  \n",
            " 16  Loan Type_POOL LOAN        702872 non-null  uint8  \n",
            " 17  Loan Type_SCL              702872 non-null  uint8  \n",
            " 18  Loan Type_SCP EUR          702872 non-null  uint8  \n",
            " 19  Loan Type_SCP JPY          702872 non-null  uint8  \n",
            " 20  Loan Type_SCP USD          702872 non-null  uint8  \n",
            " 21  Loan Type_SCPD             702872 non-null  uint8  \n",
            " 22  Loan Type_SCPM             702872 non-null  uint8  \n",
            " 23  Loan Type_SCPY             702872 non-null  uint8  \n",
            " 24  Loan Type_SNGL CRNCY       702872 non-null  uint8  \n",
            "dtypes: float64(12), uint8(13)\n",
            "memory usage: 78.4 MB\n"
          ],
          "name": "stdout"
        }
      ]
    },
    {
      "cell_type": "code",
      "metadata": {
        "id": "Yjon4NNxzuJq"
      },
      "source": [
        "y=bd2['Interest Rate'].values"
      ],
      "execution_count": null,
      "outputs": []
    },
    {
      "cell_type": "code",
      "metadata": {
        "id": "Kc-7YXCH3VLs"
      },
      "source": [
        "features=set(bd2.columns)-set(['Interest Rate'])\n",
        "x=bd2[features].values\n",
        "x=x.reshape(702872,-1)"
      ],
      "execution_count": null,
      "outputs": []
    },
    {
      "cell_type": "code",
      "metadata": {
        "id": "-GW1tML93oL3"
      },
      "source": [
        "from sklearn.model_selection import train_test_split\n",
        "from sklearn.linear_model import LinearRegression\n",
        "from sklearn.metrics import mean_squared_error"
      ],
      "execution_count": null,
      "outputs": []
    },
    {
      "cell_type": "code",
      "metadata": {
        "id": "3apJSn804BqK"
      },
      "source": [
        "trainx,testx,trainy,testy=train_test_split(x,y,test_size=0.2,random_state=0)"
      ],
      "execution_count": null,
      "outputs": []
    },
    {
      "cell_type": "code",
      "metadata": {
        "id": "gu5N7JBc4Ovx"
      },
      "source": [
        "mdl=LinearRegression()"
      ],
      "execution_count": null,
      "outputs": []
    },
    {
      "cell_type": "code",
      "metadata": {
        "id": "UZQZE7v04SI4",
        "colab": {
          "base_uri": "https://localhost:8080/"
        },
        "outputId": "5ebd18e3-c096-4744-a1d2-a4e2547a8073"
      },
      "source": [
        "mdl.fit(trainx,trainy)"
      ],
      "execution_count": null,
      "outputs": [
        {
          "output_type": "execute_result",
          "data": {
            "text/plain": [
              "LinearRegression(copy_X=True, fit_intercept=True, n_jobs=None, normalize=False)"
            ]
          },
          "metadata": {
            "tags": []
          },
          "execution_count": 242
        }
      ]
    },
    {
      "cell_type": "code",
      "metadata": {
        "id": "YF47cPW6498Y"
      },
      "source": [
        "pred=mdl.predict(testx)"
      ],
      "execution_count": null,
      "outputs": []
    },
    {
      "cell_type": "code",
      "metadata": {
        "id": "qjqGcp887Ro-",
        "colab": {
          "base_uri": "https://localhost:8080/"
        },
        "outputId": "9b4f3248-dd32-45fc-a456-06824146f16e"
      },
      "source": [
        "acs=np.sqrt(mean_squared_error(testy,pred))\n",
        "print(1-acs)"
      ],
      "execution_count": null,
      "outputs": [
        {
          "output_type": "stream",
          "text": [
            "0.8580005678365559\n"
          ],
          "name": "stdout"
        }
      ]
    },
    {
      "cell_type": "code",
      "metadata": {
        "id": "TpIetyFOJczg"
      },
      "source": [
        "bd['Region'].replace('AFRICA','Africa',inplace=True)\n",
        "bd['Region'].replace('LATIN AMERICA AND CARIBBEAN','Latin America and Caribbean',inplace=True)\n",
        "bd['Region'].replace('SOUTH ASIA','South Asia',inplace=True)\n",
        "bd['Region'].replace('EAST ASIA AND PACIFIC','East Asia and Pacific',inplace=True)\n",
        "bd['Region'].replace('EUROPE AND CENTRAL ASIA','Europe and Central Asia',inplace=True)\n",
        "bd['Region'].replace('MIDDLE EAST AND NORTH AFRICA','Middle East and North Africa',inplace=True)"
      ],
      "execution_count": null,
      "outputs": []
    },
    {
      "cell_type": "code",
      "metadata": {
        "id": "lDk6bv_aKvMi",
        "colab": {
          "base_uri": "https://localhost:8080/"
        },
        "outputId": "390800c1-70e0-41a5-dba8-68818924f01a"
      },
      "source": [
        "bd['Region'].value_counts()"
      ],
      "execution_count": null,
      "outputs": [
        {
          "output_type": "execute_result",
          "data": {
            "text/plain": [
              "Latin America and Caribbean     232983\n",
              "East Asia and Pacific           159381\n",
              "Europe and Central Asia         121462\n",
              "Middle East and North Africa     84737\n",
              "Africa                           63248\n",
              "South Asia                       38841\n",
              "AFRICA WEST                       1149\n",
              "AFRICA EAST                       1071\n",
              "Name: Region, dtype: int64"
            ]
          },
          "metadata": {
            "tags": []
          },
          "execution_count": 247
        }
      ]
    },
    {
      "cell_type": "code",
      "metadata": {
        "id": "OwIy32kQK3Fk",
        "colab": {
          "base_uri": "https://localhost:8080/",
          "height": 900
        },
        "outputId": "a8067037-efd5-4807-a227-479151cfa3cd"
      },
      "source": [
        "sns.set(rc={'figure.figsize':(18,15)})\n",
        "sns.boxplot(x='Region',y='Interest Rate',data=bd)"
      ],
      "execution_count": null,
      "outputs": [
        {
          "output_type": "execute_result",
          "data": {
            "text/plain": [
              "<matplotlib.axes._subplots.AxesSubplot at 0x7f1ba9139710>"
            ]
          },
          "metadata": {
            "tags": []
          },
          "execution_count": 248
        },
        {
          "output_type": "display_data",
          "data": {
            "image/png": "[encoded data removed]",
            "text/plain": [
              "<Figure size 1296x1080 with 1 Axes>"
            ]
          },
          "metadata": {
            "tags": []
          }
        }
      ]
    },
    {
      "cell_type": "code",
      "metadata": {
        "id": "i_zG620BMZ0U",
        "colab": {
          "base_uri": "https://localhost:8080/",
          "height": 900
        },
        "outputId": "09990df5-ba80-4403-fbbf-6d4e8cd8c84b"
      },
      "source": [
        "sns.boxplot(x='Loan Type',y='Interest Rate',data=bd)"
      ],
      "execution_count": null,
      "outputs": [
        {
          "output_type": "execute_result",
          "data": {
            "text/plain": [
              "<matplotlib.axes._subplots.AxesSubplot at 0x7f1bbc5ef7b8>"
            ]
          },
          "metadata": {
            "tags": []
          },
          "execution_count": 249
        },
        {
          "output_type": "display_data",
          "data": {
            "image/png": "[encoded data removed]",
            "text/plain": [
              "<Figure size 1296x1080 with 1 Axes>"
            ]
          },
          "metadata": {
            "tags": []
          }
        }
      ]
    },
    {
      "cell_type": "code",
      "metadata": {
        "id": "82vZdajzNWCn",
        "colab": {
          "base_uri": "https://localhost:8080/",
          "height": 900
        },
        "outputId": "1ffb8bb0-b9ff-486c-a900-b3d6bc6380e3"
      },
      "source": [
        "sns.scatterplot(x='Original Principal Amount',y='Interest Rate',data=bd)"
      ],
      "execution_count": null,
      "outputs": [
        {
          "output_type": "execute_result",
          "data": {
            "text/plain": [
              "<matplotlib.axes._subplots.AxesSubplot at 0x7f1ba9662a58>"
            ]
          },
          "metadata": {
            "tags": []
          },
          "execution_count": 250
        },
        {
          "output_type": "display_data",
          "data": {
            "image/png": "[encoded data removed]",
            "text/plain": [
              "<Figure size 1296x1080 with 1 Axes>"
            ]
          },
          "metadata": {
            "tags": []
          }
        }
      ]
    },
    {
      "cell_type": "code",
      "metadata": {
        "id": "z42U15S2OKBp",
        "colab": {
          "base_uri": "https://localhost:8080/",
          "height": 518
        },
        "outputId": "ac55e279-d8cf-47f3-b311-e595468bce07"
      },
      "source": [
        "pd.crosstab(index=bd['Interest Rate'],columns=bd['Country'])"
      ],
      "execution_count": null,
      "outputs": [
        {
          "output_type": "execute_result",
          "data": {
            "text/html": [
              "<div>\n",
              "<style scoped>\n",
              "    .dataframe tbody tr th:only-of-type {\n",
              "        vertical-align: middle;\n",
              "    }\n",
              "\n",
              "    .dataframe tbody tr th {\n",
              "        vertical-align: top;\n",
              "    }\n",
              "\n",
              "    .dataframe thead th {\n",
              "        text-align: right;\n",
              "    }\n",
              "</style>\n",
              "<table border=\"1\" class=\"dataframe\">\n",
              "  <thead>\n",
              "    <tr style=\"text-align: right;\">\n",
              "      <th>Country</th>\n",
              "      <th>Albania</th>\n",
              "      <th>Algeria</th>\n",
              "      <th>Angola</th>\n",
              "      <th>Antigua and Barbuda</th>\n",
              "      <th>Argentina</th>\n",
              "      <th>Armenia</th>\n",
              "      <th>Australia</th>\n",
              "      <th>Azerbaijan</th>\n",
              "      <th>Bangladesh</th>\n",
              "      <th>Barbados</th>\n",
              "      <th>Belarus</th>\n",
              "      <th>Belgium</th>\n",
              "      <th>Belize</th>\n",
              "      <th>Bolivia</th>\n",
              "      <th>Bosnia and Herzegovina</th>\n",
              "      <th>Botswana</th>\n",
              "      <th>Brazil</th>\n",
              "      <th>Bulgaria</th>\n",
              "      <th>Burundi</th>\n",
              "      <th>Cabo Verde</th>\n",
              "      <th>Cameroon</th>\n",
              "      <th>Cape Verde</th>\n",
              "      <th>Caribbean</th>\n",
              "      <th>Chad</th>\n",
              "      <th>Chile</th>\n",
              "      <th>China</th>\n",
              "      <th>Colombia</th>\n",
              "      <th>Congo, Democratic Republic of</th>\n",
              "      <th>Congo, Republic of</th>\n",
              "      <th>Costa Rica</th>\n",
              "      <th>Cote d'Ivoire</th>\n",
              "      <th>Croatia</th>\n",
              "      <th>Cyprus</th>\n",
              "      <th>Czech Republic</th>\n",
              "      <th>Dominica</th>\n",
              "      <th>Dominican Republic</th>\n",
              "      <th>Eastern Africa</th>\n",
              "      <th>Ecuador</th>\n",
              "      <th>Egypt, Arab Republic of</th>\n",
              "      <th>El Salvador</th>\n",
              "      <th>...</th>\n",
              "      <th>Paraguay</th>\n",
              "      <th>Peru</th>\n",
              "      <th>Philippines</th>\n",
              "      <th>Poland</th>\n",
              "      <th>Romania</th>\n",
              "      <th>Russian Federation</th>\n",
              "      <th>Senegal</th>\n",
              "      <th>Serbia</th>\n",
              "      <th>Seychelles</th>\n",
              "      <th>Sierra Leone</th>\n",
              "      <th>Singapore</th>\n",
              "      <th>Slovak Republic</th>\n",
              "      <th>Slovenia</th>\n",
              "      <th>South Africa</th>\n",
              "      <th>Sri Lanka</th>\n",
              "      <th>St. Kitts and Nevis</th>\n",
              "      <th>St. Lucia</th>\n",
              "      <th>St. Vincent and the Grenadines</th>\n",
              "      <th>Sudan</th>\n",
              "      <th>Suriname</th>\n",
              "      <th>Swaziland</th>\n",
              "      <th>Syrian Arab Republic</th>\n",
              "      <th>Taiwan, China</th>\n",
              "      <th>Tanzania</th>\n",
              "      <th>Thailand</th>\n",
              "      <th>Timor-Leste</th>\n",
              "      <th>Togo</th>\n",
              "      <th>Trinidad and Tobago</th>\n",
              "      <th>Tunisia</th>\n",
              "      <th>Turkey</th>\n",
              "      <th>Turkmenistan</th>\n",
              "      <th>Uganda</th>\n",
              "      <th>Ukraine</th>\n",
              "      <th>Uruguay</th>\n",
              "      <th>Uzbekistan</th>\n",
              "      <th>Venezuela, Republica Bolivariana de</th>\n",
              "      <th>Vietnam</th>\n",
              "      <th>Western Africa</th>\n",
              "      <th>Zambia</th>\n",
              "      <th>Zimbabwe</th>\n",
              "    </tr>\n",
              "    <tr>\n",
              "      <th>Interest Rate</th>\n",
              "      <th></th>\n",
              "      <th></th>\n",
              "      <th></th>\n",
              "      <th></th>\n",
              "      <th></th>\n",
              "      <th></th>\n",
              "      <th></th>\n",
              "      <th></th>\n",
              "      <th></th>\n",
              "      <th></th>\n",
              "      <th></th>\n",
              "      <th></th>\n",
              "      <th></th>\n",
              "      <th></th>\n",
              "      <th></th>\n",
              "      <th></th>\n",
              "      <th></th>\n",
              "      <th></th>\n",
              "      <th></th>\n",
              "      <th></th>\n",
              "      <th></th>\n",
              "      <th></th>\n",
              "      <th></th>\n",
              "      <th></th>\n",
              "      <th></th>\n",
              "      <th></th>\n",
              "      <th></th>\n",
              "      <th></th>\n",
              "      <th></th>\n",
              "      <th></th>\n",
              "      <th></th>\n",
              "      <th></th>\n",
              "      <th></th>\n",
              "      <th></th>\n",
              "      <th></th>\n",
              "      <th></th>\n",
              "      <th></th>\n",
              "      <th></th>\n",
              "      <th></th>\n",
              "      <th></th>\n",
              "      <th></th>\n",
              "      <th></th>\n",
              "      <th></th>\n",
              "      <th></th>\n",
              "      <th></th>\n",
              "      <th></th>\n",
              "      <th></th>\n",
              "      <th></th>\n",
              "      <th></th>\n",
              "      <th></th>\n",
              "      <th></th>\n",
              "      <th></th>\n",
              "      <th></th>\n",
              "      <th></th>\n",
              "      <th></th>\n",
              "      <th></th>\n",
              "      <th></th>\n",
              "      <th></th>\n",
              "      <th></th>\n",
              "      <th></th>\n",
              "      <th></th>\n",
              "      <th></th>\n",
              "      <th></th>\n",
              "      <th></th>\n",
              "      <th></th>\n",
              "      <th></th>\n",
              "      <th></th>\n",
              "      <th></th>\n",
              "      <th></th>\n",
              "      <th></th>\n",
              "      <th></th>\n",
              "      <th></th>\n",
              "      <th></th>\n",
              "      <th></th>\n",
              "      <th></th>\n",
              "      <th></th>\n",
              "      <th></th>\n",
              "      <th></th>\n",
              "      <th></th>\n",
              "      <th></th>\n",
              "      <th></th>\n",
              "    </tr>\n",
              "  </thead>\n",
              "  <tbody>\n",
              "    <tr>\n",
              "      <th>0.000</th>\n",
              "      <td>1150</td>\n",
              "      <td>2176</td>\n",
              "      <td>292</td>\n",
              "      <td>81</td>\n",
              "      <td>5522</td>\n",
              "      <td>1993</td>\n",
              "      <td>0</td>\n",
              "      <td>1874</td>\n",
              "      <td>0</td>\n",
              "      <td>170</td>\n",
              "      <td>1072</td>\n",
              "      <td>0</td>\n",
              "      <td>309</td>\n",
              "      <td>248</td>\n",
              "      <td>624</td>\n",
              "      <td>333</td>\n",
              "      <td>11941</td>\n",
              "      <td>470</td>\n",
              "      <td>0</td>\n",
              "      <td>73</td>\n",
              "      <td>215</td>\n",
              "      <td>19</td>\n",
              "      <td>0</td>\n",
              "      <td>0</td>\n",
              "      <td>1515</td>\n",
              "      <td>9608</td>\n",
              "      <td>7483</td>\n",
              "      <td>0</td>\n",
              "      <td>131</td>\n",
              "      <td>633</td>\n",
              "      <td>74</td>\n",
              "      <td>2470</td>\n",
              "      <td>0</td>\n",
              "      <td>0</td>\n",
              "      <td>425</td>\n",
              "      <td>2228</td>\n",
              "      <td>0</td>\n",
              "      <td>1891</td>\n",
              "      <td>3160</td>\n",
              "      <td>1472</td>\n",
              "      <td>...</td>\n",
              "      <td>1721</td>\n",
              "      <td>5054</td>\n",
              "      <td>3906</td>\n",
              "      <td>1896</td>\n",
              "      <td>1097</td>\n",
              "      <td>488</td>\n",
              "      <td>0</td>\n",
              "      <td>1939</td>\n",
              "      <td>501</td>\n",
              "      <td>0</td>\n",
              "      <td>0</td>\n",
              "      <td>595</td>\n",
              "      <td>395</td>\n",
              "      <td>255</td>\n",
              "      <td>311</td>\n",
              "      <td>597</td>\n",
              "      <td>850</td>\n",
              "      <td>425</td>\n",
              "      <td>0</td>\n",
              "      <td>35</td>\n",
              "      <td>210</td>\n",
              "      <td>0</td>\n",
              "      <td>85</td>\n",
              "      <td>0</td>\n",
              "      <td>1606</td>\n",
              "      <td>58</td>\n",
              "      <td>0</td>\n",
              "      <td>518</td>\n",
              "      <td>4294</td>\n",
              "      <td>5989</td>\n",
              "      <td>0</td>\n",
              "      <td>0</td>\n",
              "      <td>1350</td>\n",
              "      <td>2583</td>\n",
              "      <td>478</td>\n",
              "      <td>160</td>\n",
              "      <td>924</td>\n",
              "      <td>0</td>\n",
              "      <td>0</td>\n",
              "      <td>0</td>\n",
              "    </tr>\n",
              "    <tr>\n",
              "      <th>0.002</th>\n",
              "      <td>0</td>\n",
              "      <td>0</td>\n",
              "      <td>0</td>\n",
              "      <td>0</td>\n",
              "      <td>0</td>\n",
              "      <td>0</td>\n",
              "      <td>0</td>\n",
              "      <td>0</td>\n",
              "      <td>0</td>\n",
              "      <td>0</td>\n",
              "      <td>0</td>\n",
              "      <td>0</td>\n",
              "      <td>0</td>\n",
              "      <td>0</td>\n",
              "      <td>0</td>\n",
              "      <td>0</td>\n",
              "      <td>0</td>\n",
              "      <td>0</td>\n",
              "      <td>0</td>\n",
              "      <td>0</td>\n",
              "      <td>0</td>\n",
              "      <td>0</td>\n",
              "      <td>0</td>\n",
              "      <td>0</td>\n",
              "      <td>0</td>\n",
              "      <td>0</td>\n",
              "      <td>0</td>\n",
              "      <td>0</td>\n",
              "      <td>0</td>\n",
              "      <td>0</td>\n",
              "      <td>0</td>\n",
              "      <td>0</td>\n",
              "      <td>0</td>\n",
              "      <td>0</td>\n",
              "      <td>0</td>\n",
              "      <td>0</td>\n",
              "      <td>0</td>\n",
              "      <td>0</td>\n",
              "      <td>0</td>\n",
              "      <td>0</td>\n",
              "      <td>...</td>\n",
              "      <td>0</td>\n",
              "      <td>0</td>\n",
              "      <td>0</td>\n",
              "      <td>0</td>\n",
              "      <td>0</td>\n",
              "      <td>0</td>\n",
              "      <td>0</td>\n",
              "      <td>0</td>\n",
              "      <td>0</td>\n",
              "      <td>0</td>\n",
              "      <td>0</td>\n",
              "      <td>0</td>\n",
              "      <td>0</td>\n",
              "      <td>0</td>\n",
              "      <td>0</td>\n",
              "      <td>0</td>\n",
              "      <td>0</td>\n",
              "      <td>0</td>\n",
              "      <td>0</td>\n",
              "      <td>0</td>\n",
              "      <td>0</td>\n",
              "      <td>0</td>\n",
              "      <td>0</td>\n",
              "      <td>0</td>\n",
              "      <td>0</td>\n",
              "      <td>0</td>\n",
              "      <td>0</td>\n",
              "      <td>0</td>\n",
              "      <td>0</td>\n",
              "      <td>6</td>\n",
              "      <td>0</td>\n",
              "      <td>0</td>\n",
              "      <td>0</td>\n",
              "      <td>0</td>\n",
              "      <td>0</td>\n",
              "      <td>0</td>\n",
              "      <td>0</td>\n",
              "      <td>0</td>\n",
              "      <td>0</td>\n",
              "      <td>0</td>\n",
              "    </tr>\n",
              "    <tr>\n",
              "      <th>0.004</th>\n",
              "      <td>0</td>\n",
              "      <td>0</td>\n",
              "      <td>0</td>\n",
              "      <td>0</td>\n",
              "      <td>0</td>\n",
              "      <td>0</td>\n",
              "      <td>0</td>\n",
              "      <td>0</td>\n",
              "      <td>0</td>\n",
              "      <td>0</td>\n",
              "      <td>0</td>\n",
              "      <td>0</td>\n",
              "      <td>0</td>\n",
              "      <td>0</td>\n",
              "      <td>0</td>\n",
              "      <td>0</td>\n",
              "      <td>0</td>\n",
              "      <td>0</td>\n",
              "      <td>0</td>\n",
              "      <td>0</td>\n",
              "      <td>0</td>\n",
              "      <td>0</td>\n",
              "      <td>0</td>\n",
              "      <td>0</td>\n",
              "      <td>0</td>\n",
              "      <td>0</td>\n",
              "      <td>0</td>\n",
              "      <td>0</td>\n",
              "      <td>0</td>\n",
              "      <td>0</td>\n",
              "      <td>0</td>\n",
              "      <td>0</td>\n",
              "      <td>0</td>\n",
              "      <td>0</td>\n",
              "      <td>0</td>\n",
              "      <td>0</td>\n",
              "      <td>0</td>\n",
              "      <td>0</td>\n",
              "      <td>0</td>\n",
              "      <td>0</td>\n",
              "      <td>...</td>\n",
              "      <td>0</td>\n",
              "      <td>0</td>\n",
              "      <td>0</td>\n",
              "      <td>0</td>\n",
              "      <td>12</td>\n",
              "      <td>0</td>\n",
              "      <td>0</td>\n",
              "      <td>0</td>\n",
              "      <td>0</td>\n",
              "      <td>0</td>\n",
              "      <td>0</td>\n",
              "      <td>0</td>\n",
              "      <td>0</td>\n",
              "      <td>0</td>\n",
              "      <td>0</td>\n",
              "      <td>0</td>\n",
              "      <td>0</td>\n",
              "      <td>0</td>\n",
              "      <td>0</td>\n",
              "      <td>0</td>\n",
              "      <td>0</td>\n",
              "      <td>0</td>\n",
              "      <td>0</td>\n",
              "      <td>0</td>\n",
              "      <td>0</td>\n",
              "      <td>0</td>\n",
              "      <td>0</td>\n",
              "      <td>0</td>\n",
              "      <td>0</td>\n",
              "      <td>0</td>\n",
              "      <td>0</td>\n",
              "      <td>0</td>\n",
              "      <td>0</td>\n",
              "      <td>0</td>\n",
              "      <td>0</td>\n",
              "      <td>0</td>\n",
              "      <td>0</td>\n",
              "      <td>0</td>\n",
              "      <td>0</td>\n",
              "      <td>0</td>\n",
              "    </tr>\n",
              "    <tr>\n",
              "      <th>0.005</th>\n",
              "      <td>0</td>\n",
              "      <td>0</td>\n",
              "      <td>0</td>\n",
              "      <td>0</td>\n",
              "      <td>0</td>\n",
              "      <td>0</td>\n",
              "      <td>0</td>\n",
              "      <td>0</td>\n",
              "      <td>0</td>\n",
              "      <td>0</td>\n",
              "      <td>0</td>\n",
              "      <td>0</td>\n",
              "      <td>0</td>\n",
              "      <td>0</td>\n",
              "      <td>0</td>\n",
              "      <td>0</td>\n",
              "      <td>0</td>\n",
              "      <td>0</td>\n",
              "      <td>0</td>\n",
              "      <td>0</td>\n",
              "      <td>0</td>\n",
              "      <td>0</td>\n",
              "      <td>0</td>\n",
              "      <td>0</td>\n",
              "      <td>0</td>\n",
              "      <td>0</td>\n",
              "      <td>0</td>\n",
              "      <td>0</td>\n",
              "      <td>0</td>\n",
              "      <td>0</td>\n",
              "      <td>0</td>\n",
              "      <td>0</td>\n",
              "      <td>0</td>\n",
              "      <td>0</td>\n",
              "      <td>0</td>\n",
              "      <td>0</td>\n",
              "      <td>0</td>\n",
              "      <td>0</td>\n",
              "      <td>0</td>\n",
              "      <td>0</td>\n",
              "      <td>...</td>\n",
              "      <td>0</td>\n",
              "      <td>0</td>\n",
              "      <td>0</td>\n",
              "      <td>0</td>\n",
              "      <td>0</td>\n",
              "      <td>0</td>\n",
              "      <td>0</td>\n",
              "      <td>0</td>\n",
              "      <td>0</td>\n",
              "      <td>0</td>\n",
              "      <td>0</td>\n",
              "      <td>0</td>\n",
              "      <td>0</td>\n",
              "      <td>0</td>\n",
              "      <td>0</td>\n",
              "      <td>0</td>\n",
              "      <td>0</td>\n",
              "      <td>0</td>\n",
              "      <td>0</td>\n",
              "      <td>0</td>\n",
              "      <td>0</td>\n",
              "      <td>0</td>\n",
              "      <td>0</td>\n",
              "      <td>0</td>\n",
              "      <td>0</td>\n",
              "      <td>0</td>\n",
              "      <td>0</td>\n",
              "      <td>0</td>\n",
              "      <td>6</td>\n",
              "      <td>0</td>\n",
              "      <td>0</td>\n",
              "      <td>0</td>\n",
              "      <td>0</td>\n",
              "      <td>0</td>\n",
              "      <td>0</td>\n",
              "      <td>0</td>\n",
              "      <td>0</td>\n",
              "      <td>0</td>\n",
              "      <td>0</td>\n",
              "      <td>0</td>\n",
              "    </tr>\n",
              "    <tr>\n",
              "      <th>0.009</th>\n",
              "      <td>0</td>\n",
              "      <td>0</td>\n",
              "      <td>0</td>\n",
              "      <td>0</td>\n",
              "      <td>0</td>\n",
              "      <td>0</td>\n",
              "      <td>0</td>\n",
              "      <td>0</td>\n",
              "      <td>0</td>\n",
              "      <td>0</td>\n",
              "      <td>0</td>\n",
              "      <td>0</td>\n",
              "      <td>0</td>\n",
              "      <td>0</td>\n",
              "      <td>0</td>\n",
              "      <td>0</td>\n",
              "      <td>0</td>\n",
              "      <td>0</td>\n",
              "      <td>0</td>\n",
              "      <td>0</td>\n",
              "      <td>0</td>\n",
              "      <td>0</td>\n",
              "      <td>0</td>\n",
              "      <td>0</td>\n",
              "      <td>0</td>\n",
              "      <td>0</td>\n",
              "      <td>0</td>\n",
              "      <td>0</td>\n",
              "      <td>0</td>\n",
              "      <td>0</td>\n",
              "      <td>0</td>\n",
              "      <td>0</td>\n",
              "      <td>0</td>\n",
              "      <td>0</td>\n",
              "      <td>0</td>\n",
              "      <td>0</td>\n",
              "      <td>0</td>\n",
              "      <td>0</td>\n",
              "      <td>0</td>\n",
              "      <td>0</td>\n",
              "      <td>...</td>\n",
              "      <td>0</td>\n",
              "      <td>0</td>\n",
              "      <td>0</td>\n",
              "      <td>0</td>\n",
              "      <td>0</td>\n",
              "      <td>0</td>\n",
              "      <td>0</td>\n",
              "      <td>0</td>\n",
              "      <td>0</td>\n",
              "      <td>0</td>\n",
              "      <td>0</td>\n",
              "      <td>0</td>\n",
              "      <td>0</td>\n",
              "      <td>0</td>\n",
              "      <td>0</td>\n",
              "      <td>0</td>\n",
              "      <td>0</td>\n",
              "      <td>0</td>\n",
              "      <td>0</td>\n",
              "      <td>0</td>\n",
              "      <td>0</td>\n",
              "      <td>0</td>\n",
              "      <td>0</td>\n",
              "      <td>0</td>\n",
              "      <td>0</td>\n",
              "      <td>0</td>\n",
              "      <td>0</td>\n",
              "      <td>0</td>\n",
              "      <td>0</td>\n",
              "      <td>6</td>\n",
              "      <td>0</td>\n",
              "      <td>0</td>\n",
              "      <td>0</td>\n",
              "      <td>0</td>\n",
              "      <td>0</td>\n",
              "      <td>0</td>\n",
              "      <td>0</td>\n",
              "      <td>0</td>\n",
              "      <td>0</td>\n",
              "      <td>0</td>\n",
              "    </tr>\n",
              "    <tr>\n",
              "      <th>...</th>\n",
              "      <td>...</td>\n",
              "      <td>...</td>\n",
              "      <td>...</td>\n",
              "      <td>...</td>\n",
              "      <td>...</td>\n",
              "      <td>...</td>\n",
              "      <td>...</td>\n",
              "      <td>...</td>\n",
              "      <td>...</td>\n",
              "      <td>...</td>\n",
              "      <td>...</td>\n",
              "      <td>...</td>\n",
              "      <td>...</td>\n",
              "      <td>...</td>\n",
              "      <td>...</td>\n",
              "      <td>...</td>\n",
              "      <td>...</td>\n",
              "      <td>...</td>\n",
              "      <td>...</td>\n",
              "      <td>...</td>\n",
              "      <td>...</td>\n",
              "      <td>...</td>\n",
              "      <td>...</td>\n",
              "      <td>...</td>\n",
              "      <td>...</td>\n",
              "      <td>...</td>\n",
              "      <td>...</td>\n",
              "      <td>...</td>\n",
              "      <td>...</td>\n",
              "      <td>...</td>\n",
              "      <td>...</td>\n",
              "      <td>...</td>\n",
              "      <td>...</td>\n",
              "      <td>...</td>\n",
              "      <td>...</td>\n",
              "      <td>...</td>\n",
              "      <td>...</td>\n",
              "      <td>...</td>\n",
              "      <td>...</td>\n",
              "      <td>...</td>\n",
              "      <td>...</td>\n",
              "      <td>...</td>\n",
              "      <td>...</td>\n",
              "      <td>...</td>\n",
              "      <td>...</td>\n",
              "      <td>...</td>\n",
              "      <td>...</td>\n",
              "      <td>...</td>\n",
              "      <td>...</td>\n",
              "      <td>...</td>\n",
              "      <td>...</td>\n",
              "      <td>...</td>\n",
              "      <td>...</td>\n",
              "      <td>...</td>\n",
              "      <td>...</td>\n",
              "      <td>...</td>\n",
              "      <td>...</td>\n",
              "      <td>...</td>\n",
              "      <td>...</td>\n",
              "      <td>...</td>\n",
              "      <td>...</td>\n",
              "      <td>...</td>\n",
              "      <td>...</td>\n",
              "      <td>...</td>\n",
              "      <td>...</td>\n",
              "      <td>...</td>\n",
              "      <td>...</td>\n",
              "      <td>...</td>\n",
              "      <td>...</td>\n",
              "      <td>...</td>\n",
              "      <td>...</td>\n",
              "      <td>...</td>\n",
              "      <td>...</td>\n",
              "      <td>...</td>\n",
              "      <td>...</td>\n",
              "      <td>...</td>\n",
              "      <td>...</td>\n",
              "      <td>...</td>\n",
              "      <td>...</td>\n",
              "      <td>...</td>\n",
              "      <td>...</td>\n",
              "    </tr>\n",
              "    <tr>\n",
              "      <th>0.838</th>\n",
              "      <td>0</td>\n",
              "      <td>0</td>\n",
              "      <td>0</td>\n",
              "      <td>0</td>\n",
              "      <td>0</td>\n",
              "      <td>0</td>\n",
              "      <td>0</td>\n",
              "      <td>0</td>\n",
              "      <td>0</td>\n",
              "      <td>0</td>\n",
              "      <td>0</td>\n",
              "      <td>0</td>\n",
              "      <td>0</td>\n",
              "      <td>0</td>\n",
              "      <td>0</td>\n",
              "      <td>0</td>\n",
              "      <td>0</td>\n",
              "      <td>0</td>\n",
              "      <td>0</td>\n",
              "      <td>0</td>\n",
              "      <td>0</td>\n",
              "      <td>0</td>\n",
              "      <td>0</td>\n",
              "      <td>0</td>\n",
              "      <td>0</td>\n",
              "      <td>14</td>\n",
              "      <td>0</td>\n",
              "      <td>0</td>\n",
              "      <td>0</td>\n",
              "      <td>0</td>\n",
              "      <td>0</td>\n",
              "      <td>0</td>\n",
              "      <td>0</td>\n",
              "      <td>0</td>\n",
              "      <td>0</td>\n",
              "      <td>11</td>\n",
              "      <td>0</td>\n",
              "      <td>0</td>\n",
              "      <td>0</td>\n",
              "      <td>0</td>\n",
              "      <td>...</td>\n",
              "      <td>0</td>\n",
              "      <td>0</td>\n",
              "      <td>0</td>\n",
              "      <td>0</td>\n",
              "      <td>0</td>\n",
              "      <td>0</td>\n",
              "      <td>0</td>\n",
              "      <td>0</td>\n",
              "      <td>0</td>\n",
              "      <td>0</td>\n",
              "      <td>0</td>\n",
              "      <td>0</td>\n",
              "      <td>0</td>\n",
              "      <td>0</td>\n",
              "      <td>0</td>\n",
              "      <td>0</td>\n",
              "      <td>0</td>\n",
              "      <td>0</td>\n",
              "      <td>0</td>\n",
              "      <td>0</td>\n",
              "      <td>4</td>\n",
              "      <td>0</td>\n",
              "      <td>0</td>\n",
              "      <td>0</td>\n",
              "      <td>0</td>\n",
              "      <td>0</td>\n",
              "      <td>0</td>\n",
              "      <td>0</td>\n",
              "      <td>0</td>\n",
              "      <td>0</td>\n",
              "      <td>0</td>\n",
              "      <td>0</td>\n",
              "      <td>0</td>\n",
              "      <td>0</td>\n",
              "      <td>0</td>\n",
              "      <td>0</td>\n",
              "      <td>0</td>\n",
              "      <td>0</td>\n",
              "      <td>0</td>\n",
              "      <td>0</td>\n",
              "    </tr>\n",
              "    <tr>\n",
              "      <th>0.883</th>\n",
              "      <td>0</td>\n",
              "      <td>0</td>\n",
              "      <td>0</td>\n",
              "      <td>0</td>\n",
              "      <td>0</td>\n",
              "      <td>0</td>\n",
              "      <td>0</td>\n",
              "      <td>0</td>\n",
              "      <td>0</td>\n",
              "      <td>0</td>\n",
              "      <td>0</td>\n",
              "      <td>0</td>\n",
              "      <td>0</td>\n",
              "      <td>0</td>\n",
              "      <td>0</td>\n",
              "      <td>0</td>\n",
              "      <td>0</td>\n",
              "      <td>0</td>\n",
              "      <td>0</td>\n",
              "      <td>0</td>\n",
              "      <td>0</td>\n",
              "      <td>0</td>\n",
              "      <td>0</td>\n",
              "      <td>0</td>\n",
              "      <td>0</td>\n",
              "      <td>0</td>\n",
              "      <td>0</td>\n",
              "      <td>0</td>\n",
              "      <td>0</td>\n",
              "      <td>0</td>\n",
              "      <td>178</td>\n",
              "      <td>0</td>\n",
              "      <td>0</td>\n",
              "      <td>0</td>\n",
              "      <td>0</td>\n",
              "      <td>0</td>\n",
              "      <td>0</td>\n",
              "      <td>0</td>\n",
              "      <td>0</td>\n",
              "      <td>0</td>\n",
              "      <td>...</td>\n",
              "      <td>0</td>\n",
              "      <td>0</td>\n",
              "      <td>0</td>\n",
              "      <td>0</td>\n",
              "      <td>0</td>\n",
              "      <td>0</td>\n",
              "      <td>0</td>\n",
              "      <td>0</td>\n",
              "      <td>0</td>\n",
              "      <td>0</td>\n",
              "      <td>0</td>\n",
              "      <td>0</td>\n",
              "      <td>0</td>\n",
              "      <td>0</td>\n",
              "      <td>0</td>\n",
              "      <td>0</td>\n",
              "      <td>0</td>\n",
              "      <td>0</td>\n",
              "      <td>0</td>\n",
              "      <td>0</td>\n",
              "      <td>0</td>\n",
              "      <td>0</td>\n",
              "      <td>0</td>\n",
              "      <td>0</td>\n",
              "      <td>0</td>\n",
              "      <td>0</td>\n",
              "      <td>0</td>\n",
              "      <td>0</td>\n",
              "      <td>89</td>\n",
              "      <td>0</td>\n",
              "      <td>0</td>\n",
              "      <td>0</td>\n",
              "      <td>0</td>\n",
              "      <td>0</td>\n",
              "      <td>0</td>\n",
              "      <td>0</td>\n",
              "      <td>0</td>\n",
              "      <td>0</td>\n",
              "      <td>0</td>\n",
              "      <td>0</td>\n",
              "    </tr>\n",
              "    <tr>\n",
              "      <th>0.917</th>\n",
              "      <td>0</td>\n",
              "      <td>0</td>\n",
              "      <td>0</td>\n",
              "      <td>0</td>\n",
              "      <td>0</td>\n",
              "      <td>0</td>\n",
              "      <td>0</td>\n",
              "      <td>0</td>\n",
              "      <td>0</td>\n",
              "      <td>0</td>\n",
              "      <td>0</td>\n",
              "      <td>0</td>\n",
              "      <td>0</td>\n",
              "      <td>0</td>\n",
              "      <td>0</td>\n",
              "      <td>0</td>\n",
              "      <td>0</td>\n",
              "      <td>0</td>\n",
              "      <td>0</td>\n",
              "      <td>0</td>\n",
              "      <td>0</td>\n",
              "      <td>0</td>\n",
              "      <td>0</td>\n",
              "      <td>0</td>\n",
              "      <td>0</td>\n",
              "      <td>0</td>\n",
              "      <td>0</td>\n",
              "      <td>0</td>\n",
              "      <td>0</td>\n",
              "      <td>0</td>\n",
              "      <td>8</td>\n",
              "      <td>0</td>\n",
              "      <td>0</td>\n",
              "      <td>0</td>\n",
              "      <td>0</td>\n",
              "      <td>0</td>\n",
              "      <td>0</td>\n",
              "      <td>0</td>\n",
              "      <td>0</td>\n",
              "      <td>0</td>\n",
              "      <td>...</td>\n",
              "      <td>0</td>\n",
              "      <td>0</td>\n",
              "      <td>0</td>\n",
              "      <td>0</td>\n",
              "      <td>0</td>\n",
              "      <td>0</td>\n",
              "      <td>0</td>\n",
              "      <td>0</td>\n",
              "      <td>0</td>\n",
              "      <td>0</td>\n",
              "      <td>0</td>\n",
              "      <td>0</td>\n",
              "      <td>0</td>\n",
              "      <td>0</td>\n",
              "      <td>0</td>\n",
              "      <td>0</td>\n",
              "      <td>0</td>\n",
              "      <td>0</td>\n",
              "      <td>0</td>\n",
              "      <td>0</td>\n",
              "      <td>0</td>\n",
              "      <td>0</td>\n",
              "      <td>0</td>\n",
              "      <td>0</td>\n",
              "      <td>0</td>\n",
              "      <td>0</td>\n",
              "      <td>0</td>\n",
              "      <td>0</td>\n",
              "      <td>4</td>\n",
              "      <td>0</td>\n",
              "      <td>0</td>\n",
              "      <td>0</td>\n",
              "      <td>0</td>\n",
              "      <td>0</td>\n",
              "      <td>0</td>\n",
              "      <td>0</td>\n",
              "      <td>0</td>\n",
              "      <td>0</td>\n",
              "      <td>0</td>\n",
              "      <td>0</td>\n",
              "    </tr>\n",
              "    <tr>\n",
              "      <th>0.967</th>\n",
              "      <td>0</td>\n",
              "      <td>0</td>\n",
              "      <td>0</td>\n",
              "      <td>0</td>\n",
              "      <td>89</td>\n",
              "      <td>0</td>\n",
              "      <td>0</td>\n",
              "      <td>0</td>\n",
              "      <td>0</td>\n",
              "      <td>90</td>\n",
              "      <td>0</td>\n",
              "      <td>0</td>\n",
              "      <td>0</td>\n",
              "      <td>0</td>\n",
              "      <td>268</td>\n",
              "      <td>89</td>\n",
              "      <td>893</td>\n",
              "      <td>0</td>\n",
              "      <td>0</td>\n",
              "      <td>0</td>\n",
              "      <td>892</td>\n",
              "      <td>0</td>\n",
              "      <td>0</td>\n",
              "      <td>0</td>\n",
              "      <td>0</td>\n",
              "      <td>89</td>\n",
              "      <td>445</td>\n",
              "      <td>0</td>\n",
              "      <td>178</td>\n",
              "      <td>0</td>\n",
              "      <td>892</td>\n",
              "      <td>0</td>\n",
              "      <td>89</td>\n",
              "      <td>0</td>\n",
              "      <td>0</td>\n",
              "      <td>90</td>\n",
              "      <td>0</td>\n",
              "      <td>447</td>\n",
              "      <td>356</td>\n",
              "      <td>0</td>\n",
              "      <td>...</td>\n",
              "      <td>267</td>\n",
              "      <td>625</td>\n",
              "      <td>893</td>\n",
              "      <td>0</td>\n",
              "      <td>178</td>\n",
              "      <td>0</td>\n",
              "      <td>0</td>\n",
              "      <td>89</td>\n",
              "      <td>0</td>\n",
              "      <td>0</td>\n",
              "      <td>0</td>\n",
              "      <td>0</td>\n",
              "      <td>0</td>\n",
              "      <td>0</td>\n",
              "      <td>89</td>\n",
              "      <td>0</td>\n",
              "      <td>0</td>\n",
              "      <td>0</td>\n",
              "      <td>0</td>\n",
              "      <td>0</td>\n",
              "      <td>0</td>\n",
              "      <td>89</td>\n",
              "      <td>0</td>\n",
              "      <td>0</td>\n",
              "      <td>534</td>\n",
              "      <td>0</td>\n",
              "      <td>0</td>\n",
              "      <td>0</td>\n",
              "      <td>448</td>\n",
              "      <td>894</td>\n",
              "      <td>0</td>\n",
              "      <td>0</td>\n",
              "      <td>0</td>\n",
              "      <td>0</td>\n",
              "      <td>0</td>\n",
              "      <td>0</td>\n",
              "      <td>0</td>\n",
              "      <td>0</td>\n",
              "      <td>270</td>\n",
              "      <td>89</td>\n",
              "    </tr>\n",
              "    <tr>\n",
              "      <th>1.000</th>\n",
              "      <td>0</td>\n",
              "      <td>0</td>\n",
              "      <td>0</td>\n",
              "      <td>0</td>\n",
              "      <td>4</td>\n",
              "      <td>0</td>\n",
              "      <td>0</td>\n",
              "      <td>0</td>\n",
              "      <td>0</td>\n",
              "      <td>3</td>\n",
              "      <td>0</td>\n",
              "      <td>0</td>\n",
              "      <td>0</td>\n",
              "      <td>0</td>\n",
              "      <td>11</td>\n",
              "      <td>4</td>\n",
              "      <td>37</td>\n",
              "      <td>0</td>\n",
              "      <td>0</td>\n",
              "      <td>0</td>\n",
              "      <td>38</td>\n",
              "      <td>0</td>\n",
              "      <td>0</td>\n",
              "      <td>0</td>\n",
              "      <td>0</td>\n",
              "      <td>4</td>\n",
              "      <td>20</td>\n",
              "      <td>0</td>\n",
              "      <td>8</td>\n",
              "      <td>0</td>\n",
              "      <td>38</td>\n",
              "      <td>0</td>\n",
              "      <td>4</td>\n",
              "      <td>0</td>\n",
              "      <td>0</td>\n",
              "      <td>3</td>\n",
              "      <td>0</td>\n",
              "      <td>18</td>\n",
              "      <td>16</td>\n",
              "      <td>0</td>\n",
              "      <td>...</td>\n",
              "      <td>12</td>\n",
              "      <td>26</td>\n",
              "      <td>37</td>\n",
              "      <td>0</td>\n",
              "      <td>8</td>\n",
              "      <td>0</td>\n",
              "      <td>0</td>\n",
              "      <td>4</td>\n",
              "      <td>0</td>\n",
              "      <td>0</td>\n",
              "      <td>0</td>\n",
              "      <td>0</td>\n",
              "      <td>0</td>\n",
              "      <td>0</td>\n",
              "      <td>4</td>\n",
              "      <td>0</td>\n",
              "      <td>0</td>\n",
              "      <td>0</td>\n",
              "      <td>0</td>\n",
              "      <td>0</td>\n",
              "      <td>0</td>\n",
              "      <td>4</td>\n",
              "      <td>0</td>\n",
              "      <td>0</td>\n",
              "      <td>24</td>\n",
              "      <td>0</td>\n",
              "      <td>0</td>\n",
              "      <td>0</td>\n",
              "      <td>17</td>\n",
              "      <td>36</td>\n",
              "      <td>0</td>\n",
              "      <td>0</td>\n",
              "      <td>0</td>\n",
              "      <td>0</td>\n",
              "      <td>0</td>\n",
              "      <td>0</td>\n",
              "      <td>0</td>\n",
              "      <td>0</td>\n",
              "      <td>9</td>\n",
              "      <td>4</td>\n",
              "    </tr>\n",
              "  </tbody>\n",
              "</table>\n",
              "<p>518 rows × 131 columns</p>\n",
              "</div>"
            ],
            "text/plain": [
              "Country        Albania  Algeria  Angola  ...  Western Africa  Zambia  Zimbabwe\n",
              "Interest Rate                            ...                                  \n",
              "0.000             1150     2176     292  ...               0       0         0\n",
              "0.002                0        0       0  ...               0       0         0\n",
              "0.004                0        0       0  ...               0       0         0\n",
              "0.005                0        0       0  ...               0       0         0\n",
              "0.009                0        0       0  ...               0       0         0\n",
              "...                ...      ...     ...  ...             ...     ...       ...\n",
              "0.838                0        0       0  ...               0       0         0\n",
              "0.883                0        0       0  ...               0       0         0\n",
              "0.917                0        0       0  ...               0       0         0\n",
              "0.967                0        0       0  ...               0     270        89\n",
              "1.000                0        0       0  ...               0       9         4\n",
              "\n",
              "[518 rows x 131 columns]"
            ]
          },
          "metadata": {
            "tags": []
          },
          "execution_count": 208
        }
      ]
    },
    {
      "cell_type": "code",
      "metadata": {
        "id": "9BbEMxc9PMqp",
        "colab": {
          "base_uri": "https://localhost:8080/",
          "height": 1000
        },
        "outputId": "570e25ba-d0f2-4748-f876-95ab8ee8dc59"
      },
      "source": [
        "plt.hist(a['Interest Rate'])"
      ],
      "execution_count": null,
      "outputs": [
        {
          "output_type": "stream",
          "text": [
            "/usr/local/lib/python3.6/dist-packages/numpy/lib/histograms.py:839: RuntimeWarning: invalid value encountered in greater_equal\n",
            "  keep = (tmp_a >= first_edge)\n",
            "/usr/local/lib/python3.6/dist-packages/numpy/lib/histograms.py:840: RuntimeWarning: invalid value encountered in less_equal\n",
            "  keep &= (tmp_a <= last_edge)\n"
          ],
          "name": "stderr"
        },
        {
          "output_type": "execute_result",
          "data": {
            "text/plain": [
              "(array([10939.,  2247.,  1386.,  6905.,  5250.,  2089.,  3501.,  1150.,\n",
              "          222.,   698.]),\n",
              " array([ 0. ,  1.2,  2.4,  3.6,  4.8,  6. ,  7.2,  8.4,  9.6, 10.8, 12. ]),\n",
              " <a list of 10 Patch objects>)"
            ]
          },
          "metadata": {
            "tags": []
          },
          "execution_count": 251
        },
        {
          "output_type": "display_data",
          "data": {
            "image/png": "[encoded data removed]",
            "text/plain": [
              "<Figure size 1296x1080 with 1 Axes>"
            ]
          },
          "metadata": {
            "tags": []
          }
        }
      ]
    },
    {
      "cell_type": "code",
      "metadata": {
        "id": "SEiQQ05kQMAg",
        "colab": {
          "base_uri": "https://localhost:8080/"
        },
        "outputId": "0ba11718-4dcd-41e0-9048-c251bf28ced4"
      },
      "source": [
        "bd2.info()"
      ],
      "execution_count": null,
      "outputs": [
        {
          "output_type": "stream",
          "text": [
            "<class 'pandas.core.frame.DataFrame'>\n",
            "Int64Index: 702872 entries, 0 to 969425\n",
            "Data columns (total 25 columns):\n",
            " #   Column                     Non-Null Count   Dtype  \n",
            "---  ------                     --------------   -----  \n",
            " 0   Cancelled Amount           702872 non-null  float64\n",
            " 1   Borrower's Obligation      702872 non-null  float64\n",
            " 2   Interest Rate              702872 non-null  float64\n",
            " 3   Undisbursed Amount         702872 non-null  float64\n",
            " 4   Disbursed Amount           702872 non-null  float64\n",
            " 5   Original Principal Amount  702872 non-null  float64\n",
            " 6   Sold 3rd Party             702872 non-null  float64\n",
            " 7   Due to IBRD                702872 non-null  float64\n",
            " 8   Loans Held                 702872 non-null  float64\n",
            " 9   Repaid to IBRD             702872 non-null  float64\n",
            " 10  Repaid 3rd Party           702872 non-null  float64\n",
            " 11  Exchange Adjustment        702872 non-null  float64\n",
            " 12  Loan Type_CPL              702872 non-null  uint8  \n",
            " 13  Loan Type_FSL              702872 non-null  uint8  \n",
            " 14  Loan Type_NON POOL         702872 non-null  uint8  \n",
            " 15  Loan Type_NPL              702872 non-null  uint8  \n",
            " 16  Loan Type_POOL LOAN        702872 non-null  uint8  \n",
            " 17  Loan Type_SCL              702872 non-null  uint8  \n",
            " 18  Loan Type_SCP EUR          702872 non-null  uint8  \n",
            " 19  Loan Type_SCP JPY          702872 non-null  uint8  \n",
            " 20  Loan Type_SCP USD          702872 non-null  uint8  \n",
            " 21  Loan Type_SCPD             702872 non-null  uint8  \n",
            " 22  Loan Type_SCPM             702872 non-null  uint8  \n",
            " 23  Loan Type_SCPY             702872 non-null  uint8  \n",
            " 24  Loan Type_SNGL CRNCY       702872 non-null  uint8  \n",
            "dtypes: float64(12), uint8(13)\n",
            "memory usage: 98.4 MB\n"
          ],
          "name": "stdout"
        }
      ]
    },
    {
      "cell_type": "markdown",
      "metadata": {
        "id": "mv95rdZzaH9T"
      },
      "source": [
        "### **New Work by Vaibhav 22 NOV**"
      ]
    },
    {
      "cell_type": "code",
      "metadata": {
        "id": "WUx4MSVSsVst",
        "colab": {
          "base_uri": "https://localhost:8080/",
          "height": 354
        },
        "outputId": "18288e66-f88c-4eba-a970-31c022d8b959"
      },
      "source": [
        "bd.describe()"
      ],
      "execution_count": null,
      "outputs": [
        {
          "output_type": "execute_result",
          "data": {
            "text/html": [
              "<div>\n",
              "<style scoped>\n",
              "    .dataframe tbody tr th:only-of-type {\n",
              "        vertical-align: middle;\n",
              "    }\n",
              "\n",
              "    .dataframe tbody tr th {\n",
              "        vertical-align: top;\n",
              "    }\n",
              "\n",
              "    .dataframe thead th {\n",
              "        text-align: right;\n",
              "    }\n",
              "</style>\n",
              "<table border=\"1\" class=\"dataframe\">\n",
              "  <thead>\n",
              "    <tr style=\"text-align: right;\">\n",
              "      <th></th>\n",
              "      <th>Interest Rate</th>\n",
              "      <th>Currency of Commitment</th>\n",
              "      <th>Original Principal Amount</th>\n",
              "      <th>Cancelled Amount</th>\n",
              "      <th>Undisbursed Amount</th>\n",
              "      <th>Disbursed Amount</th>\n",
              "      <th>Repaid to IBRD</th>\n",
              "      <th>Due to IBRD</th>\n",
              "      <th>Exchange Adjustment</th>\n",
              "      <th>Borrower's Obligation</th>\n",
              "      <th>Sold 3rd Party</th>\n",
              "      <th>Repaid 3rd Party</th>\n",
              "      <th>Due 3rd Party</th>\n",
              "      <th>Loans Held</th>\n",
              "    </tr>\n",
              "  </thead>\n",
              "  <tbody>\n",
              "    <tr>\n",
              "      <th>count</th>\n",
              "      <td>940839.000000</td>\n",
              "      <td>0.0</td>\n",
              "      <td>9.694260e+05</td>\n",
              "      <td>9.694260e+05</td>\n",
              "      <td>9.694260e+05</td>\n",
              "      <td>9.694260e+05</td>\n",
              "      <td>9.694260e+05</td>\n",
              "      <td>9.694260e+05</td>\n",
              "      <td>9.694260e+05</td>\n",
              "      <td>9.694260e+05</td>\n",
              "      <td>9.694260e+05</td>\n",
              "      <td>9.694260e+05</td>\n",
              "      <td>969426.0</td>\n",
              "      <td>9.694260e+05</td>\n",
              "    </tr>\n",
              "    <tr>\n",
              "      <th>mean</th>\n",
              "      <td>4.671151</td>\n",
              "      <td>NaN</td>\n",
              "      <td>7.798162e+07</td>\n",
              "      <td>9.814707e+06</td>\n",
              "      <td>7.686284e+06</td>\n",
              "      <td>6.053063e+07</td>\n",
              "      <td>4.028684e+07</td>\n",
              "      <td>1.992957e+07</td>\n",
              "      <td>-2.774880e+05</td>\n",
              "      <td>1.965208e+07</td>\n",
              "      <td>4.398595e+05</td>\n",
              "      <td>4.398595e+05</td>\n",
              "      <td>0.0</td>\n",
              "      <td>2.761585e+07</td>\n",
              "    </tr>\n",
              "    <tr>\n",
              "      <th>std</th>\n",
              "      <td>3.394579</td>\n",
              "      <td>NaN</td>\n",
              "      <td>1.498861e+08</td>\n",
              "      <td>4.506738e+07</td>\n",
              "      <td>5.296174e+07</td>\n",
              "      <td>1.294894e+08</td>\n",
              "      <td>8.877221e+07</td>\n",
              "      <td>9.527140e+07</td>\n",
              "      <td>9.851818e+06</td>\n",
              "      <td>9.233145e+07</td>\n",
              "      <td>3.848737e+06</td>\n",
              "      <td>3.848737e+06</td>\n",
              "      <td>0.0</td>\n",
              "      <td>1.147341e+08</td>\n",
              "    </tr>\n",
              "    <tr>\n",
              "      <th>min</th>\n",
              "      <td>0.000000</td>\n",
              "      <td>NaN</td>\n",
              "      <td>0.000000e+00</td>\n",
              "      <td>0.000000e+00</td>\n",
              "      <td>-1.226600e+08</td>\n",
              "      <td>0.000000e+00</td>\n",
              "      <td>0.000000e+00</td>\n",
              "      <td>-1.005074e+08</td>\n",
              "      <td>-9.903554e+08</td>\n",
              "      <td>-2.200000e-01</td>\n",
              "      <td>0.000000e+00</td>\n",
              "      <td>0.000000e+00</td>\n",
              "      <td>0.0</td>\n",
              "      <td>-1.226600e+08</td>\n",
              "    </tr>\n",
              "    <tr>\n",
              "      <th>25%</th>\n",
              "      <td>0.730000</td>\n",
              "      <td>NaN</td>\n",
              "      <td>1.002500e+07</td>\n",
              "      <td>0.000000e+00</td>\n",
              "      <td>0.000000e+00</td>\n",
              "      <td>5.675190e+06</td>\n",
              "      <td>2.487313e+06</td>\n",
              "      <td>0.000000e+00</td>\n",
              "      <td>0.000000e+00</td>\n",
              "      <td>0.000000e+00</td>\n",
              "      <td>0.000000e+00</td>\n",
              "      <td>0.000000e+00</td>\n",
              "      <td>0.0</td>\n",
              "      <td>0.000000e+00</td>\n",
              "    </tr>\n",
              "    <tr>\n",
              "      <th>50%</th>\n",
              "      <td>5.510000</td>\n",
              "      <td>NaN</td>\n",
              "      <td>3.000000e+07</td>\n",
              "      <td>3.776200e+02</td>\n",
              "      <td>0.000000e+00</td>\n",
              "      <td>2.100000e+07</td>\n",
              "      <td>1.407260e+07</td>\n",
              "      <td>0.000000e+00</td>\n",
              "      <td>0.000000e+00</td>\n",
              "      <td>0.000000e+00</td>\n",
              "      <td>0.000000e+00</td>\n",
              "      <td>0.000000e+00</td>\n",
              "      <td>0.0</td>\n",
              "      <td>0.000000e+00</td>\n",
              "    </tr>\n",
              "    <tr>\n",
              "      <th>75%</th>\n",
              "      <td>7.350000</td>\n",
              "      <td>NaN</td>\n",
              "      <td>8.700000e+07</td>\n",
              "      <td>3.550647e+06</td>\n",
              "      <td>0.000000e+00</td>\n",
              "      <td>6.114535e+07</td>\n",
              "      <td>4.185000e+07</td>\n",
              "      <td>0.000000e+00</td>\n",
              "      <td>0.000000e+00</td>\n",
              "      <td>0.000000e+00</td>\n",
              "      <td>0.000000e+00</td>\n",
              "      <td>0.000000e+00</td>\n",
              "      <td>0.0</td>\n",
              "      <td>0.000000e+00</td>\n",
              "    </tr>\n",
              "    <tr>\n",
              "      <th>max</th>\n",
              "      <td>17.000000</td>\n",
              "      <td>NaN</td>\n",
              "      <td>3.750000e+09</td>\n",
              "      <td>1.995000e+09</td>\n",
              "      <td>3.379011e+09</td>\n",
              "      <td>3.110973e+09</td>\n",
              "      <td>3.000000e+09</td>\n",
              "      <td>2.923282e+09</td>\n",
              "      <td>5.065767e+08</td>\n",
              "      <td>2.842924e+09</td>\n",
              "      <td>2.499620e+08</td>\n",
              "      <td>2.499620e+08</td>\n",
              "      <td>0.0</td>\n",
              "      <td>3.750000e+09</td>\n",
              "    </tr>\n",
              "  </tbody>\n",
              "</table>\n",
              "</div>"
            ],
            "text/plain": [
              "       Interest Rate  Currency of Commitment  ...  Due 3rd Party    Loans Held\n",
              "count  940839.000000                     0.0  ...       969426.0  9.694260e+05\n",
              "mean        4.671151                     NaN  ...            0.0  2.761585e+07\n",
              "std         3.394579                     NaN  ...            0.0  1.147341e+08\n",
              "min         0.000000                     NaN  ...            0.0 -1.226600e+08\n",
              "25%         0.730000                     NaN  ...            0.0  0.000000e+00\n",
              "50%         5.510000                     NaN  ...            0.0  0.000000e+00\n",
              "75%         7.350000                     NaN  ...            0.0  0.000000e+00\n",
              "max        17.000000                     NaN  ...            0.0  3.750000e+09\n",
              "\n",
              "[8 rows x 14 columns]"
            ]
          },
          "metadata": {
            "tags": []
          },
          "execution_count": 6
        }
      ]
    },
    {
      "cell_type": "code",
      "metadata": {
        "colab": {
          "base_uri": "https://localhost:8080/"
        },
        "id": "vlilj7UpY4Qg",
        "outputId": "43f8762b-1656-49d7-ef4a-88a25fe7740e"
      },
      "source": [
        "bd.columns"
      ],
      "execution_count": null,
      "outputs": [
        {
          "output_type": "execute_result",
          "data": {
            "text/plain": [
              "Index(['End of Period', 'Loan Number', 'Region', 'Country Code', 'Country',\n",
              "       'Borrower', 'Guarantor Country Code', 'Guarantor', 'Loan Type',\n",
              "       'Loan Status', 'Interest Rate', 'Currency of Commitment', 'Project ID',\n",
              "       'Project Name ', 'Original Principal Amount', 'Cancelled Amount',\n",
              "       'Undisbursed Amount', 'Disbursed Amount', 'Repaid to IBRD',\n",
              "       'Due to IBRD', 'Exchange Adjustment', 'Borrower's Obligation',\n",
              "       'Sold 3rd Party', 'Repaid 3rd Party', 'Due 3rd Party', 'Loans Held',\n",
              "       'First Repayment Date', 'Last Repayment Date', 'Agreement Signing Date',\n",
              "       'Board Approval Date', 'Effective Date (Most Recent)',\n",
              "       'Closed Date (Most Recent)', 'Last Disbursement Date'],\n",
              "      dtype='object')"
            ]
          },
          "metadata": {
            "tags": []
          },
          "execution_count": 7
        }
      ]
    },
    {
      "cell_type": "code",
      "metadata": {
        "colab": {
          "base_uri": "https://localhost:8080/"
        },
        "id": "Vqu1HjfhZBcC",
        "outputId": "c9da2589-c9ea-4489-a71f-053fa73e86f4"
      },
      "source": [
        "np.unique(bd['End of Period']).size"
      ],
      "execution_count": null,
      "outputs": [
        {
          "output_type": "execute_result",
          "data": {
            "text/plain": [
              "114"
            ]
          },
          "metadata": {
            "tags": []
          },
          "execution_count": 31
        }
      ]
    },
    {
      "cell_type": "code",
      "metadata": {
        "colab": {
          "base_uri": "https://localhost:8080/"
        },
        "id": "2mWm2yNJafYb",
        "outputId": "2ffd557b-5606-4d99-b622-fd3ab8d1eb5d"
      },
      "source": [
        "np.unique(bd['Loan Number']).size"
      ],
      "execution_count": null,
      "outputs": [
        {
          "output_type": "execute_result",
          "data": {
            "text/plain": [
              "10053"
            ]
          },
          "metadata": {
            "tags": []
          },
          "execution_count": 15
        }
      ]
    },
    {
      "cell_type": "code",
      "metadata": {
        "colab": {
          "base_uri": "https://localhost:8080/"
        },
        "id": "7lF_a8hHawqp",
        "outputId": "a301e4bc-c3a1-4c7c-b1aa-e9ef51c55325"
      },
      "source": [
        "np.unique(bd['Region'])"
      ],
      "execution_count": null,
      "outputs": [
        {
          "output_type": "execute_result",
          "data": {
            "text/plain": [
              "array(['AFRICA', 'AFRICA EAST', 'AFRICA WEST', 'Africa',\n",
              "       'EAST ASIA AND PACIFIC', 'EUROPE AND CENTRAL ASIA',\n",
              "       'East Asia and Pacific', 'Europe and Central Asia',\n",
              "       'LATIN AMERICA AND CARIBBEAN', 'Latin America and Caribbean',\n",
              "       'MIDDLE EAST AND NORTH AFRICA', 'Middle East and North Africa',\n",
              "       'OTHER', 'Other', 'SOUTH ASIA', 'South Asia'], dtype=object)"
            ]
          },
          "metadata": {
            "tags": []
          },
          "execution_count": 16
        }
      ]
    },
    {
      "cell_type": "code",
      "metadata": {
        "colab": {
          "base_uri": "https://localhost:8080/",
          "height": 518
        },
        "id": "MTIEcyQ-bsKp",
        "outputId": "d2f2aaf5-cfdf-4e1c-dc7f-6cee5fec0468"
      },
      "source": [
        "bd.head()"
      ],
      "execution_count": null,
      "outputs": [
        {
          "output_type": "execute_result",
          "data": {
            "text/html": [
              "<div>\n",
              "<style scoped>\n",
              "    .dataframe tbody tr th:only-of-type {\n",
              "        vertical-align: middle;\n",
              "    }\n",
              "\n",
              "    .dataframe tbody tr th {\n",
              "        vertical-align: top;\n",
              "    }\n",
              "\n",
              "    .dataframe thead th {\n",
              "        text-align: right;\n",
              "    }\n",
              "</style>\n",
              "<table border=\"1\" class=\"dataframe\">\n",
              "  <thead>\n",
              "    <tr style=\"text-align: right;\">\n",
              "      <th></th>\n",
              "      <th>End of Period</th>\n",
              "      <th>Loan Number</th>\n",
              "      <th>Region</th>\n",
              "      <th>Country Code</th>\n",
              "      <th>Country</th>\n",
              "      <th>Borrower</th>\n",
              "      <th>Guarantor Country Code</th>\n",
              "      <th>Guarantor</th>\n",
              "      <th>Loan Type</th>\n",
              "      <th>Loan Status</th>\n",
              "      <th>Interest Rate</th>\n",
              "      <th>Currency of Commitment</th>\n",
              "      <th>Project ID</th>\n",
              "      <th>Project Name</th>\n",
              "      <th>Original Principal Amount</th>\n",
              "      <th>Cancelled Amount</th>\n",
              "      <th>Undisbursed Amount</th>\n",
              "      <th>Disbursed Amount</th>\n",
              "      <th>Repaid to IBRD</th>\n",
              "      <th>Due to IBRD</th>\n",
              "      <th>Exchange Adjustment</th>\n",
              "      <th>Borrower's Obligation</th>\n",
              "      <th>Sold 3rd Party</th>\n",
              "      <th>Repaid 3rd Party</th>\n",
              "      <th>Due 3rd Party</th>\n",
              "      <th>Loans Held</th>\n",
              "      <th>First Repayment Date</th>\n",
              "      <th>Last Repayment Date</th>\n",
              "      <th>Agreement Signing Date</th>\n",
              "      <th>Board Approval Date</th>\n",
              "      <th>Effective Date (Most Recent)</th>\n",
              "      <th>Closed Date (Most Recent)</th>\n",
              "      <th>Last Disbursement Date</th>\n",
              "    </tr>\n",
              "  </thead>\n",
              "  <tbody>\n",
              "    <tr>\n",
              "      <th>0</th>\n",
              "      <td>06/30/2020 12:00:00 AM</td>\n",
              "      <td>IBRD00010</td>\n",
              "      <td>EUROPE AND CENTRAL ASIA</td>\n",
              "      <td>FR</td>\n",
              "      <td>France</td>\n",
              "      <td>CREDIT NATIONAL</td>\n",
              "      <td>FR</td>\n",
              "      <td>France</td>\n",
              "      <td>NPL</td>\n",
              "      <td>Fully Repaid</td>\n",
              "      <td>4.25</td>\n",
              "      <td>NaN</td>\n",
              "      <td>P037383</td>\n",
              "      <td>RECONSTRUCTION</td>\n",
              "      <td>2.500000e+08</td>\n",
              "      <td>0.00</td>\n",
              "      <td>0.0</td>\n",
              "      <td>2.500000e+08</td>\n",
              "      <td>3.800000e+04</td>\n",
              "      <td>0.0</td>\n",
              "      <td>0.00</td>\n",
              "      <td>0.00</td>\n",
              "      <td>2.499620e+08</td>\n",
              "      <td>2.499620e+08</td>\n",
              "      <td>0</td>\n",
              "      <td>0.0</td>\n",
              "      <td>11/01/1952 12:00:00 AM</td>\n",
              "      <td>05/01/1977 12:00:00 AM</td>\n",
              "      <td>05/09/1947 12:00:00 AM</td>\n",
              "      <td>05/09/1947 12:00:00 AM</td>\n",
              "      <td>06/09/1947 12:00:00 AM</td>\n",
              "      <td>12/31/1947 12:00:00 AM</td>\n",
              "      <td>NaN</td>\n",
              "    </tr>\n",
              "    <tr>\n",
              "      <th>1</th>\n",
              "      <td>06/30/2020 12:00:00 AM</td>\n",
              "      <td>IBRD00020</td>\n",
              "      <td>EUROPE AND CENTRAL ASIA</td>\n",
              "      <td>NL</td>\n",
              "      <td>Netherlands</td>\n",
              "      <td>NaN</td>\n",
              "      <td>NaN</td>\n",
              "      <td>NaN</td>\n",
              "      <td>NPL</td>\n",
              "      <td>Fully Repaid</td>\n",
              "      <td>4.25</td>\n",
              "      <td>NaN</td>\n",
              "      <td>P037452</td>\n",
              "      <td>RECONSTRUCTION</td>\n",
              "      <td>1.910442e+08</td>\n",
              "      <td>0.00</td>\n",
              "      <td>0.0</td>\n",
              "      <td>1.910442e+08</td>\n",
              "      <td>1.033722e+08</td>\n",
              "      <td>0.0</td>\n",
              "      <td>-0.01</td>\n",
              "      <td>-0.01</td>\n",
              "      <td>8.767200e+07</td>\n",
              "      <td>8.767200e+07</td>\n",
              "      <td>0</td>\n",
              "      <td>0.0</td>\n",
              "      <td>04/01/1952 12:00:00 AM</td>\n",
              "      <td>10/01/1972 12:00:00 AM</td>\n",
              "      <td>08/07/1947 12:00:00 AM</td>\n",
              "      <td>08/07/1947 12:00:00 AM</td>\n",
              "      <td>09/11/1947 12:00:00 AM</td>\n",
              "      <td>03/31/1948 12:00:00 AM</td>\n",
              "      <td>NaN</td>\n",
              "    </tr>\n",
              "    <tr>\n",
              "      <th>2</th>\n",
              "      <td>06/30/2020 12:00:00 AM</td>\n",
              "      <td>IBRD00021</td>\n",
              "      <td>EUROPE AND CENTRAL ASIA</td>\n",
              "      <td>NL</td>\n",
              "      <td>Netherlands</td>\n",
              "      <td>NaN</td>\n",
              "      <td>NaN</td>\n",
              "      <td>NaN</td>\n",
              "      <td>NPL</td>\n",
              "      <td>Fully Repaid</td>\n",
              "      <td>4.25</td>\n",
              "      <td>NaN</td>\n",
              "      <td>P037452</td>\n",
              "      <td>RECONSTRUCTION</td>\n",
              "      <td>3.955788e+06</td>\n",
              "      <td>0.00</td>\n",
              "      <td>0.0</td>\n",
              "      <td>3.955788e+06</td>\n",
              "      <td>0.000000e+00</td>\n",
              "      <td>0.0</td>\n",
              "      <td>0.00</td>\n",
              "      <td>0.00</td>\n",
              "      <td>3.955788e+06</td>\n",
              "      <td>3.955788e+06</td>\n",
              "      <td>0</td>\n",
              "      <td>0.0</td>\n",
              "      <td>04/01/1953 12:00:00 AM</td>\n",
              "      <td>04/01/1954 12:00:00 AM</td>\n",
              "      <td>05/25/1948 12:00:00 AM</td>\n",
              "      <td>08/07/1947 12:00:00 AM</td>\n",
              "      <td>06/01/1948 12:00:00 AM</td>\n",
              "      <td>06/30/1948 12:00:00 AM</td>\n",
              "      <td>NaN</td>\n",
              "    </tr>\n",
              "    <tr>\n",
              "      <th>3</th>\n",
              "      <td>06/30/2020 12:00:00 AM</td>\n",
              "      <td>IBRD00030</td>\n",
              "      <td>EUROPE AND CENTRAL ASIA</td>\n",
              "      <td>DK</td>\n",
              "      <td>Denmark</td>\n",
              "      <td>NaN</td>\n",
              "      <td>NaN</td>\n",
              "      <td>NaN</td>\n",
              "      <td>NPL</td>\n",
              "      <td>Fully Repaid</td>\n",
              "      <td>4.25</td>\n",
              "      <td>NaN</td>\n",
              "      <td>P037362</td>\n",
              "      <td>RECONSTRUCTION</td>\n",
              "      <td>4.000000e+07</td>\n",
              "      <td>0.00</td>\n",
              "      <td>0.0</td>\n",
              "      <td>4.000000e+07</td>\n",
              "      <td>1.777100e+07</td>\n",
              "      <td>0.0</td>\n",
              "      <td>0.00</td>\n",
              "      <td>0.00</td>\n",
              "      <td>2.222900e+07</td>\n",
              "      <td>2.222900e+07</td>\n",
              "      <td>0</td>\n",
              "      <td>0.0</td>\n",
              "      <td>02/01/1953 12:00:00 AM</td>\n",
              "      <td>08/01/1972 12:00:00 AM</td>\n",
              "      <td>08/22/1947 12:00:00 AM</td>\n",
              "      <td>08/22/1947 12:00:00 AM</td>\n",
              "      <td>10/17/1947 12:00:00 AM</td>\n",
              "      <td>03/31/1949 12:00:00 AM</td>\n",
              "      <td>NaN</td>\n",
              "    </tr>\n",
              "    <tr>\n",
              "      <th>4</th>\n",
              "      <td>06/30/2020 12:00:00 AM</td>\n",
              "      <td>IBRD00040</td>\n",
              "      <td>EUROPE AND CENTRAL ASIA</td>\n",
              "      <td>LU</td>\n",
              "      <td>Luxembourg</td>\n",
              "      <td>NaN</td>\n",
              "      <td>NaN</td>\n",
              "      <td>NaN</td>\n",
              "      <td>NPL</td>\n",
              "      <td>Fully Repaid</td>\n",
              "      <td>4.25</td>\n",
              "      <td>NaN</td>\n",
              "      <td>P037451</td>\n",
              "      <td>RECONSTRUCTION</td>\n",
              "      <td>1.200000e+07</td>\n",
              "      <td>238016.98</td>\n",
              "      <td>0.0</td>\n",
              "      <td>1.176198e+07</td>\n",
              "      <td>1.619983e+06</td>\n",
              "      <td>0.0</td>\n",
              "      <td>-0.01</td>\n",
              "      <td>-0.01</td>\n",
              "      <td>1.014200e+07</td>\n",
              "      <td>1.014200e+07</td>\n",
              "      <td>0</td>\n",
              "      <td>0.0</td>\n",
              "      <td>07/15/1949 12:00:00 AM</td>\n",
              "      <td>07/15/1972 12:00:00 AM</td>\n",
              "      <td>08/28/1947 12:00:00 AM</td>\n",
              "      <td>08/28/1947 12:00:00 AM</td>\n",
              "      <td>10/24/1947 12:00:00 AM</td>\n",
              "      <td>03/31/1949 12:00:00 AM</td>\n",
              "      <td>NaN</td>\n",
              "    </tr>\n",
              "  </tbody>\n",
              "</table>\n",
              "</div>"
            ],
            "text/plain": [
              "            End of Period  ... Last Disbursement Date\n",
              "0  06/30/2020 12:00:00 AM  ...                    NaN\n",
              "1  06/30/2020 12:00:00 AM  ...                    NaN\n",
              "2  06/30/2020 12:00:00 AM  ...                    NaN\n",
              "3  06/30/2020 12:00:00 AM  ...                    NaN\n",
              "4  06/30/2020 12:00:00 AM  ...                    NaN\n",
              "\n",
              "[5 rows x 33 columns]"
            ]
          },
          "metadata": {
            "tags": []
          },
          "execution_count": 25
        }
      ]
    },
    {
      "cell_type": "code",
      "metadata": {
        "colab": {
          "base_uri": "https://localhost:8080/"
        },
        "id": "DYgs3Jz0cgMK",
        "outputId": "2a173dd2-9ae6-46a3-b745-e4474ca39bda"
      },
      "source": [
        "np.unique(bd['Loan Type'])"
      ],
      "execution_count": null,
      "outputs": [
        {
          "output_type": "execute_result",
          "data": {
            "text/plain": [
              "array(['BLNC', 'BLNR', 'BLOAN', 'CPL', 'FSL', 'GUBF', 'GURB', 'Guarantee',\n",
              "       'IFC LOAN', 'IFCM', 'IFCT', 'NON POOL', 'NPL', 'POOL LOAN', 'SCL',\n",
              "       'SCP EUR', 'SCP JPY', 'SCP USD', 'SCPD', 'SCPM', 'SCPY',\n",
              "       'SNGL CRNCY'], dtype=object)"
            ]
          },
          "metadata": {
            "tags": []
          },
          "execution_count": 26
        }
      ]
    },
    {
      "cell_type": "code",
      "metadata": {
        "colab": {
          "base_uri": "https://localhost:8080/"
        },
        "id": "wWSar-3RdW31",
        "outputId": "5f2e6843-4d81-4e9f-dfd2-af577c59e04c"
      },
      "source": [
        "np.unique(bd['Loan Status'])"
      ],
      "execution_count": null,
      "outputs": [
        {
          "output_type": "execute_result",
          "data": {
            "text/plain": [
              "array(['Approved', 'Cancelled', 'Disbursed', 'Disbursing',\n",
              "       'Disbursing&Repaying', 'Draft', 'Effective', 'Fully Cancelled',\n",
              "       'Fully Disbursed', 'Fully Repaid', 'Fully Transferred',\n",
              "       'Negotiated', 'Repaid', 'Repaying', 'Signed', 'Terminated'],\n",
              "      dtype=object)"
            ]
          },
          "metadata": {
            "tags": []
          },
          "execution_count": 27
        }
      ]
    },
    {
      "cell_type": "code",
      "metadata": {
        "colab": {
          "base_uri": "https://localhost:8080/"
        },
        "id": "zrXz8y0bdnCZ",
        "outputId": "b1e06b8c-581f-45a5-970c-2640a1807b9b"
      },
      "source": [
        "np.unique(bd['Interest Rate']).size"
      ],
      "execution_count": null,
      "outputs": [
        {
          "output_type": "execute_result",
          "data": {
            "text/plain": [
              "29243"
            ]
          },
          "metadata": {
            "tags": []
          },
          "execution_count": 28
        }
      ]
    },
    {
      "cell_type": "code",
      "metadata": {
        "colab": {
          "base_uri": "https://localhost:8080/"
        },
        "id": "unvDsQqyeBwc",
        "outputId": "dde346cf-a642-4041-b128-7405735c69a8"
      },
      "source": [
        "bd['Interest Rate'].isnull().sum()"
      ],
      "execution_count": null,
      "outputs": [
        {
          "output_type": "execute_result",
          "data": {
            "text/plain": [
              "28587"
            ]
          },
          "metadata": {
            "tags": []
          },
          "execution_count": 29
        }
      ]
    },
    {
      "cell_type": "code",
      "metadata": {
        "colab": {
          "base_uri": "https://localhost:8080/"
        },
        "id": "54jGotv1eepr",
        "outputId": "61c3105b-a620-4d6c-92e4-99d2dd9cafb6"
      },
      "source": [
        "bd['Currency of Commitment'].isnull().sum()"
      ],
      "execution_count": null,
      "outputs": [
        {
          "output_type": "execute_result",
          "data": {
            "text/plain": [
              "969426"
            ]
          },
          "metadata": {
            "tags": []
          },
          "execution_count": 32
        }
      ]
    },
    {
      "cell_type": "code",
      "metadata": {
        "colab": {
          "base_uri": "https://localhost:8080/"
        },
        "id": "kIS99RJse3P6",
        "outputId": "ff79f554-3216-4a17-bc12-c741e55aad54"
      },
      "source": [
        "bd['Project ID'].isnull().sum()"
      ],
      "execution_count": null,
      "outputs": [
        {
          "output_type": "execute_result",
          "data": {
            "text/plain": [
              "0"
            ]
          },
          "metadata": {
            "tags": []
          },
          "execution_count": 13
        }
      ]
    },
    {
      "cell_type": "code",
      "metadata": {
        "id": "iZueBJzZl9IG"
      },
      "source": [
        "bd[['Project ID']]=bd[['Project ID']].fillna(value=0)"
      ],
      "execution_count": null,
      "outputs": []
    },
    {
      "cell_type": "code",
      "metadata": {
        "id": "Eq0ZYU9BnedJ"
      },
      "source": [
        "bd['Project ID']=str(bd['Project ID'])"
      ],
      "execution_count": null,
      "outputs": []
    },
    {
      "cell_type": "code",
      "metadata": {
        "id": "V09Ga2Ohnmke"
      },
      "source": [
        "bd['Project Name ']=str(bd['Project Name '])"
      ],
      "execution_count": null,
      "outputs": []
    },
    {
      "cell_type": "code",
      "metadata": {
        "colab": {
          "base_uri": "https://localhost:8080/"
        },
        "id": "sBmeu6lsn5GV",
        "outputId": "2c25aaa9-cd13-421d-f30c-a147a444766c"
      },
      "source": [
        "np.unique(bd['Project Name '])"
      ],
      "execution_count": null,
      "outputs": [
        {
          "output_type": "execute_result",
          "data": {
            "text/plain": [
              "array(['0                  RECONSTRUCTION\\n1                  RECONSTRUCTION\\n2                  RECONSTRUCTION\\n3                  RECONSTRUCTION\\n4                  RECONSTRUCTION\\n                   ...           \\n969421    SN METAL TECHNICAL ASST\\n969422           WATER SUP & ENG.\\n969423    PETROLEUM EXPLORATION I\\n969424               SIDERPERU TA\\n969425           COAL EXPLORATION\\nName: Project Name , Length: 969426, dtype: object'],\n",
              "      dtype=object)"
            ]
          },
          "metadata": {
            "tags": []
          },
          "execution_count": 69
        }
      ]
    },
    {
      "cell_type": "code",
      "metadata": {
        "colab": {
          "base_uri": "https://localhost:8080/"
        },
        "id": "zP87NPcQod1B",
        "outputId": "0c4f266c-72f2-473d-a00a-362fee3d82c3"
      },
      "source": [
        "bd['Project Name '].isnull().sum()"
      ],
      "execution_count": null,
      "outputs": [
        {
          "output_type": "execute_result",
          "data": {
            "text/plain": [
              "0"
            ]
          },
          "metadata": {
            "tags": []
          },
          "execution_count": 70
        }
      ]
    },
    {
      "cell_type": "code",
      "metadata": {
        "colab": {
          "base_uri": "https://localhost:8080/",
          "height": 354
        },
        "id": "x62kxtvOowyL",
        "outputId": "a0be2baa-b423-482a-b20d-1fbfa79c626f"
      },
      "source": [
        "bd.describe()"
      ],
      "execution_count": null,
      "outputs": [
        {
          "output_type": "execute_result",
          "data": {
            "text/html": [
              "<div>\n",
              "<style scoped>\n",
              "    .dataframe tbody tr th:only-of-type {\n",
              "        vertical-align: middle;\n",
              "    }\n",
              "\n",
              "    .dataframe tbody tr th {\n",
              "        vertical-align: top;\n",
              "    }\n",
              "\n",
              "    .dataframe thead th {\n",
              "        text-align: right;\n",
              "    }\n",
              "</style>\n",
              "<table border=\"1\" class=\"dataframe\">\n",
              "  <thead>\n",
              "    <tr style=\"text-align: right;\">\n",
              "      <th></th>\n",
              "      <th>Interest Rate</th>\n",
              "      <th>Currency of Commitment</th>\n",
              "      <th>Original Principal Amount</th>\n",
              "      <th>Cancelled Amount</th>\n",
              "      <th>Undisbursed Amount</th>\n",
              "      <th>Disbursed Amount</th>\n",
              "      <th>Repaid to IBRD</th>\n",
              "      <th>Due to IBRD</th>\n",
              "      <th>Exchange Adjustment</th>\n",
              "      <th>Borrower's Obligation</th>\n",
              "      <th>Sold 3rd Party</th>\n",
              "      <th>Repaid 3rd Party</th>\n",
              "      <th>Due 3rd Party</th>\n",
              "      <th>Loans Held</th>\n",
              "    </tr>\n",
              "  </thead>\n",
              "  <tbody>\n",
              "    <tr>\n",
              "      <th>count</th>\n",
              "      <td>940839.000000</td>\n",
              "      <td>0.0</td>\n",
              "      <td>9.694260e+05</td>\n",
              "      <td>9.694260e+05</td>\n",
              "      <td>9.694260e+05</td>\n",
              "      <td>9.694260e+05</td>\n",
              "      <td>9.694260e+05</td>\n",
              "      <td>9.694260e+05</td>\n",
              "      <td>9.694260e+05</td>\n",
              "      <td>9.694260e+05</td>\n",
              "      <td>9.694260e+05</td>\n",
              "      <td>9.694260e+05</td>\n",
              "      <td>969426.0</td>\n",
              "      <td>9.694260e+05</td>\n",
              "    </tr>\n",
              "    <tr>\n",
              "      <th>mean</th>\n",
              "      <td>4.671151</td>\n",
              "      <td>NaN</td>\n",
              "      <td>7.798162e+07</td>\n",
              "      <td>9.814707e+06</td>\n",
              "      <td>7.686284e+06</td>\n",
              "      <td>6.053063e+07</td>\n",
              "      <td>4.028684e+07</td>\n",
              "      <td>1.992957e+07</td>\n",
              "      <td>-2.774880e+05</td>\n",
              "      <td>1.965208e+07</td>\n",
              "      <td>4.398595e+05</td>\n",
              "      <td>4.398595e+05</td>\n",
              "      <td>0.0</td>\n",
              "      <td>2.761585e+07</td>\n",
              "    </tr>\n",
              "    <tr>\n",
              "      <th>std</th>\n",
              "      <td>3.394579</td>\n",
              "      <td>NaN</td>\n",
              "      <td>1.498861e+08</td>\n",
              "      <td>4.506738e+07</td>\n",
              "      <td>5.296174e+07</td>\n",
              "      <td>1.294894e+08</td>\n",
              "      <td>8.877221e+07</td>\n",
              "      <td>9.527140e+07</td>\n",
              "      <td>9.851818e+06</td>\n",
              "      <td>9.233145e+07</td>\n",
              "      <td>3.848737e+06</td>\n",
              "      <td>3.848737e+06</td>\n",
              "      <td>0.0</td>\n",
              "      <td>1.147341e+08</td>\n",
              "    </tr>\n",
              "    <tr>\n",
              "      <th>min</th>\n",
              "      <td>0.000000</td>\n",
              "      <td>NaN</td>\n",
              "      <td>0.000000e+00</td>\n",
              "      <td>0.000000e+00</td>\n",
              "      <td>-1.226600e+08</td>\n",
              "      <td>0.000000e+00</td>\n",
              "      <td>0.000000e+00</td>\n",
              "      <td>-1.005074e+08</td>\n",
              "      <td>-9.903554e+08</td>\n",
              "      <td>-2.200000e-01</td>\n",
              "      <td>0.000000e+00</td>\n",
              "      <td>0.000000e+00</td>\n",
              "      <td>0.0</td>\n",
              "      <td>-1.226600e+08</td>\n",
              "    </tr>\n",
              "    <tr>\n",
              "      <th>25%</th>\n",
              "      <td>0.730000</td>\n",
              "      <td>NaN</td>\n",
              "      <td>1.002500e+07</td>\n",
              "      <td>0.000000e+00</td>\n",
              "      <td>0.000000e+00</td>\n",
              "      <td>5.675190e+06</td>\n",
              "      <td>2.487313e+06</td>\n",
              "      <td>0.000000e+00</td>\n",
              "      <td>0.000000e+00</td>\n",
              "      <td>0.000000e+00</td>\n",
              "      <td>0.000000e+00</td>\n",
              "      <td>0.000000e+00</td>\n",
              "      <td>0.0</td>\n",
              "      <td>0.000000e+00</td>\n",
              "    </tr>\n",
              "    <tr>\n",
              "      <th>50%</th>\n",
              "      <td>5.510000</td>\n",
              "      <td>NaN</td>\n",
              "      <td>3.000000e+07</td>\n",
              "      <td>3.776200e+02</td>\n",
              "      <td>0.000000e+00</td>\n",
              "      <td>2.100000e+07</td>\n",
              "      <td>1.407260e+07</td>\n",
              "      <td>0.000000e+00</td>\n",
              "      <td>0.000000e+00</td>\n",
              "      <td>0.000000e+00</td>\n",
              "      <td>0.000000e+00</td>\n",
              "      <td>0.000000e+00</td>\n",
              "      <td>0.0</td>\n",
              "      <td>0.000000e+00</td>\n",
              "    </tr>\n",
              "    <tr>\n",
              "      <th>75%</th>\n",
              "      <td>7.350000</td>\n",
              "      <td>NaN</td>\n",
              "      <td>8.700000e+07</td>\n",
              "      <td>3.550647e+06</td>\n",
              "      <td>0.000000e+00</td>\n",
              "      <td>6.114535e+07</td>\n",
              "      <td>4.185000e+07</td>\n",
              "      <td>0.000000e+00</td>\n",
              "      <td>0.000000e+00</td>\n",
              "      <td>0.000000e+00</td>\n",
              "      <td>0.000000e+00</td>\n",
              "      <td>0.000000e+00</td>\n",
              "      <td>0.0</td>\n",
              "      <td>0.000000e+00</td>\n",
              "    </tr>\n",
              "    <tr>\n",
              "      <th>max</th>\n",
              "      <td>17.000000</td>\n",
              "      <td>NaN</td>\n",
              "      <td>3.750000e+09</td>\n",
              "      <td>1.995000e+09</td>\n",
              "      <td>3.379011e+09</td>\n",
              "      <td>3.110973e+09</td>\n",
              "      <td>3.000000e+09</td>\n",
              "      <td>2.923282e+09</td>\n",
              "      <td>5.065767e+08</td>\n",
              "      <td>2.842924e+09</td>\n",
              "      <td>2.499620e+08</td>\n",
              "      <td>2.499620e+08</td>\n",
              "      <td>0.0</td>\n",
              "      <td>3.750000e+09</td>\n",
              "    </tr>\n",
              "  </tbody>\n",
              "</table>\n",
              "</div>"
            ],
            "text/plain": [
              "       Interest Rate  Currency of Commitment  ...  Due 3rd Party    Loans Held\n",
              "count  940839.000000                     0.0  ...       969426.0  9.694260e+05\n",
              "mean        4.671151                     NaN  ...            0.0  2.761585e+07\n",
              "std         3.394579                     NaN  ...            0.0  1.147341e+08\n",
              "min         0.000000                     NaN  ...            0.0 -1.226600e+08\n",
              "25%         0.730000                     NaN  ...            0.0  0.000000e+00\n",
              "50%         5.510000                     NaN  ...            0.0  0.000000e+00\n",
              "75%         7.350000                     NaN  ...            0.0  0.000000e+00\n",
              "max        17.000000                     NaN  ...            0.0  3.750000e+09\n",
              "\n",
              "[8 rows x 14 columns]"
            ]
          },
          "metadata": {
            "tags": []
          },
          "execution_count": 71
        }
      ]
    },
    {
      "cell_type": "code",
      "metadata": {
        "colab": {
          "base_uri": "https://localhost:8080/"
        },
        "id": "XAJeNXt2pCI0",
        "outputId": "77d0d189-58a1-4e45-9832-30c61f27f1a3"
      },
      "source": [
        "bd['Agreement Signing Date'].isnull().sum()"
      ],
      "execution_count": null,
      "outputs": [
        {
          "output_type": "execute_result",
          "data": {
            "text/plain": [
              "12561"
            ]
          },
          "metadata": {
            "tags": []
          },
          "execution_count": 72
        }
      ]
    },
    {
      "cell_type": "code",
      "metadata": {
        "colab": {
          "base_uri": "https://localhost:8080/"
        },
        "id": "FiHbAHvIyEZX",
        "outputId": "f6cf45bb-b110-4808-bb1e-e897c0006f59"
      },
      "source": [
        "bd['First Repayment Date'].isnull().sum()"
      ],
      "execution_count": null,
      "outputs": [
        {
          "output_type": "execute_result",
          "data": {
            "text/plain": [
              "4860"
            ]
          },
          "metadata": {
            "tags": []
          },
          "execution_count": 73
        }
      ]
    },
    {
      "cell_type": "code",
      "metadata": {
        "colab": {
          "base_uri": "https://localhost:8080/"
        },
        "id": "HS0RCy1JyQjm",
        "outputId": "e4b5dc40-eb81-4438-9b30-86bb600f0957"
      },
      "source": [
        "bd['Last Repayment Date'].isnull().sum()"
      ],
      "execution_count": null,
      "outputs": [
        {
          "output_type": "execute_result",
          "data": {
            "text/plain": [
              "4745"
            ]
          },
          "metadata": {
            "tags": []
          },
          "execution_count": 74
        }
      ]
    },
    {
      "cell_type": "code",
      "metadata": {
        "colab": {
          "base_uri": "https://localhost:8080/"
        },
        "id": "SVm4rSLPyT5U",
        "outputId": "2dd87204-ae6b-40b9-c650-2a4c07e8d18c"
      },
      "source": [
        "bd['Board Approval Date'].isnull().sum()"
      ],
      "execution_count": null,
      "outputs": [
        {
          "output_type": "execute_result",
          "data": {
            "text/plain": [
              "2"
            ]
          },
          "metadata": {
            "tags": []
          },
          "execution_count": 75
        }
      ]
    },
    {
      "cell_type": "markdown",
      "metadata": {
        "id": "E-R2PD12wgP_"
      },
      "source": [
        "## **23 Nov work data preprocessing**"
      ]
    },
    {
      "cell_type": "code",
      "metadata": {
        "id": "HG19y0SMyXc9",
        "colab": {
          "base_uri": "https://localhost:8080/"
        },
        "outputId": "84dae685-b3ee-4493-e11d-3fd100ea7507"
      },
      "source": [
        "bd.info()"
      ],
      "execution_count": null,
      "outputs": [
        {
          "output_type": "stream",
          "text": [
            "<class 'pandas.core.frame.DataFrame'>\n",
            "RangeIndex: 969426 entries, 0 to 969425\n",
            "Data columns (total 33 columns):\n",
            " #   Column                        Non-Null Count   Dtype  \n",
            "---  ------                        --------------   -----  \n",
            " 0   End of Period                 969426 non-null  object \n",
            " 1   Loan Number                   969426 non-null  object \n",
            " 2   Region                        969426 non-null  object \n",
            " 3   Country Code                  969196 non-null  object \n",
            " 4   Country                       969426 non-null  object \n",
            " 5   Borrower                      962812 non-null  object \n",
            " 6   Guarantor Country Code        932459 non-null  object \n",
            " 7   Guarantor                     905043 non-null  object \n",
            " 8   Loan Type                     969426 non-null  object \n",
            " 9   Loan Status                   969426 non-null  object \n",
            " 10  Interest Rate                 940839 non-null  float64\n",
            " 11  Currency of Commitment        0 non-null       float64\n",
            " 12  Project ID                    931891 non-null  object \n",
            " 13  Project Name                  772819 non-null  object \n",
            " 14  Original Principal Amount     969426 non-null  float64\n",
            " 15  Cancelled Amount              969426 non-null  float64\n",
            " 16  Undisbursed Amount            969426 non-null  float64\n",
            " 17  Disbursed Amount              969426 non-null  float64\n",
            " 18  Repaid to IBRD                969426 non-null  float64\n",
            " 19  Due to IBRD                   969426 non-null  float64\n",
            " 20  Exchange Adjustment           969426 non-null  float64\n",
            " 21  Borrower's Obligation         969426 non-null  float64\n",
            " 22  Sold 3rd Party                969426 non-null  float64\n",
            " 23  Repaid 3rd Party              969426 non-null  float64\n",
            " 24  Due 3rd Party                 969426 non-null  int64  \n",
            " 25  Loans Held                    969426 non-null  float64\n",
            " 26  First Repayment Date          964566 non-null  object \n",
            " 27  Last Repayment Date           964681 non-null  object \n",
            " 28  Agreement Signing Date        956865 non-null  object \n",
            " 29  Board Approval Date           969424 non-null  object \n",
            " 30  Effective Date (Most Recent)  963353 non-null  object \n",
            " 31  Closed Date (Most Recent)     968528 non-null  object \n",
            " 32  Last Disbursement Date        547127 non-null  object \n",
            "dtypes: float64(13), int64(1), object(19)\n",
            "memory usage: 244.1+ MB\n"
          ],
          "name": "stdout"
        }
      ]
    },
    {
      "cell_type": "code",
      "metadata": {
        "colab": {
          "base_uri": "https://localhost:8080/",
          "height": 646
        },
        "id": "De7cycJHwrie",
        "outputId": "998caa89-3a60-4814-df85-211367ef4825"
      },
      "source": [
        "bd.corr()"
      ],
      "execution_count": null,
      "outputs": [
        {
          "output_type": "execute_result",
          "data": {
            "text/html": [
              "<div>\n",
              "<style scoped>\n",
              "    .dataframe tbody tr th:only-of-type {\n",
              "        vertical-align: middle;\n",
              "    }\n",
              "\n",
              "    .dataframe tbody tr th {\n",
              "        vertical-align: top;\n",
              "    }\n",
              "\n",
              "    .dataframe thead th {\n",
              "        text-align: right;\n",
              "    }\n",
              "</style>\n",
              "<table border=\"1\" class=\"dataframe\">\n",
              "  <thead>\n",
              "    <tr style=\"text-align: right;\">\n",
              "      <th></th>\n",
              "      <th>Interest Rate</th>\n",
              "      <th>Currency of Commitment</th>\n",
              "      <th>Original Principal Amount</th>\n",
              "      <th>Cancelled Amount</th>\n",
              "      <th>Undisbursed Amount</th>\n",
              "      <th>Disbursed Amount</th>\n",
              "      <th>Repaid to IBRD</th>\n",
              "      <th>Due to IBRD</th>\n",
              "      <th>Exchange Adjustment</th>\n",
              "      <th>Borrower's Obligation</th>\n",
              "      <th>Sold 3rd Party</th>\n",
              "      <th>Repaid 3rd Party</th>\n",
              "      <th>Due 3rd Party</th>\n",
              "      <th>Loans Held</th>\n",
              "    </tr>\n",
              "  </thead>\n",
              "  <tbody>\n",
              "    <tr>\n",
              "      <th>Interest Rate</th>\n",
              "      <td>1.000000</td>\n",
              "      <td>NaN</td>\n",
              "      <td>-0.284854</td>\n",
              "      <td>-0.080347</td>\n",
              "      <td>-0.191744</td>\n",
              "      <td>-0.225399</td>\n",
              "      <td>-0.043445</td>\n",
              "      <td>-0.271162</td>\n",
              "      <td>0.041514</td>\n",
              "      <td>-0.275610</td>\n",
              "      <td>0.046205</td>\n",
              "      <td>0.046205</td>\n",
              "      <td>NaN</td>\n",
              "      <td>-0.313381</td>\n",
              "    </tr>\n",
              "    <tr>\n",
              "      <th>Currency of Commitment</th>\n",
              "      <td>NaN</td>\n",
              "      <td>NaN</td>\n",
              "      <td>NaN</td>\n",
              "      <td>NaN</td>\n",
              "      <td>NaN</td>\n",
              "      <td>NaN</td>\n",
              "      <td>NaN</td>\n",
              "      <td>NaN</td>\n",
              "      <td>NaN</td>\n",
              "      <td>NaN</td>\n",
              "      <td>NaN</td>\n",
              "      <td>NaN</td>\n",
              "      <td>NaN</td>\n",
              "      <td>NaN</td>\n",
              "    </tr>\n",
              "    <tr>\n",
              "      <th>Original Principal Amount</th>\n",
              "      <td>-0.284854</td>\n",
              "      <td>NaN</td>\n",
              "      <td>1.000000</td>\n",
              "      <td>0.304931</td>\n",
              "      <td>0.392266</td>\n",
              "      <td>0.886409</td>\n",
              "      <td>0.576298</td>\n",
              "      <td>0.668261</td>\n",
              "      <td>-0.212681</td>\n",
              "      <td>0.666846</td>\n",
              "      <td>-0.012007</td>\n",
              "      <td>-0.012007</td>\n",
              "      <td>NaN</td>\n",
              "      <td>0.735974</td>\n",
              "    </tr>\n",
              "    <tr>\n",
              "      <th>Cancelled Amount</th>\n",
              "      <td>-0.080347</td>\n",
              "      <td>NaN</td>\n",
              "      <td>0.304931</td>\n",
              "      <td>1.000000</td>\n",
              "      <td>-0.018616</td>\n",
              "      <td>0.020404</td>\n",
              "      <td>0.048896</td>\n",
              "      <td>-0.017061</td>\n",
              "      <td>0.009878</td>\n",
              "      <td>-0.016550</td>\n",
              "      <td>-0.022650</td>\n",
              "      <td>-0.022650</td>\n",
              "      <td>NaN</td>\n",
              "      <td>-0.022760</td>\n",
              "    </tr>\n",
              "    <tr>\n",
              "      <th>Undisbursed Amount</th>\n",
              "      <td>-0.191744</td>\n",
              "      <td>NaN</td>\n",
              "      <td>0.392266</td>\n",
              "      <td>-0.018616</td>\n",
              "      <td>1.000000</td>\n",
              "      <td>0.051108</td>\n",
              "      <td>-0.061317</td>\n",
              "      <td>0.127070</td>\n",
              "      <td>-0.058060</td>\n",
              "      <td>0.124921</td>\n",
              "      <td>-0.016586</td>\n",
              "      <td>-0.016586</td>\n",
              "      <td>NaN</td>\n",
              "      <td>0.567119</td>\n",
              "    </tr>\n",
              "    <tr>\n",
              "      <th>Disbursed Amount</th>\n",
              "      <td>-0.225399</td>\n",
              "      <td>NaN</td>\n",
              "      <td>0.886409</td>\n",
              "      <td>0.020404</td>\n",
              "      <td>0.051108</td>\n",
              "      <td>1.000000</td>\n",
              "      <td>0.676971</td>\n",
              "      <td>0.728376</td>\n",
              "      <td>-0.228512</td>\n",
              "      <td>0.727186</td>\n",
              "      <td>0.000724</td>\n",
              "      <td>0.000724</td>\n",
              "      <td>NaN</td>\n",
              "      <td>0.628411</td>\n",
              "    </tr>\n",
              "    <tr>\n",
              "      <th>Repaid to IBRD</th>\n",
              "      <td>-0.043445</td>\n",
              "      <td>NaN</td>\n",
              "      <td>0.576298</td>\n",
              "      <td>0.048896</td>\n",
              "      <td>-0.061317</td>\n",
              "      <td>0.676971</td>\n",
              "      <td>1.000000</td>\n",
              "      <td>-0.010015</td>\n",
              "      <td>0.037389</td>\n",
              "      <td>-0.006345</td>\n",
              "      <td>-0.016803</td>\n",
              "      <td>-0.016803</td>\n",
              "      <td>NaN</td>\n",
              "      <td>-0.036620</td>\n",
              "    </tr>\n",
              "    <tr>\n",
              "      <th>Due to IBRD</th>\n",
              "      <td>-0.271162</td>\n",
              "      <td>NaN</td>\n",
              "      <td>0.668261</td>\n",
              "      <td>-0.017061</td>\n",
              "      <td>0.127070</td>\n",
              "      <td>0.728376</td>\n",
              "      <td>-0.010015</td>\n",
              "      <td>1.000000</td>\n",
              "      <td>-0.345516</td>\n",
              "      <td>0.994974</td>\n",
              "      <td>-0.023907</td>\n",
              "      <td>-0.023907</td>\n",
              "      <td>NaN</td>\n",
              "      <td>0.889023</td>\n",
              "    </tr>\n",
              "    <tr>\n",
              "      <th>Exchange Adjustment</th>\n",
              "      <td>0.041514</td>\n",
              "      <td>NaN</td>\n",
              "      <td>-0.212681</td>\n",
              "      <td>0.009878</td>\n",
              "      <td>-0.058060</td>\n",
              "      <td>-0.228512</td>\n",
              "      <td>0.037389</td>\n",
              "      <td>-0.345516</td>\n",
              "      <td>1.000000</td>\n",
              "      <td>-0.249818</td>\n",
              "      <td>0.003219</td>\n",
              "      <td>0.003219</td>\n",
              "      <td>NaN</td>\n",
              "      <td>-0.313706</td>\n",
              "    </tr>\n",
              "    <tr>\n",
              "      <th>Borrower's Obligation</th>\n",
              "      <td>-0.275610</td>\n",
              "      <td>NaN</td>\n",
              "      <td>0.666846</td>\n",
              "      <td>-0.016550</td>\n",
              "      <td>0.124921</td>\n",
              "      <td>0.727186</td>\n",
              "      <td>-0.006345</td>\n",
              "      <td>0.994974</td>\n",
              "      <td>-0.249818</td>\n",
              "      <td>1.000000</td>\n",
              "      <td>-0.024325</td>\n",
              "      <td>-0.024325</td>\n",
              "      <td>NaN</td>\n",
              "      <td>0.883858</td>\n",
              "    </tr>\n",
              "    <tr>\n",
              "      <th>Sold 3rd Party</th>\n",
              "      <td>0.046205</td>\n",
              "      <td>NaN</td>\n",
              "      <td>-0.012007</td>\n",
              "      <td>-0.022650</td>\n",
              "      <td>-0.016586</td>\n",
              "      <td>0.000724</td>\n",
              "      <td>-0.016803</td>\n",
              "      <td>-0.023907</td>\n",
              "      <td>0.003219</td>\n",
              "      <td>-0.024325</td>\n",
              "      <td>1.000000</td>\n",
              "      <td>1.000000</td>\n",
              "      <td>NaN</td>\n",
              "      <td>-0.027508</td>\n",
              "    </tr>\n",
              "    <tr>\n",
              "      <th>Repaid 3rd Party</th>\n",
              "      <td>0.046205</td>\n",
              "      <td>NaN</td>\n",
              "      <td>-0.012007</td>\n",
              "      <td>-0.022650</td>\n",
              "      <td>-0.016586</td>\n",
              "      <td>0.000724</td>\n",
              "      <td>-0.016803</td>\n",
              "      <td>-0.023907</td>\n",
              "      <td>0.003219</td>\n",
              "      <td>-0.024325</td>\n",
              "      <td>1.000000</td>\n",
              "      <td>1.000000</td>\n",
              "      <td>NaN</td>\n",
              "      <td>-0.027508</td>\n",
              "    </tr>\n",
              "    <tr>\n",
              "      <th>Due 3rd Party</th>\n",
              "      <td>NaN</td>\n",
              "      <td>NaN</td>\n",
              "      <td>NaN</td>\n",
              "      <td>NaN</td>\n",
              "      <td>NaN</td>\n",
              "      <td>NaN</td>\n",
              "      <td>NaN</td>\n",
              "      <td>NaN</td>\n",
              "      <td>NaN</td>\n",
              "      <td>NaN</td>\n",
              "      <td>NaN</td>\n",
              "      <td>NaN</td>\n",
              "      <td>NaN</td>\n",
              "      <td>NaN</td>\n",
              "    </tr>\n",
              "    <tr>\n",
              "      <th>Loans Held</th>\n",
              "      <td>-0.313381</td>\n",
              "      <td>NaN</td>\n",
              "      <td>0.735974</td>\n",
              "      <td>-0.022760</td>\n",
              "      <td>0.567119</td>\n",
              "      <td>0.628411</td>\n",
              "      <td>-0.036620</td>\n",
              "      <td>0.889023</td>\n",
              "      <td>-0.313706</td>\n",
              "      <td>0.883858</td>\n",
              "      <td>-0.027508</td>\n",
              "      <td>-0.027508</td>\n",
              "      <td>NaN</td>\n",
              "      <td>1.000000</td>\n",
              "    </tr>\n",
              "  </tbody>\n",
              "</table>\n",
              "</div>"
            ],
            "text/plain": [
              "                           Interest Rate  ...  Loans Held\n",
              "Interest Rate                   1.000000  ...   -0.313381\n",
              "Currency of Commitment               NaN  ...         NaN\n",
              "Original Principal Amount      -0.284854  ...    0.735974\n",
              "Cancelled Amount               -0.080347  ...   -0.022760\n",
              "Undisbursed Amount             -0.191744  ...    0.567119\n",
              "Disbursed Amount               -0.225399  ...    0.628411\n",
              "Repaid to IBRD                 -0.043445  ...   -0.036620\n",
              "Due to IBRD                    -0.271162  ...    0.889023\n",
              "Exchange Adjustment             0.041514  ...   -0.313706\n",
              "Borrower's Obligation          -0.275610  ...    0.883858\n",
              "Sold 3rd Party                  0.046205  ...   -0.027508\n",
              "Repaid 3rd Party                0.046205  ...   -0.027508\n",
              "Due 3rd Party                        NaN  ...         NaN\n",
              "Loans Held                     -0.313381  ...    1.000000\n",
              "\n",
              "[14 rows x 14 columns]"
            ]
          },
          "metadata": {
            "tags": []
          },
          "execution_count": 7
        }
      ]
    },
    {
      "cell_type": "code",
      "metadata": {
        "colab": {
          "base_uri": "https://localhost:8080/"
        },
        "id": "vOigyLMUw8DQ",
        "outputId": "b8224dee-d804-46bd-8ae3-130ecf6ff826"
      },
      "source": [
        "bd.columns"
      ],
      "execution_count": null,
      "outputs": [
        {
          "output_type": "execute_result",
          "data": {
            "text/plain": [
              "Index(['End of Period', 'Loan Number', 'Region', 'Country Code', 'Country',\n",
              "       'Borrower', 'Guarantor Country Code', 'Guarantor', 'Loan Type',\n",
              "       'Loan Status', 'Interest Rate', 'Currency of Commitment', 'Project ID',\n",
              "       'Project Name ', 'Original Principal Amount', 'Cancelled Amount',\n",
              "       'Undisbursed Amount', 'Disbursed Amount', 'Repaid to IBRD',\n",
              "       'Due to IBRD', 'Exchange Adjustment', 'Borrower's Obligation',\n",
              "       'Sold 3rd Party', 'Repaid 3rd Party', 'Due 3rd Party', 'Loans Held',\n",
              "       'First Repayment Date', 'Last Repayment Date', 'Agreement Signing Date',\n",
              "       'Board Approval Date', 'Effective Date (Most Recent)',\n",
              "       'Closed Date (Most Recent)', 'Last Disbursement Date'],\n",
              "      dtype='object')"
            ]
          },
          "metadata": {
            "tags": []
          },
          "execution_count": 8
        }
      ]
    },
    {
      "cell_type": "code",
      "metadata": {
        "id": "uVaHQwLTxkpw"
      },
      "source": [
        "bd=bd.drop(columns=['End of Period','Loan Number','Country Code','Guarantor Country Code','Currency of Commitment','Project ID','Project Name ','Cancelled Amount'],axis=1)"
      ],
      "execution_count": null,
      "outputs": []
    },
    {
      "cell_type": "code",
      "metadata": {
        "colab": {
          "base_uri": "https://localhost:8080/"
        },
        "id": "s--Qenyzyb8Y",
        "outputId": "44f73928-6ed8-4a6d-9a8c-1e6914f26e5e"
      },
      "source": [
        "bd.info()"
      ],
      "execution_count": null,
      "outputs": [
        {
          "output_type": "stream",
          "text": [
            "<class 'pandas.core.frame.DataFrame'>\n",
            "RangeIndex: 969426 entries, 0 to 969425\n",
            "Data columns (total 25 columns):\n",
            " #   Column                        Non-Null Count   Dtype  \n",
            "---  ------                        --------------   -----  \n",
            " 0   Region                        969426 non-null  object \n",
            " 1   Country                       969426 non-null  object \n",
            " 2   Borrower                      962812 non-null  object \n",
            " 3   Guarantor                     905043 non-null  object \n",
            " 4   Loan Type                     969426 non-null  object \n",
            " 5   Loan Status                   969426 non-null  object \n",
            " 6   Interest Rate                 940839 non-null  float64\n",
            " 7   Original Principal Amount     969426 non-null  float64\n",
            " 8   Undisbursed Amount            969426 non-null  float64\n",
            " 9   Disbursed Amount              969426 non-null  float64\n",
            " 10  Repaid to IBRD                969426 non-null  float64\n",
            " 11  Due to IBRD                   969426 non-null  float64\n",
            " 12  Exchange Adjustment           969426 non-null  float64\n",
            " 13  Borrower's Obligation         969426 non-null  float64\n",
            " 14  Sold 3rd Party                969426 non-null  float64\n",
            " 15  Repaid 3rd Party              969426 non-null  float64\n",
            " 16  Due 3rd Party                 969426 non-null  int64  \n",
            " 17  Loans Held                    969426 non-null  float64\n",
            " 18  First Repayment Date          964566 non-null  object \n",
            " 19  Last Repayment Date           964681 non-null  object \n",
            " 20  Agreement Signing Date        956865 non-null  object \n",
            " 21  Board Approval Date           969424 non-null  object \n",
            " 22  Effective Date (Most Recent)  963353 non-null  object \n",
            " 23  Closed Date (Most Recent)     968528 non-null  object \n",
            " 24  Last Disbursement Date        547127 non-null  object \n",
            "dtypes: float64(11), int64(1), object(13)\n",
            "memory usage: 184.9+ MB\n"
          ],
          "name": "stdout"
        }
      ]
    },
    {
      "cell_type": "code",
      "metadata": {
        "id": "rutSXtIZRF_F"
      },
      "source": [
        "bd['Region'].replace('AFRICA','Africa',inplace=True)\n",
        "bd['Region'].replace('LATIN AMERICA AND CARIBBEAN','Latin America and Caribbean',inplace=True)\n",
        "bd['Region'].replace('SOUTH ASIA','South Asia',inplace=True)\n",
        "bd['Region'].replace('EAST ASIA AND PACIFIC','East Asia and Pacific',inplace=True)\n",
        "bd['Region'].replace('EUROPE AND CENTRAL ASIA','Europe and Central Asia',inplace=True)\n",
        "bd['Region'].replace('MIDDLE EAST AND NORTH AFRICA','Middle East and North Africa',inplace=True)"
      ],
      "execution_count": null,
      "outputs": []
    },
    {
      "cell_type": "code",
      "metadata": {
        "id": "BW5VGgNc1svH"
      },
      "source": [
        "bd['Region'].replace('OTHER','Other',inplace=True)\n",
        "bd['Region'].replace('AFRICA EAST','Africa East',inplace=True)\n",
        "bd['Region'].replace('AFRICA WEST','Africa West',inplace=True)"
      ],
      "execution_count": null,
      "outputs": []
    },
    {
      "cell_type": "code",
      "metadata": {
        "colab": {
          "base_uri": "https://localhost:8080/"
        },
        "id": "sKtpAPKS2NmK",
        "outputId": "85d72fe0-a280-4169-9b0b-4081cb67c4f0"
      },
      "source": [
        "np.unique(bd['Region'])"
      ],
      "execution_count": null,
      "outputs": [
        {
          "output_type": "execute_result",
          "data": {
            "text/plain": [
              "array(['Africa', 'Africa East', 'Africa West', 'East Asia and Pacific',\n",
              "       'Europe and Central Asia', 'Latin America and Caribbean',\n",
              "       'Middle East and North Africa', 'Other', 'South Asia'],\n",
              "      dtype=object)"
            ]
          },
          "metadata": {
            "tags": []
          },
          "execution_count": 11
        }
      ]
    },
    {
      "cell_type": "code",
      "metadata": {
        "colab": {
          "base_uri": "https://localhost:8080/"
        },
        "id": "HLxDmq492Pqp",
        "outputId": "c4056d2a-ac00-4812-8fee-6c4f003d59df"
      },
      "source": [
        "np.unique(bd['Country'])"
      ],
      "execution_count": null,
      "outputs": [
        {
          "output_type": "execute_result",
          "data": {
            "text/plain": [
              "array(['Albania', 'Algeria', 'Angola', 'Antigua and Barbuda', 'Argentina',\n",
              "       'Armenia', 'Australia', 'Austria', 'Azerbaijan', 'Bahamas, The',\n",
              "       'Bangladesh', 'Barbados', 'Belarus', 'Belgium', 'Belize',\n",
              "       'Bolivia', 'Bosnia and Herzegovina', 'Botswana', 'Brazil',\n",
              "       'Bulgaria', 'Burundi', 'Cabo Verde', 'Cameroon', 'Cape Verde',\n",
              "       'Caribbean', 'Chad', 'Chile', 'China', 'Colombia',\n",
              "       'Congo, Democratic Republic of', 'Congo, Republic of',\n",
              "       'Costa Rica', \"Cote d'Ivoire\", 'Croatia', 'Cyprus',\n",
              "       'Czech Republic', 'Denmark', 'Dominica', 'Dominican Republic',\n",
              "       'Eastern Africa', 'Ecuador', 'Egypt, Arab Republic of',\n",
              "       'El Salvador', 'Estonia', 'Eswatini', 'Ethiopia', 'Fiji',\n",
              "       'Finland', 'France', 'Gabon', 'Georgia', 'Ghana', 'Greece',\n",
              "       'Grenada', 'Guatemala', 'Guinea', 'Guyana', 'Haiti', 'Honduras',\n",
              "       'Hungary', 'Iceland', 'India', 'Indonesia',\n",
              "       'Iran, Islamic Republic of', 'Iraq', 'Ireland', 'Israel', 'Italy',\n",
              "       'Jamaica', 'Japan', 'Jordan', 'Kazakhstan', 'Kenya',\n",
              "       'Korea, Republic of', 'Kosovo', 'Latvia', 'Lebanon', 'Lesotho',\n",
              "       'Liberia', 'Lithuania', 'Luxembourg',\n",
              "       'Macedonia, former Yugoslav Republic',\n",
              "       'Macedonia, former Yugoslav Republic of', 'Madagascar', 'Malawi',\n",
              "       'Malaysia', 'Malta', 'Mauritania', 'Mauritius', 'Mexico',\n",
              "       'Moldova', 'Mongolia', 'Montenegro', 'Morocco', 'Mozambique',\n",
              "       'Myanmar', 'Namibia', 'Netherlands', 'New Zealand', 'Nicaragua',\n",
              "       'Nigeria', 'North Macedonia', 'Norway', 'Oman', 'Pakistan',\n",
              "       'Panama', 'Papua New Guinea', 'Paraguay', 'Peru', 'Philippines',\n",
              "       'Poland', 'Portugal', 'Romania', 'Russian Federation', 'Senegal',\n",
              "       'Serbia', 'Seychelles', 'Sierra Leone', 'Singapore',\n",
              "       'Slovak Republic', 'Slovenia', 'South Africa', 'Southern Africa',\n",
              "       'Spain', 'Sri Lanka', 'St. Kitts and Nevis', 'St. Lucia',\n",
              "       'St. Vincent and the Grenadines', 'Sudan', 'Suriname', 'Swaziland',\n",
              "       'Syrian Arab Republic', 'Taiwan, China', 'Tanzania', 'Thailand',\n",
              "       'Timor-Leste', 'Togo', 'Trinidad and Tobago', 'Tunisia', 'Turkey',\n",
              "       'Turkmenistan', 'Uganda', 'Ukraine', 'Uruguay', 'Uzbekistan',\n",
              "       'Venezuela, Republica Bolivariana de', 'Vietnam', 'Western Africa',\n",
              "       'World', 'Yugoslavia, former', 'Zambia', 'Zimbabwe'], dtype=object)"
            ]
          },
          "metadata": {
            "tags": []
          },
          "execution_count": 12
        }
      ]
    },
    {
      "cell_type": "code",
      "metadata": {
        "colab": {
          "base_uri": "https://localhost:8080/"
        },
        "id": "pCuC8a3I2x8a",
        "outputId": "d5a62469-a8b0-4404-b8b0-bf89437d96f2"
      },
      "source": [
        "bd['Region'].isnull().sum()"
      ],
      "execution_count": null,
      "outputs": [
        {
          "output_type": "execute_result",
          "data": {
            "text/plain": [
              "0"
            ]
          },
          "metadata": {
            "tags": []
          },
          "execution_count": 13
        }
      ]
    },
    {
      "cell_type": "code",
      "metadata": {
        "colab": {
          "base_uri": "https://localhost:8080/"
        },
        "id": "QrsfgkQj26AR",
        "outputId": "49b92435-d215-46a2-82eb-491a3c9643f1"
      },
      "source": [
        "bd['Country'].isnull().sum()"
      ],
      "execution_count": null,
      "outputs": [
        {
          "output_type": "execute_result",
          "data": {
            "text/plain": [
              "0"
            ]
          },
          "metadata": {
            "tags": []
          },
          "execution_count": 14
        }
      ]
    },
    {
      "cell_type": "code",
      "metadata": {
        "colab": {
          "base_uri": "https://localhost:8080/"
        },
        "id": "VM0PstUV2-FF",
        "outputId": "103374ce-87ed-41fa-a25c-6825f8a8e769"
      },
      "source": [
        "bd['Borrower'].isnull().sum()"
      ],
      "execution_count": null,
      "outputs": [
        {
          "output_type": "execute_result",
          "data": {
            "text/plain": [
              "0"
            ]
          },
          "metadata": {
            "tags": []
          },
          "execution_count": 24
        }
      ]
    },
    {
      "cell_type": "code",
      "metadata": {
        "colab": {
          "base_uri": "https://localhost:8080/"
        },
        "id": "eGSiaIQ73IkJ",
        "outputId": "2fa9d3fd-9be5-4f51-ced7-a7519b693952"
      },
      "source": [
        "np.unique(bd['Borrower'])"
      ],
      "execution_count": null,
      "outputs": [
        {
          "output_type": "execute_result",
          "data": {
            "text/plain": [
              "array(['#MULTIVALUE', 'ADDIS ABABA WATER AND SEWERAGE',\n",
              "       'ADMIN DE LAS OBRAS SANITARIAS DEL ESTADO', ...,\n",
              "       'Zagrebacka banka d.d.', 'Zagrebaka banka d.d.',\n",
              "       'Zimbabwe Electricity Supply Commission'], dtype=object)"
            ]
          },
          "metadata": {
            "tags": []
          },
          "execution_count": 23
        }
      ]
    },
    {
      "cell_type": "code",
      "metadata": {
        "id": "b050gdGv3MDu"
      },
      "source": [
        "bd['Borrower']=bd['Borrower'].fillna(\"\")"
      ],
      "execution_count": null,
      "outputs": []
    },
    {
      "cell_type": "code",
      "metadata": {
        "colab": {
          "base_uri": "https://localhost:8080/"
        },
        "id": "oUKKfVVS8JMR",
        "outputId": "67b0408d-4165-48a0-c864-17453830ae20"
      },
      "source": [
        "for ind in bd.index:\n",
        "  if(bd['Borrower'][ind]==\"\"):\n",
        "    bd['Borrower'][ind]=bd['Country'][ind]"
      ],
      "execution_count": null,
      "outputs": [
        {
          "output_type": "stream",
          "text": [
            "/usr/local/lib/python3.6/dist-packages/ipykernel_launcher.py:3: SettingWithCopyWarning: \n",
            "A value is trying to be set on a copy of a slice from a DataFrame\n",
            "\n",
            "See the caveats in the documentation: https://pandas.pydata.org/pandas-docs/stable/user_guide/indexing.html#returning-a-view-versus-a-copy\n",
            "  This is separate from the ipykernel package so we can avoid doing imports until\n"
          ],
          "name": "stderr"
        }
      ]
    },
    {
      "cell_type": "code",
      "metadata": {
        "id": "GTmI4c1y8zya"
      },
      "source": [
        "bd['Guarantor']=bd['Guarantor'].fillna('')"
      ],
      "execution_count": null,
      "outputs": []
    },
    {
      "cell_type": "code",
      "metadata": {
        "colab": {
          "base_uri": "https://localhost:8080/"
        },
        "id": "tJZI-iOE9mh1",
        "outputId": "57e758eb-5dfa-415d-dedf-642ffaa4cc3f"
      },
      "source": [
        "for ind in bd.index:\n",
        "  if(bd['Guarantor'][ind]==\"\"):\n",
        "    bd['Guarantor'][ind]=bd['Country'][ind]"
      ],
      "execution_count": null,
      "outputs": [
        {
          "output_type": "stream",
          "text": [
            "/usr/local/lib/python3.6/dist-packages/ipykernel_launcher.py:3: SettingWithCopyWarning: \n",
            "A value is trying to be set on a copy of a slice from a DataFrame\n",
            "\n",
            "See the caveats in the documentation: https://pandas.pydata.org/pandas-docs/stable/user_guide/indexing.html#returning-a-view-versus-a-copy\n",
            "  This is separate from the ipykernel package so we can avoid doing imports until\n"
          ],
          "name": "stderr"
        }
      ]
    },
    {
      "cell_type": "code",
      "metadata": {
        "colab": {
          "base_uri": "https://localhost:8080/"
        },
        "id": "JCD_AVdT9_L6",
        "outputId": "389ed327-f3d4-43d4-fc9a-3553291aaa2c"
      },
      "source": [
        "bd['Guarantor'].isnull().sum()"
      ],
      "execution_count": null,
      "outputs": [
        {
          "output_type": "execute_result",
          "data": {
            "text/plain": [
              "0"
            ]
          },
          "metadata": {
            "tags": []
          },
          "execution_count": 29
        }
      ]
    },
    {
      "cell_type": "code",
      "metadata": {
        "colab": {
          "base_uri": "https://localhost:8080/"
        },
        "id": "Y96LoSlV-xPK",
        "outputId": "590b8455-68d6-4345-89b9-24b376ab08d9"
      },
      "source": [
        "np.unique(bd['Loan Type'])"
      ],
      "execution_count": null,
      "outputs": [
        {
          "output_type": "execute_result",
          "data": {
            "text/plain": [
              "array(['BLNC', 'BLNR', 'BLOAN', 'CPL', 'FSL', 'GUBF', 'GURB', 'Guarantee',\n",
              "       'IFC LOAN', 'IFCM', 'IFCT', 'NON POOL', 'NPL', 'POOL LOAN', 'SCL',\n",
              "       'SCP EUR', 'SCP JPY', 'SCP USD', 'SCPD', 'SCPM', 'SCPY',\n",
              "       'SNGL CRNCY'], dtype=object)"
            ]
          },
          "metadata": {
            "tags": []
          },
          "execution_count": 30
        }
      ]
    },
    {
      "cell_type": "code",
      "metadata": {
        "colab": {
          "base_uri": "https://localhost:8080/"
        },
        "id": "og2EFsex-57v",
        "outputId": "4c827b7f-286f-4f3a-bf97-bff459cc01e9"
      },
      "source": [
        "bd['Loan Type'].isnull().sum()"
      ],
      "execution_count": null,
      "outputs": [
        {
          "output_type": "execute_result",
          "data": {
            "text/plain": [
              "0"
            ]
          },
          "metadata": {
            "tags": []
          },
          "execution_count": 31
        }
      ]
    },
    {
      "cell_type": "code",
      "metadata": {
        "colab": {
          "base_uri": "https://localhost:8080/"
        },
        "id": "MtOkNuCG-_2R",
        "outputId": "4ead2339-5a7a-4b4b-f5b6-127916bdc311"
      },
      "source": [
        "np.unique(bd['Loan Status'])"
      ],
      "execution_count": null,
      "outputs": [
        {
          "output_type": "execute_result",
          "data": {
            "text/plain": [
              "array(['Approved', 'Cancelled', 'Disbursed', 'Disbursing',\n",
              "       'Disbursing&Repaying', 'Draft', 'Effective', 'Fully Cancelled',\n",
              "       'Fully Disbursed', 'Fully Repaid', 'Fully Transferred',\n",
              "       'Negotiated', 'Repaid', 'Repaying', 'Signed', 'Terminated'],\n",
              "      dtype=object)"
            ]
          },
          "metadata": {
            "tags": []
          },
          "execution_count": 32
        }
      ]
    },
    {
      "cell_type": "code",
      "metadata": {
        "colab": {
          "base_uri": "https://localhost:8080/"
        },
        "id": "kXrfyr4W_FmM",
        "outputId": "687c9f9e-b149-43af-d8f1-ad61ad3091d2"
      },
      "source": [
        "bd['Loan Status'].isnull().sum()"
      ],
      "execution_count": null,
      "outputs": [
        {
          "output_type": "execute_result",
          "data": {
            "text/plain": [
              "0"
            ]
          },
          "metadata": {
            "tags": []
          },
          "execution_count": 33
        }
      ]
    },
    {
      "cell_type": "code",
      "metadata": {
        "colab": {
          "base_uri": "https://localhost:8080/"
        },
        "id": "aIuDkhOa_I1f",
        "outputId": "68884839-707a-4e7d-af2e-64bf424bb134"
      },
      "source": [
        "bd['Interest Rate'].describe()"
      ],
      "execution_count": null,
      "outputs": [
        {
          "output_type": "execute_result",
          "data": {
            "text/plain": [
              "count    969426.000000\n",
              "mean          4.533406\n",
              "std           3.436251\n",
              "min           0.000000\n",
              "25%           0.580000\n",
              "50%           5.500000\n",
              "75%           7.250000\n",
              "max          17.000000\n",
              "Name: Interest Rate, dtype: float64"
            ]
          },
          "metadata": {
            "tags": []
          },
          "execution_count": 44
        }
      ]
    },
    {
      "cell_type": "code",
      "metadata": {
        "colab": {
          "base_uri": "https://localhost:8080/"
        },
        "id": "6JdPT7wB_RF4",
        "outputId": "cbc27c11-6c21-4528-b4b7-60e6666e024f"
      },
      "source": [
        "bd['Interest Rate'].isnull().sum()"
      ],
      "execution_count": null,
      "outputs": [
        {
          "output_type": "execute_result",
          "data": {
            "text/plain": [
              "0"
            ]
          },
          "metadata": {
            "tags": []
          },
          "execution_count": 43
        }
      ]
    },
    {
      "cell_type": "code",
      "metadata": {
        "id": "iSehF5Ds_v-K"
      },
      "source": [
        "bd['Interest Rate']=bd['Interest Rate'].fillna(0)"
      ],
      "execution_count": null,
      "outputs": []
    },
    {
      "cell_type": "code",
      "metadata": {
        "id": "T2tJaYXD_5__"
      },
      "source": [
        ""
      ],
      "execution_count": null,
      "outputs": []
    }
  ]
}